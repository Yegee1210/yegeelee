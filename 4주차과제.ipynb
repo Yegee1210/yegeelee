{
  "nbformat": 4,
  "nbformat_minor": 0,
  "metadata": {
    "colab": {
      "name": "4주차과제.ipynb",
      "provenance": [],
      "authorship_tag": "ABX9TyMwO0x+ZlS0q0UQLDIsF0RX",
      "include_colab_link": true
    },
    "kernelspec": {
      "name": "python3",
      "display_name": "Python 3"
    }
  },
  "cells": [
    {
      "cell_type": "markdown",
      "metadata": {
        "id": "view-in-github",
        "colab_type": "text"
      },
      "source": [
        "<a href=\"https://colab.research.google.com/github/Yegee1210/yegeelee/blob/master/4%EC%A3%BC%EC%B0%A8%EA%B3%BC%EC%A0%9C.ipynb\" target=\"_parent\"><img src=\"https://colab.research.google.com/assets/colab-badge.svg\" alt=\"Open In Colab\"/></a>"
      ]
    },
    {
      "cell_type": "code",
      "metadata": {
        "id": "uTsidKm98EEX",
        "colab_type": "code",
        "colab": {}
      },
      "source": [
        "1. 용어 정리\n",
        "다음 제시된 단어의 정의(설명)를 정리하여 작성 하세요.\n",
        "\n",
        "2문장 이상 작성 해 주세요.\n",
        "주제(단어)와 크게 벗어나지만 않는다면 정답처리 됩니다.\n",
        "강의 뿐 아니라 기타 레퍼런스를 참고하여 작성하셔도 됩니다. (기타 레퍼런스를 참고하신 경우, 해당 레퍼런스를 정리하여 하단에 작성해 주세요.)\n",
        "(예시)\n",
        "\n",
        "MCP 뉴런\n",
        ":\n",
        "\n",
        "퍼셉트론\n",
        ":\n",
        "\n",
        "역전파\n",
        ":\n",
        "\n",
        "강화학습\n",
        ":\n",
        "\n",
        "과적합\n",
        ":\n",
        "\n",
        "차원의 저주\n",
        ":"
      ],
      "execution_count": 0,
      "outputs": []
    },
    {
      "cell_type": "markdown",
      "metadata": {
        "id": "9PnMgKoR8iOX",
        "colab_type": "text"
      },
      "source": [
        "2. 딥러닝 강의 클론 코딩\n",
        "퍼셉트론 구조 구현하기\n",
        "딥러닝 강의(딥러닝 원리[1] 3:15 ~ 5:15 부분)를 보고 코드를 따라 치며 출력 결과를 만드세요.\n",
        "\n",
        "하나의 코드셀에 해당 코드를 한번에 다 적어서 실행해주세요 (그렇게 하지 않을 경우, 아래 이미지와 같은 출력값이 나오지 않을 수 있습니다)\n",
        "*주의! 실제로 코딩해서 출력해보면 강의에 나온 출력 결과와 다르게 나옵니다!!"
      ]
    },
    {
      "cell_type": "code",
      "metadata": {
        "id": "yA_Mb6SK97fP",
        "colab_type": "code",
        "colab": {}
      },
      "source": [
        ""
      ],
      "execution_count": 0,
      "outputs": []
    },
    {
      "cell_type": "code",
      "metadata": {
        "id": "1YZSEqnl8EtZ",
        "colab_type": "code",
        "colab": {}
      },
      "source": [
        ""
      ],
      "execution_count": 0,
      "outputs": []
    },
    {
      "cell_type": "markdown",
      "metadata": {
        "id": "Wp11Q6yA8oZp",
        "colab_type": "text"
      },
      "source": [
        "3. 딥러닝 순전파 & 역전파 계산\n",
        "딥러닝 강의(딥러닝 원리[2] 0:55 ~ 4:32 부분)에 나오는 순전파 & 역전파 계산에 대한 문제 입니다.\n",
        "\n",
        "해당 영상과 다음 이미지를 참고하여 다음 2가지 물음에 답하세요.\n",
        "\n",
        "(1) 학습률이 0.2 일 경우 출력층의 노드값\n",
        "\n",
        "(2) 학습률이 0.1과 0.2 중 기대출력값이 지도데이터 \"3\"과 더 가까운 학습률은?\n"
      ]
    },
    {
      "cell_type": "markdown",
      "metadata": {
        "id": "tr7gB9Hk9um8",
        "colab_type": "text"
      },
      "source": [
        "(1) 학습률이 0.2 일 경우 출력층의 노드값 :\n",
        "(2) 학습률이 0.1과 0.2 중 기대출력값이 지도데이터 \"3\"과 더 가까운 학습률은? :\n"
      ]
    },
    {
      "cell_type": "code",
      "metadata": {
        "id": "SJ5qwGBN96HP",
        "colab_type": "code",
        "colab": {}
      },
      "source": [
        ""
      ],
      "execution_count": 0,
      "outputs": []
    }
  ]
}