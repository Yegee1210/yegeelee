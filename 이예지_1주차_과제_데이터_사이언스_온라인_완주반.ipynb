{
  "nbformat": 4,
  "nbformat_minor": 0,
  "metadata": {
    "colab": {
      "name": "이예지 - 1주차 과제 - 데이터 사이언스 온라인 완주반.ipynb",
      "provenance": [],
      "collapsed_sections": [],
      "include_colab_link": true
    },
    "kernelspec": {
      "name": "python3",
      "display_name": "Python 3"
    }
  },
  "cells": [
    {
      "cell_type": "markdown",
      "metadata": {
        "id": "view-in-github",
        "colab_type": "text"
      },
      "source": [
        "<a href=\"https://colab.research.google.com/github/Yegee1210/yegeelee/blob/master/%EC%9D%B4%EC%98%88%EC%A7%80_1%EC%A3%BC%EC%B0%A8_%EA%B3%BC%EC%A0%9C_%EB%8D%B0%EC%9D%B4%ED%84%B0_%EC%82%AC%EC%9D%B4%EC%96%B8%EC%8A%A4_%EC%98%A8%EB%9D%BC%EC%9D%B8_%EC%99%84%EC%A3%BC%EB%B0%98.ipynb\" target=\"_parent\"><img src=\"https://colab.research.google.com/assets/colab-badge.svg\" alt=\"Open In Colab\"/></a>"
      ]
    },
    {
      "cell_type": "markdown",
      "metadata": {
        "id": "ctxghwjGMH98",
        "colab_type": "text"
      },
      "source": [
        "# 1주차 과제 - Python\n",
        "\n",
        "이 서비스는 Jupyter Notebook 과 비슷한 기능을 갖고 있는 Python 코드를 바로 실행하실 수 있는 Google Collaboratory 입니다.\n",
        "\n",
        "문제를 잘 읽고 Python 코드가 있는 곳에 느낌표 3개 (!!!) 표시가 있는 곳에 문제와 관련된 코드를 작성해주세요."
      ]
    },
    {
      "cell_type": "markdown",
      "metadata": {
        "id": "C73aTqaR5Tp2",
        "colab_type": "text"
      },
      "source": [
        "## 참고 : 반복문(특히 while) 을 작성하시다가 무한 루프가 발생하면\n",
        "\n",
        "코드를 실행 하셨다가 코드가 오랫동안 멈추지 않는 경우엔 아래 방법대로 진행해주세요. \n",
        "- Colab\n",
        "  - 상단 메뉴에 '런타임' -> '실행 중단' 을 눌러주세요. (단축키 ctrl + M, I)\n",
        "  - 단축키가 작동되지 않으면 '런타임' -> '실행 중단' 을 눌러도 됩니다.\n",
        "- Jupyter Notebook/Lab\n",
        "  - esc 키를 누릅니다.\n",
        "  - 키보드 i 를 두 번 누릅니다."
      ]
    },
    {
      "cell_type": "markdown",
      "metadata": {
        "colab_type": "text",
        "id": "qnQSO49ku2ra"
      },
      "source": [
        "### 1. 전화번호에서 지역번호만 가져오기\n",
        "(10 점)\n",
        "\n",
        "아래 tel 이라는 변수에 전화번호가 저장되어 있습니다. 여기에서 **인덱스 값**을 활용하여 지역번호만 code 라는 변수에 저장하는 코드를 작성해주세요."
      ]
    },
    {
      "cell_type": "code",
      "metadata": {
        "colab_type": "code",
        "id": "Qw-OtX_kvH90",
        "colab": {
          "base_uri": "https://localhost:8080/",
          "height": 34
        },
        "outputId": "dfcb2b09-140e-42c9-d625-1f7ec5dd23e4"
      },
      "source": [
        "tel = \"031-1111-2222\"\n",
        "\n",
        "# 아래 코드를 완성해주세요.\n",
        "# 코드 일부분을 입력해놓았습니다. 활용하셔도 되고 혹은 지우고 원하는 방법으로 만들어보세요.\n",
        "code = tel[:3]\n",
        "\n",
        "# 결과를 확인해보는 코드입니다. \n",
        "print(code)"
      ],
      "execution_count": null,
      "outputs": [
        {
          "output_type": "stream",
          "text": [
            "031\n"
          ],
          "name": "stdout"
        }
      ]
    },
    {
      "cell_type": "markdown",
      "metadata": {
        "colab_type": "text",
        "id": "vzNYO1cXy0go"
      },
      "source": [
        "### 2. 반대로 순서를 뒤집기\n",
        "(10 점)\n",
        "\n",
        "order 라는 변수에 1,2,3,4,5,6,7,8,9 문자열이 저장되어 있습니다. 이를 거꾸로 출력하는 코드를 작성해주세요. \n",
        "\n",
        "**반드시 인덱스 기능을 활용해야 합니다.**"
      ]
    },
    {
      "cell_type": "code",
      "metadata": {
        "colab_type": "code",
        "id": "fkdXf_nCy1XW",
        "colab": {
          "base_uri": "https://localhost:8080/",
          "height": 35
        },
        "outputId": "af5ea8c5-ed61-450c-847d-0a61faf07c6d"
      },
      "source": [
        "order = \"1,2,3,4,5,6,7,8,9\"\n",
        "# 아래에 코드를 완성해주세요.\n",
        "# 코드 일부분을 입력해놓았습니다. 활용하셔도 되고 혹은 지우고 원하는 방법으로 만들어보세요.\n",
        "order[::-1]\n",
        "\n",
        "# 결과를 확인해보는 코드입니다."
      ],
      "execution_count": null,
      "outputs": [
        {
          "output_type": "execute_result",
          "data": {
            "application/vnd.google.colaboratory.intrinsic+json": {
              "type": "string"
            },
            "text/plain": [
              "'9,8,7,6,5,4,3,2,1'"
            ]
          },
          "metadata": {
            "tags": []
          },
          "execution_count": 17
        }
      ]
    },
    {
      "cell_type": "markdown",
      "metadata": {
        "id": "M2CnSSMdcjP4",
        "colab_type": "text"
      },
      "source": [
        "### 3. 리스트에서 가장 마지막 값을 뽑아내기(마지막 값은 뽑은 후 삭제되도록)\n",
        "(10 점)\n",
        "\n",
        "노트북을 구매하기 위해 4개의 제품을 선택했고 이를 리스트에 저장했습니다.\n",
        "\n",
        "products = [\"A\", \"B\", \"C\", \"D\"]\n",
        "\n",
        "여기에서 리스트에 있는 **함수**를 활용하여 가장 마지막 제품을 하나 뽑아서 c 라는 변수에 저장해주세요."
      ]
    },
    {
      "cell_type": "code",
      "metadata": {
        "id": "y2Pr7aC0gfF6",
        "colab_type": "code",
        "colab": {
          "base_uri": "https://localhost:8080/",
          "height": 53
        },
        "outputId": "5e3570a9-1b3a-45f3-c89a-a6fbaa5d956a"
      },
      "source": [
        "products = [\"A\", \"B\", \"C\", \"D\"]\n",
        "# 아래에 코드를 완성해주세요.\n",
        "c=products[-1]\n",
        "products.pop()\n",
        "# 코드 일부분을 입력해놓았습니다. 활용하셔도 되고 혹은 지우고 원하는 방법으로 만들어보세요.\n",
        "print(c)\n",
        "print(products)"
      ],
      "execution_count": null,
      "outputs": [
        {
          "output_type": "stream",
          "text": [
            "D\n",
            "['A', 'B', 'C']\n"
          ],
          "name": "stdout"
        }
      ]
    },
    {
      "cell_type": "markdown",
      "metadata": {
        "colab_type": "text",
        "id": "LIUHCxGwcLYF"
      },
      "source": [
        "### 4. 형변환\n",
        "(10 점)\n",
        "\n",
        "아래 4개의 변수에는 각각 설문 응답여부를 1(응답), 0(미응답) 형태로 저장되어 있습니다.\n",
        "이를 boolean 타입을 변경하려 합니다. 형변환을 통해 boolean 타입으로 같은 이름의 변수에 덮어써주세요.\n",
        "\n",
        "즉 1(응답) 이면 True, 0(미응답) 은 False 로 출력 해주세요.\n",
        "\n"
      ]
    },
    {
      "cell_type": "code",
      "metadata": {
        "colab_type": "code",
        "id": "PpuKfTfhaw9G",
        "colab": {
          "base_uri": "https://localhost:8080/",
          "height": 87
        },
        "outputId": "5d9b6624-e0fb-4e76-9917-b936ef6c8321"
      },
      "source": [
        "# 아래 4줄 코드는 수정하지 마세요.\n",
        "check1 = 1\n",
        "check2 = 0\n",
        "check3 = 0\n",
        "check4 = 1\n",
        "# 아래에 코드를 작성해주세요. \n",
        "print(\"check1:\",bool(check1))\n",
        "print(\"check2:\",bool(check2))\n",
        "print(\"check3:\",bool(check3))\n",
        "print(\"check4:\",bool(check4))"
      ],
      "execution_count": null,
      "outputs": [
        {
          "output_type": "stream",
          "text": [
            "check1: True\n",
            "check2: False\n",
            "check3: False\n",
            "check4: True\n"
          ],
          "name": "stdout"
        }
      ]
    },
    {
      "cell_type": "markdown",
      "metadata": {
        "colab_type": "text",
        "id": "1CctPnWBi6o5"
      },
      "source": [
        "### 5. 나이에 따른 버스 요금\n",
        "(10 점)\n",
        "\n",
        "사용자에게 나이(변수명 : age)를 입력받은 후, 아래의 운임요금(변수명 : fare) 기준에 맞게 버스 요금을 계산해주세요.\n",
        "\n",
        "- 7세 이하 : 0원\n",
        "- 8세 이상 ~ 20세 이하 : 700원\n",
        "- 21세 이상 : 1200원\n",
        "\n",
        "참고 : 변수명은 예시이며 Python 변수명 규칙에 따라 자유롭게 작성하시면 됩니다.\n"
      ]
    },
    {
      "cell_type": "code",
      "metadata": {
        "colab_type": "code",
        "id": "3f_ud59eisE4",
        "colab": {
          "base_uri": "https://localhost:8080/",
          "height": 53
        },
        "outputId": "a1f11d67-e34b-443a-d1a0-f88fe81726c4"
      },
      "source": [
        "age=int(input(\"나이를 입력하세요\")) \n",
        "if age<=7: \n",
        "  print(\"0원\")\n",
        "elif age<=20: \n",
        "  print(\"700원\")\n",
        "else: \n",
        "  print(\"1200원\")\n"
      ],
      "execution_count": null,
      "outputs": [
        {
          "output_type": "stream",
          "text": [
            "나이를 입력하세요21\n",
            "1200원\n"
          ],
          "name": "stdout"
        }
      ]
    },
    {
      "cell_type": "markdown",
      "metadata": {
        "id": "XoALAT15M2nh",
        "colab_type": "text"
      },
      "source": [
        "### 6. 4번째 고객마다 상품권 증정 \n",
        "\n",
        "(10 점)\n",
        "\n",
        "방문하는 고객 중 5번째 마다 상품권을 증정( status = \"상품권 증정\" ) 하는 코드를 작성해주세요."
      ]
    },
    {
      "cell_type": "code",
      "metadata": {
        "id": "bHxCD-woK00t",
        "colab_type": "code",
        "colab": {
          "base_uri": "https://localhost:8080/",
          "height": 917
        },
        "outputId": "3cd3389c-8e32-4406-ae93-52baf8635915"
      },
      "source": [
        "# 여기에 코드를 작성해주세요.\n",
        "index=1\n",
        "while index <= 50:\n",
        "    if index%5==0:\n",
        "        print(\"count:{0}번째 손님 상품권 증정\".format(index))\n",
        "    else:\n",
        "        print(\"count:{0}번째 손님 증정 없음\".format(index))\n",
        "    index += 1\n",
        "\n",
        "    #  while  무한 루프로 돌아가  50번 숫자 제한을 추가함 "
      ],
      "execution_count": null,
      "outputs": [
        {
          "output_type": "stream",
          "text": [
            "count:1번째 손님 증정 없음\n",
            "count:2번째 손님 증정 없음\n",
            "count:3번째 손님 증정 없음\n",
            "count:4번째 손님 증정 없음\n",
            "count:5번째 손님 상품권 증정\n",
            "count:6번째 손님 증정 없음\n",
            "count:7번째 손님 증정 없음\n",
            "count:8번째 손님 증정 없음\n",
            "count:9번째 손님 증정 없음\n",
            "count:10번째 손님 상품권 증정\n",
            "count:11번째 손님 증정 없음\n",
            "count:12번째 손님 증정 없음\n",
            "count:13번째 손님 증정 없음\n",
            "count:14번째 손님 증정 없음\n",
            "count:15번째 손님 상품권 증정\n",
            "count:16번째 손님 증정 없음\n",
            "count:17번째 손님 증정 없음\n",
            "count:18번째 손님 증정 없음\n",
            "count:19번째 손님 증정 없음\n",
            "count:20번째 손님 상품권 증정\n",
            "count:21번째 손님 증정 없음\n",
            "count:22번째 손님 증정 없음\n",
            "count:23번째 손님 증정 없음\n",
            "count:24번째 손님 증정 없음\n",
            "count:25번째 손님 상품권 증정\n",
            "count:26번째 손님 증정 없음\n",
            "count:27번째 손님 증정 없음\n",
            "count:28번째 손님 증정 없음\n",
            "count:29번째 손님 증정 없음\n",
            "count:30번째 손님 상품권 증정\n",
            "count:31번째 손님 증정 없음\n",
            "count:32번째 손님 증정 없음\n",
            "count:33번째 손님 증정 없음\n",
            "count:34번째 손님 증정 없음\n",
            "count:35번째 손님 상품권 증정\n",
            "count:36번째 손님 증정 없음\n",
            "count:37번째 손님 증정 없음\n",
            "count:38번째 손님 증정 없음\n",
            "count:39번째 손님 증정 없음\n",
            "count:40번째 손님 상품권 증정\n",
            "count:41번째 손님 증정 없음\n",
            "count:42번째 손님 증정 없음\n",
            "count:43번째 손님 증정 없음\n",
            "count:44번째 손님 증정 없음\n",
            "count:45번째 손님 상품권 증정\n",
            "count:46번째 손님 증정 없음\n",
            "count:47번째 손님 증정 없음\n",
            "count:48번째 손님 증정 없음\n",
            "count:49번째 손님 증정 없음\n",
            "count:50번째 손님 상품권 증정\n"
          ],
          "name": "stdout"
        }
      ]
    },
    {
      "cell_type": "code",
      "metadata": {
        "id": "bLLgz0DnRGmw",
        "colab_type": "code",
        "colab": {
          "base_uri": "https://localhost:8080/",
          "height": 167
        },
        "outputId": "b6cc3b57-58b5-4dcb-a39b-74c990657ca5"
      },
      "source": [
        "# 출력 결과 예"
      ],
      "execution_count": null,
      "outputs": [
        {
          "output_type": "stream",
          "text": [
            "count : 1 , 증정하지 않음\n",
            "count : 4 , 증정하지 않음\n",
            "count : 5 , 상품권 증정\n",
            "count : 10 , 상품권 증정\n",
            "count : 15 , 상품권 증정\n",
            "count : 20 , 상품권 증정\n",
            "count : 8 , 증정하지 않음\n",
            "count : 7 , 증정하지 않음\n"
          ],
          "name": "stdout"
        }
      ]
    },
    {
      "cell_type": "markdown",
      "metadata": {
        "id": "xqzt3MvfJa1z",
        "colab_type": "text"
      },
      "source": [
        "### 7. Dictionary 에 계좌 잔액을 모두 더하는 코드 작성\n",
        "\n",
        "(10 점)\n",
        "\n",
        "accounts 라는 딕셔너리의 잔액 (value) 을 total 이라는 변수에 모두 더하여 출력해주세요.\n"
      ]
    },
    {
      "cell_type": "code",
      "metadata": {
        "id": "-UBEUlbFKU4w",
        "colab_type": "code",
        "colab": {
          "base_uri": "https://localhost:8080/",
          "height": 34
        },
        "outputId": "5de93886-3be2-41ec-a0b5-907d0a451eb7"
      },
      "source": [
        "accounts = {\"A계좌\": 2322000, \"B계좌\": 34443000, \"C계좌\": 6888000}\n",
        "\n",
        "# 여기에 코드를 작성해주세요.\n",
        "total = sum(accounts.values())\n",
        "print(total)"
      ],
      "execution_count": null,
      "outputs": [
        {
          "output_type": "stream",
          "text": [
            "43653000\n"
          ],
          "name": "stdout"
        }
      ]
    },
    {
      "cell_type": "markdown",
      "metadata": {
        "id": "KzujwTCLGiBs",
        "colab_type": "text"
      },
      "source": [
        "### 8. List Comprehension 으로 코드 작성해보기\n",
        "\n",
        "(10 점)\n",
        "\n",
        "아래와 같이 리스트 요소 중에  '음수' 가 있다면 0 으로 바꿔주는 코드를 **List Comprehension** 으로 작성해보세요. (이외에 방법으로 구현하면 부분배점 5점)\n",
        "\n"
      ]
    },
    {
      "cell_type": "code",
      "metadata": {
        "id": "PcNxDpdAH0kh",
        "colab_type": "code",
        "colab": {
          "base_uri": "https://localhost:8080/",
          "height": 35
        },
        "outputId": "4bdca2ef-67a9-41bf-e3e8-6e36435c0af1"
      },
      "source": [
        "numbers = [100, 200, -100, -50, 400, 700]\n",
        "\n",
        "\n",
        "# 여기에 코드를 작성해주세요.\n",
        "results = [0 if data <= 0 else data\n",
        "         for data in numbers]\n",
        "\n",
        "print(results)\n",
        "\n"
      ],
      "execution_count": null,
      "outputs": [
        {
          "output_type": "stream",
          "text": [
            "[100, 200, 0, 0, 400, 700]\n"
          ],
          "name": "stdout"
        }
      ]
    },
    {
      "cell_type": "markdown",
      "metadata": {
        "colab_type": "text",
        "id": "wu6mICa-98r0"
      },
      "source": [
        "### 9. lambda 함수로 구현하기\n",
        "\n",
        "(10 점)\n",
        "\n",
        "아래 함수를 lambda 형식으로 구현해보세요. (이외에 방법으로 구현시 부분배점 5점)"
      ]
    },
    {
      "cell_type": "code",
      "metadata": {
        "colab_type": "code",
        "id": "wvMD7m8E5M_M",
        "colab": {
          "base_uri": "https://localhost:8080/",
          "height": 35
        },
        "outputId": "2600bb20-fddd-431f-bb8f-6fbb7c20592d"
      },
      "source": [
        "def add(num):\n",
        "  return num + 10\n",
        "\n",
        "print(add(5))"
      ],
      "execution_count": null,
      "outputs": [
        {
          "output_type": "stream",
          "text": [
            "15\n"
          ],
          "name": "stdout"
        }
      ]
    },
    {
      "cell_type": "code",
      "metadata": {
        "colab_type": "code",
        "id": "XzhTh3Zl-WnQ",
        "colab": {
          "base_uri": "https://localhost:8080/",
          "height": 35
        },
        "outputId": "74424c03-8323-4816-c112-d72dd482cca6"
      },
      "source": [
        "# 여기에 위 add 함수와 같은 기능을 하는 lambda 함수를 구현해보세요. \n",
        "add_lambda=lambda num: num+10\n",
        "print(add_lambda(5))"
      ],
      "execution_count": null,
      "outputs": [
        {
          "output_type": "stream",
          "text": [
            "15\n"
          ],
          "name": "stdout"
        }
      ]
    },
    {
      "cell_type": "markdown",
      "metadata": {
        "colab_type": "text",
        "id": "iDv2jACTPP4d"
      },
      "source": [
        "### 10. callback function 으로 계산기 만들기\n",
        "\n",
        "(10 점)\n",
        "\n",
        "지난 시간에 만들어 보았던 \"더하기\", \"곱하기\" 를 계산해주는 함수를 callback function 으로 구현해보세요.\n",
        "\n",
        "#### 코드\n",
        "```python\n",
        "def calc(option, num1 = 100, num2 = 100):\n",
        "\n",
        "  if option == \"더하기\":\n",
        "    total = num1 + num2\n",
        "  elif option == \"곱하기\":\n",
        "    total = num1 * num2\n",
        "  else:\n",
        "    total = 0\n",
        "\n",
        "  return total\n",
        "```\n",
        "\n",
        "#### callback function 으로 구현할 때 지켜야 할 사항\n",
        "1. \"더하기\" 는 add(), \"곱하기\" 는 mul() 라는 함수를 만듭니다.\n",
        "2. 실제 사용자가 더하기 혹은 곱하기 계산을 시키기 위해 사용할 함수 이름은 calc() 입니다.\n",
        "3. 위 샘플 함수내에 조건문에 else 는 무시합니다.\n",
        "4. 위 샘플 함수처럼 숫자값을 입력하지 않으면 기본적으로 각각 100 을 할당하게 해주세요.\n"
      ]
    },
    {
      "cell_type": "code",
      "metadata": {
        "colab_type": "code",
        "id": "gKQnUR3pQaK7",
        "colab": {}
      },
      "source": [
        "# 여기에 코드를 구현해주세요.\n",
        "\n",
        "def calc(func, num1=100, num2=100):\n",
        "    return func(num1, num2)\n",
        "def add(num1, num2):\n",
        "    return num1 + num2\n",
        "def mul(num1, num2):\n",
        "    return num1*num2"
      ],
      "execution_count": null,
      "outputs": []
    },
    {
      "cell_type": "code",
      "metadata": {
        "colab_type": "code",
        "id": "Fkv2-I4uQoXc",
        "colab": {
          "base_uri": "https://localhost:8080/",
          "height": 35
        },
        "outputId": "3fc57498-87f7-453d-fac2-ec1209362f90"
      },
      "source": [
        "# 코드 실행 예\n",
        "\n",
        "calc(add)"
      ],
      "execution_count": null,
      "outputs": [
        {
          "output_type": "execute_result",
          "data": {
            "text/plain": [
              "200"
            ]
          },
          "metadata": {
            "tags": []
          },
          "execution_count": 21
        }
      ]
    },
    {
      "cell_type": "code",
      "metadata": {
        "colab_type": "code",
        "id": "5Yu89EijQtvj",
        "colab": {
          "base_uri": "https://localhost:8080/",
          "height": 35
        },
        "outputId": "ee5603ef-5799-4a60-879d-8b14f1a93c79"
      },
      "source": [
        "# 코드 실행 예\n",
        "\n",
        "calc(mul, 3, 3)"
      ],
      "execution_count": null,
      "outputs": [
        {
          "output_type": "execute_result",
          "data": {
            "text/plain": [
              "9"
            ]
          },
          "metadata": {
            "tags": []
          },
          "execution_count": 22
        }
      ]
    }
  ]
}