{
  "nbformat": 4,
  "nbformat_minor": 0,
  "metadata": {
    "colab": {
      "name": "1주차 과제 20200521",
      "provenance": [],
      "authorship_tag": "ABX9TyO03FCuKHlad91U2mGjAhJq",
      "include_colab_link": true
    },
    "kernelspec": {
      "name": "python3",
      "display_name": "Python 3"
    }
  },
  "cells": [
    {
      "cell_type": "markdown",
      "metadata": {
        "id": "view-in-github",
        "colab_type": "text"
      },
      "source": [
        "<a href=\"https://colab.research.google.com/github/Yegee1210/yegeelee/blob/master/1%EC%A3%BC%EC%B0%A8_%EA%B3%BC%EC%A0%9C_20200521.ipynb\" target=\"_parent\"><img src=\"https://colab.research.google.com/assets/colab-badge.svg\" alt=\"Open In Colab\"/></a>"
      ]
    },
    {
      "cell_type": "markdown",
      "metadata": {
        "id": "dG7rayCCLW0w",
        "colab_type": "text"
      },
      "source": [
        "###### 인공지능사관학교 프리코스 과제 목차 \n",
        "================================================================================\n",
        "* 1주차 과제 (인공지능 사례분석)\n",
        "------------------------------------------\n",
        "### 1. 언어 \n",
        " \n",
        " + 인공지능 언어 방면으로 대표적인 기술은 번역이다. 그 중에서도 대표적인 번역인공지능은 구글이 있고 그 외에 네이버파파고와 삼성  S번역 등이있다. \n",
        " 그렇다면 우리는 인공지능 언어의 대표적인 구글 번역에 대해 알아보자.\n",
        "  >     > 우선, 구글 번역의 장점은 \n",
        "      - 단순히 주어 동사 목적어 단어 배열 순 번역 나열 아닌 문장의 의미를 최대한 전달함\n",
        "      -영어 외에도 다른 언어권 언어도 번역 해독률이 높음 \n",
        "      \n",
        "  >    > 그럼에도 불구하고 아직은 전문 번역가의 번역 실력을 따라 잡지는 못한다.\n",
        "      - 200자 이상 긴 장문일 경우, 오역률이 높음     \n",
        "\n",
        "  다음은 실제로 구글에서 긴 문장으로 번역을 해본 결과이다. 아래와 같이 많은 오역이 존재한다. \n",
        " * \" I have a dream that one day, down in Alabama, with its vicious racists, with its governor having his lips dripping with the words of \"interposition\" and \"nullification\", one day right there in Alabama little black boys and black girls will be able to join hands with little white boys and white girls as sisters and brothers. I have a dream today.\" *\n",
        "\n",
        "     ** 영어 -> 한국어 번역 **\n",
        "\n",
        " * \"나는 어느 날 알라바마에서 악의적 인 인종 차별 주의자들과 함께 총재가“개입”과“무작위”라는 말로 입술이 뚝뚝 떨어지는 것을 꿈꾸고있다. 자매와 형제로서 백인 소년과 백인 여자와 손을 잡을 수 있습니다. 오늘은 꿈이 있습니다.\" *\n",
        " \n",
        ">> 다음은 인공지능 번역에 대한 기사이다. \n",
        "[네이버](https://m.post.naver.com/viewer/postView.nhn?volumeNo=5708145&memberNo=11534881&vType=VERTICAL)\n",
        "![구글 파파고 이미지](https://www.google.com/search?q=%EA%B5%AC%EA%B8%80+%EB%B2%88%EC%97%AD+%EC%9D%B4%EB%AF%B8%EC%A7%80+&tbm=isch&ved=2ahUKEwiG2uWq__XpAhVSEHAKHfwhCjoQ2-cCegQIABAA&oq=%EA%B5%AC%EA%B8%80+%EB%B2%88%EC%97%AD+%EC%9D%B4%EB%AF%B8%EC%A7%80+&gs_lcp=CgNpbWcQAzIGCAAQCBAeMgYIABAIEB4yBggAEAgQHjoFCAAQsQM6AggAOgQIIxAnOgQIABAeOgYIABAFEB46BAgAEBg6BggAEAoQGFCa_wJYlZADYNGRA2gDcAB4AYABcYgB4g-SAQQxMS45mAEAoAEBqgELZ3dzLXdpei1pbWc&sclient=img&ei=xCngXoboOdKgwAP8w6jQAw&bih=969&biw=1920&rlz=1C1CHBD_koKR900KR900#imgrc=lpDliTWKRE4D3M)\n",
        "### 2. 음성\n",
        "\n",
        " + 음성인식 또한 2012년 마이크로소프트MS사가 음성인식 시스템의 성능을 극적으로 성능시킨 이후 , 오늘날 까지 꾸준히 발전하였다. 그 중에서 우리나라 현재 인공지능 음성서비스 방면에 예를 들면 롯데사의 AI 로봇 ** 샤롯(Charlotte) **이 있다.\n",
        ">    >  ** 샤롯 ** 은, AI쇼핑 어드바이져로서 고객이 원하는 질문이나. 더 나아가 고객이 원하는 물품을 데이터들을 기반으로 하여 추천해주는 기능을 가지고 있다. 다음은 샤롯의 주된 기능들이다.  \n",
        "- 텍스트 대화를 이해하고 답변 \n",
        "- 음성을 인식하고 답변\n",
        "- 이미지를 통해 유사상품을 서칭(Searching)\n",
        "- 고객의 온.오프라인 구매활동을 데이터 분석을 통하여 적합한 상품 추천\n",
        "- 소셜 미디어 검색과 분석을 통해 트랜드 파악 \n",
        ">> 샤롯 관련 기사 \n",
        "[네이버](https://blog.naver.com/ibm_korea/221504531163)\n",
        "![SK아리아](https://www.google.com/search?q=sk+%EC%95%84%EB%A6%AC%EC%95%84&tbm=isch&ved=2ahUKEwjwoNzk__XpAhWTAN4KHYOPBrAQ2-cCegQIABAA&oq=sk+%EC%95%84%EB%A6%AC%EC%95%84&gs_lcp=CgNpbWcQAzICCAA6BAgjECc6BAgAEBhQ0AtYhSFgsyZoAnAAeACAAWyIAYkHkgEDNS40mAEAoAEBqgELZ3dzLXdpei1pbWc&sclient=img&ei=PirgXvCJGpOB-AaDn5qACw&bih=969&biw=1920&rlz=1C1CHBD_koKR900KR900#imgrc=_FP9s3bH_H6KWM)\n",
        "### 3.이미지\n",
        "+ 인공지능의 이미지는 무엇보다도 우리가 원하는 이미지가 고양이인지 호랑이인지 정확하게 구별하는 것이 관건일 것이다. 이는 딥러닝 기술의 발달로 놀라운 정확성을 구현하고 있다. 현재 이 기술의 발전 된 모델로 앞으로 공항에서 AI보안요원을 볼 수 있다고 한다. 단순한 이미지를 구별해내는 것이 뿐 아니라. 사람이 일일히 눈으로 확인하였던 것들을 이 AI보안요원이 판별하여 수화물의 위험한 물건을 감지 할 수 있는 것이다. \n",
        "\n",
        "[AI공항보완요원 관련 기사 ](https://blog.naver.com/smilehsm/221965293193)\n",
        "![착각하기 쉬운 이미지들](https://www.insight.co.kr/newsRead.php?ArtNo=53846)\n",
        "\n",
        "### 4, 자율주행 \n",
        "+ 공항에서 출국장이나 입국장에 흔히 볼 수 있는 로봇이 바로 이  AI안내 로봇이다. 안내로봇은 한국 여행이 처음인 외국인이나 공항이 익숙하지 않은 한국인들에게 친절한 정보들을 제공한다. 또한, 여러 사람들의 이동이 많은 특성을 가진 공항인만큼 사람들의 안전을 위해 이 AI안내로봇은 공항의 시설물이나 사람들을 피하며 자율주행을 한다. \n",
        " ![자율주행사진](https://www.google.com/search?q=%EC%9E%90%EC%9C%A8%EC%A3%BC%ED%96%89%EC%9E%90%EB%8F%99%EC%B0%A8&tbm=isch&ved=2ahUKEwjv1-3d_fXpAhXSAJQKHei2CkkQ2-cCegQIABAA&oq=%EC%9E%90&gs_lcp=CgNpbWcQARgAMgQIIxAnMgUIABCxAzIFCAAQsQMyBQgAELEDMgIIADIFCAAQsQMyAggAMgUIABCxAzIFCAAQsQMyAggAUMuCGlishBpgqpYaaABwAHgAgAFliAHJAZIBAzAuMpgBAKABAaoBC2d3cy13aXotaW1n&sclient=img&ei=FyjgXq_wCdKB0ATo7arIBA&bih=969&biw=1920&rlz=1C1CHBD_koKR900KR900#imgrc=rnZVlFjpXDn-MM))\n",
        "[>>LG전자 로봇청소기 관련 기사](http://www.wowtv.co.kr/NewsCenter/News/Read?articleId=A201712110034&resource=)"
      ]
    },
    {
      "cell_type": "code",
      "metadata": {
        "id": "SpDWFwnb5LND",
        "colab_type": "code",
        "colab": {}
      },
      "source": [
        ""
      ],
      "execution_count": 0,
      "outputs": []
    },
    {
      "cell_type": "markdown",
      "metadata": {
        "id": "kgfAi6wXLWPR",
        "colab_type": "text"
      },
      "source": [
        "\n"
      ]
    }
  ]
}