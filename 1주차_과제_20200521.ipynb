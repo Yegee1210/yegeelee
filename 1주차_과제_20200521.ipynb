{
  "nbformat": 4,
  "nbformat_minor": 0,
  "metadata": {
    "colab": {
      "name": "1주차 과제 20200521",
      "provenance": [],
      "authorship_tag": "ABX9TyMtSmH/PX+A8lmkwhrDjvy3",
      "include_colab_link": true
    },
    "kernelspec": {
      "name": "python3",
      "display_name": "Python 3"
    }
  },
  "cells": [
    {
      "cell_type": "markdown",
      "metadata": {
        "id": "view-in-github",
        "colab_type": "text"
      },
      "source": [
        "<a href=\"https://colab.research.google.com/github/Yegee1210/yegeelee/blob/master/1%EC%A3%BC%EC%B0%A8_%EA%B3%BC%EC%A0%9C_20200521.ipynb\" target=\"_parent\"><img src=\"https://colab.research.google.com/assets/colab-badge.svg\" alt=\"Open In Colab\"/></a>"
      ]
    },
    {
      "cell_type": "code",
      "metadata": {
        "id": "9Mx0xAPTLV0e",
        "colab_type": "code",
        "colab": {}
      },
      "source": [
        "[인공지능 사례 분석](https://colab.research.google.com/github/Yegee1210/yegeelee/blob/master/1%EC%A3%BC%EC%B0%A8_%EA%B3%BC%EC%A0%9C_20200521.ipynb#scrollTo=9Mx0xAPTLV0e)"
      ],
      "execution_count": 0,
      "outputs": []
    },
    {
      "cell_type": "markdown",
      "metadata": {
        "id": "dG7rayCCLW0w",
        "colab_type": "text"
      },
      "source": [
        "######인공지능사관학교 프리코스 과제 목차 \n",
        "(1주차과제)\n",
        "1. 언어 \n",
        "[네이버](https://m.post.naver.com/viewer/postView.nhn?volumeNo=5708145&memberNo=11534881&vType=VERTICAL)\n",
        "2. 음성\n",
        "[네이버](https://blog.naver.com/ibm_korea/221504531163)\n",
        "3.이미지\n",
        "[네이버](https://blog.naver.com/smilehsm/221965293193)\n",
        "\n",
        "4, 자율주행 \n",
        "[네이버](https://mk.co.kr/news/business/view/2018/12/794282/)"
      ]
    },
    {
      "cell_type": "markdown",
      "metadata": {
        "id": "kgfAi6wXLWPR",
        "colab_type": "text"
      },
      "source": [
        "\n"
      ]
    }
  ]
}