{
  "nbformat": 4,
  "nbformat_minor": 0,
  "metadata": {
    "colab": {
      "name": "예지 광주파이썬 실습 .ipynb",
      "provenance": [],
      "authorship_tag": "ABX9TyO9AwyqThEJfW1k9YDjdD0d",
      "include_colab_link": true
    },
    "kernelspec": {
      "name": "python3",
      "display_name": "Python 3"
    }
  },
  "cells": [
    {
      "cell_type": "markdown",
      "metadata": {
        "id": "view-in-github",
        "colab_type": "text"
      },
      "source": [
        "<a href=\"https://colab.research.google.com/github/Yegee1210/yegeelee/blob/master/%EC%98%88%EC%A7%80_%EA%B4%91%EC%A3%BC%ED%8C%8C%EC%9D%B4%EC%8D%AC_%EC%8B%A4%EC%8A%B5_.ipynb\" target=\"_parent\"><img src=\"https://colab.research.google.com/assets/colab-badge.svg\" alt=\"Open In Colab\"/></a>"
      ]
    },
    {
      "cell_type": "code",
      "metadata": {
        "id": "zL__PZiy00xC",
        "colab_type": "code",
        "colab": {
          "base_uri": "https://localhost:8080/",
          "height": 233
        },
        "outputId": "ecc062a0-cfeb-4f05-ae19-c0bd2d588db0"
      },
      "source": [
        "from Yegee import Email\n",
        "\n",
        "e= Email()\n",
        "e.sender=\"yegeeebear@naver.com\" \n",
        "recv_list=[\"ggygv7@hanmail.net\",\"yegeebear1210@hanmail.net\"] \n",
        "\n",
        "for recv in recv_list:\n",
        "  e.send_mail(recv, \"어서오세요.\", \"파이썬 공부 시작하는 것을 축하드립니다. \")"
      ],
      "execution_count": null,
      "outputs": [
        {
          "output_type": "stream",
          "text": [
            "From:\tyegeeebear@naver.com\n",
            "To:\tggygv7@hanmail.net\n",
            "subject:어서오세요.\n",
            "contents\n",
            "파이썬 공부 시작하는 것을 축하드립니다. \n",
            "----------------------------------------\n",
            "From:\tyegeeebear@naver.com\n",
            "To:\tyegeebear1210@hanmail.net\n",
            "subject:어서오세요.\n",
            "contents\n",
            "파이썬 공부 시작하는 것을 축하드립니다. \n",
            "----------------------------------------\n"
          ],
          "name": "stdout"
        }
      ]
    },
    {
      "cell_type": "code",
      "metadata": {
        "id": "iMls0BWAw3Ry",
        "colab_type": "code",
        "colab": {
          "base_uri": "https://localhost:8080/",
          "height": 235
        },
        "outputId": "20905651-b699-49cb-d089-12d93b2dc24f"
      },
      "source": [
        "from Yegee import Email \n",
        "e=Email()\n",
        "e.sender=\"yegeeebear@naver.com\"\n",
        "recv_list=[\"ggygv7@hanmail.net\", \"yegeebear1210@hanmail.net\"]\n",
        "for recv in recv_list:\n",
        "  e.send_mail(recv, \"어서오세요\", \"파이썬은 라이브러리가 다양합니다. \")"
      ],
      "execution_count": 2,
      "outputs": [
        {
          "output_type": "stream",
          "text": [
            "From:\tyegeeebear@naver.com\n",
            "To:\tggygv7@hanmail.net\n",
            "subject:어서오세요\n",
            "contents\n",
            "파이썬은 라이브러리가 다양합니다. \n",
            "----------------------------------------\n",
            "From:\tyegeeebear@naver.com\n",
            "To:\tyegeebear1210@hanmail.net\n",
            "subject:어서오세요\n",
            "contents\n",
            "파이썬은 라이브러리가 다양합니다. \n",
            "----------------------------------------\n"
          ],
          "name": "stdout"
        }
      ]
    }
  ]
}