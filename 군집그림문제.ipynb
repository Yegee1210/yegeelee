{
  "nbformat": 4,
  "nbformat_minor": 0,
  "metadata": {
    "colab": {
      "name": "군집그림문제.ipynb",
      "provenance": [],
      "authorship_tag": "ABX9TyPi15SvSA1zXFWyjUz2XSTl",
      "include_colab_link": true
    },
    "kernelspec": {
      "name": "python3",
      "display_name": "Python 3"
    }
  },
  "cells": [
    {
      "cell_type": "markdown",
      "metadata": {
        "id": "view-in-github",
        "colab_type": "text"
      },
      "source": [
        "<a href=\"https://colab.research.google.com/github/Yegee1210/yegeelee/blob/master/%EA%B5%B0%EC%A7%91%EA%B7%B8%EB%A6%BC%EB%AC%B8%EC%A0%9C.ipynb\" target=\"_parent\"><img src=\"https://colab.research.google.com/assets/colab-badge.svg\" alt=\"Open In Colab\"/></a>"
      ]
    },
    {
      "cell_type": "code",
      "metadata": {
        "id": "Ij0ZQj1GA0QS",
        "colab_type": "code",
        "colab": {
          "base_uri": "https://localhost:8080/",
          "height": 297
        },
        "outputId": "b7321e42-2da8-478b-e01c-9ce3884d313c"
      },
      "source": [
        "import numpy as np\n",
        "import matplotlib.pyplot as plt\n",
        "np.random.seed(123)\n",
        "x = np.random.random_sample([5,3])*10\n",
        "\n",
        "\n",
        "import pandas as pd\n",
        "variables = ['X','Y','Z']\n",
        "labels = ['ID_0','ID_1','ID_2','ID_3','ID_3']\n",
        "df = pd.DataFrame(x,columns=variables, index=labels)\n",
        "df\n",
        "from scipy.spatial.distance import pdist, squareform\n",
        "Y = pdist(df)\n",
        "Y\n",
        "\n",
        "row_dist = pd.DataFrame(squareform(pdist(df, metric='euclidean')), columns = labels, index = labels)\n",
        "from scipy.cluster.hierarchy import linkage\n",
        "row_clusters = linkage(pdist(df, metric='euclidean'), method = 'complete')\n",
        "pd.DataFrame(row_clusters, columns = ['row label 1','row label 2', 'distance','no. of items in clust.'],index= ['cluster %d' %(i+1) for i in range(row_clusters.shape[0])])\n",
        "\n",
        "import matplotlib.pyplot as plt\n",
        "from scipy.cluster.hierarchy import dendrogram\n",
        "row_dendr =  dendrogram(row_clusters, labels=labels)\n",
        "plt.tight_layout()\n",
        "plt.ylabel(\"Euclidean distance\")\n",
        "plt.show()\n",
        "\n",
        "\n"
      ],
      "execution_count": 10,
      "outputs": [
        {
          "output_type": "display_data",
          "data": {
            "image/png": "[encoded data removed]",
            "text/plain": [
              "<Figure size 432x288 with 1 Axes>"
            ]
          },
          "metadata": {
            "tags": [],
            "needs_background": "light"
          }
        }
      ]
    }
  ]
}