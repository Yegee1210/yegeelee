{
  "nbformat": 4,
  "nbformat_minor": 0,
  "metadata": {
    "colab": {
      "name": "예지자체 실습판.ipynb",
      "provenance": [],
      "authorship_tag": "ABX9TyNwTT03uchSAkWWs/KTJScG",
      "include_colab_link": true
    },
    "kernelspec": {
      "name": "python3",
      "display_name": "Python 3"
    }
  },
  "cells": [
    {
      "cell_type": "markdown",
      "metadata": {
        "id": "view-in-github",
        "colab_type": "text"
      },
      "source": [
        "<a href=\"https://colab.research.google.com/github/Yegee1210/yegeelee/blob/master/%EC%98%88%EC%A7%80%EC%9E%90%EC%B2%B4_%EC%8B%A4%EC%8A%B5%ED%8C%90.ipynb\" target=\"_parent\"><img src=\"https://colab.research.google.com/assets/colab-badge.svg\" alt=\"Open In Colab\"/></a>"
      ]
    },
    {
      "cell_type": "markdown",
      "metadata": {
        "id": "SLZw04Hz6q2Q",
        "colab_type": "text"
      },
      "source": [
        "##딕셔너리 "
      ]
    },
    {
      "cell_type": "code",
      "metadata": {
        "id": "AN-jbXDa4rsq",
        "colab_type": "code",
        "outputId": "b1e3180e-ad50-4457-f561-8bd4ad0ef9d4",
        "colab": {
          "base_uri": "https://localhost:8080/",
          "height": 71
        }
      },
      "source": [
        "apple={\"name\":\"어벤져스 앤드게임\", \"type\":\"SF 액션 히어로\"}\n",
        "print(apple)\n",
        "print(apple[\"name\"])\n",
        "print(apple[\"type\"])"
      ],
      "execution_count": 0,
      "outputs": [
        {
          "output_type": "stream",
          "text": [
            "{'name': '어벤져스 앤드게임', 'type': 'SF 액션 히어로'}\n",
            "어벤져스 앤드게임\n",
            "SF 액션 히어로\n"
          ],
          "name": "stdout"
        }
      ]
    },
    {
      "cell_type": "code",
      "metadata": {
        "id": "-IAVNNfF5LgZ",
        "colab_type": "code",
        "outputId": "19c113f9-b303-436e-cfa9-aa910513fa20",
        "colab": {
          "base_uri": "https://localhost:8080/",
          "height": 53
        }
      },
      "source": [
        "apple={\"name\":\"7D 건조망고\", \"type\":\"당절임\", \"ingredient\":[\"망고\", \"설탕\", \"메타종아황산나트륨\", \"치자황색소\"], \"orgin\":\"필리핀\"}\n",
        "print(apple)\n",
        "print(\"name\", apple[\"name\"])\n"
      ],
      "execution_count": 0,
      "outputs": [
        {
          "output_type": "stream",
          "text": [
            "{'name': '7D 건조망고', 'type': '당절임', 'ingredient': ['망고', '설탕', '메타종아황산나트륨', '치자황색소'], 'orgin': '필리핀'}\n",
            "name 7D 건조망고\n"
          ],
          "name": "stdout"
        }
      ]
    },
    {
      "cell_type": "code",
      "metadata": {
        "id": "Dqzk9u6M6T7I",
        "colab_type": "code",
        "outputId": "4ce2781c-dfc9-4dc7-a4b1-01ed992bc124",
        "colab": {
          "base_uri": "https://localhost:8080/",
          "height": 53
        }
      },
      "source": [
        "apple[\"name\"]=\"태국산 코코넛\"\n",
        "print(\"name\", apple[\"name\"])\n",
        "print(apple)"
      ],
      "execution_count": 0,
      "outputs": [
        {
          "output_type": "stream",
          "text": [
            "name 태국산 코코넛\n",
            "{'name': '태국산 코코넛', 'type': '당절임', 'ingredient': ['망고', '설탕', '메타종아황산나트륨', '치자황색소'], 'orgin': '필리핀'}\n"
          ],
          "name": "stdout"
        }
      ]
    },
    {
      "cell_type": "code",
      "metadata": {
        "id": "oK-TRJSI5Li1",
        "colab_type": "code",
        "outputId": "ea8dbcb4-306b-46a4-d367-1123b792fc68",
        "colab": {
          "base_uri": "https://localhost:8080/",
          "height": 35
        }
      },
      "source": [
        "apple[\"price:\"]=5000            #딕셔너리 요소 추가 \n",
        "print(apple)"
      ],
      "execution_count": 0,
      "outputs": [
        {
          "output_type": "stream",
          "text": [
            "{'name': '태국산 코코넛', 'type': '당절임', 'ingredient': ['망고', '설탕', '메타종아황산나트륨', '치자황색소'], 'orgin': '필리핀', 'price:': 5000}\n"
          ],
          "name": "stdout"
        }
      ]
    },
    {
      "cell_type": "code",
      "metadata": {
        "id": "AP10Z9nz5Lu_",
        "colab_type": "code",
        "outputId": "6651ce6f-4078-42d9-99f1-a772f9a475c6",
        "colab": {
          "base_uri": "https://localhost:8080/",
          "height": 35
        }
      },
      "source": [
        "del apple[\"ingredient\"]             #딕셔너리 요소 삭제 \n",
        "print(apple)"
      ],
      "execution_count": 0,
      "outputs": [
        {
          "output_type": "stream",
          "text": [
            "{'name': '태국산 코코넛', 'type': '당절임', 'orgin': '필리핀', 'price:': 5000}\n"
          ],
          "name": "stdout"
        }
      ]
    },
    {
      "cell_type": "code",
      "metadata": {
        "id": "D5zd_e1f5Lxu",
        "colab_type": "code",
        "outputId": "2e7b3174-cafd-4444-d64b-977157273c06",
        "colab": {
          "base_uri": "https://localhost:8080/",
          "height": 53
        }
      },
      "source": [
        "dag = input(\"접근하고자 하는 키 \")\n",
        "if dag in apple:\n",
        "  print(apple[dag])\n",
        "else :\n",
        "  print(\"존재하지 않은 키에 접근하고 있습니다. \")  "
      ],
      "execution_count": 0,
      "outputs": [
        {
          "output_type": "stream",
          "text": [
            "접근하고자 하는 키 [\"name\"]\n",
            "존재하지 않은 키에 접근하고 있습니다. \n"
          ],
          "name": "stdout"
        }
      ]
    },
    {
      "cell_type": "code",
      "metadata": {
        "id": "ATYTpxqm7zHo",
        "colab_type": "code",
        "outputId": "b4128506-baa3-4a79-a647-8c3c5e60949b",
        "colab": {
          "base_uri": "https://localhost:8080/",
          "height": 53
        }
      },
      "source": [
        "value=apple.get(\"제발 있는 값 좀 누르세요\")\n",
        "print(\"값\",value)\n",
        "if value == None: \n",
        "  print(\"없는 값을 눌렀습니다. \")"
      ],
      "execution_count": 0,
      "outputs": [
        {
          "output_type": "stream",
          "text": [
            "값 None\n",
            "없는 값을 눌렀습니다. \n"
          ],
          "name": "stdout"
        }
      ]
    },
    {
      "cell_type": "markdown",
      "metadata": {
        "id": "iwlsHz8Z8a_w",
        "colab_type": "text"
      },
      "source": [
        "## for 반복문과 딕셔너리 함께 사용하기 "
      ]
    },
    {
      "cell_type": "code",
      "metadata": {
        "id": "kYIxEmGJLHHl",
        "colab_type": "code",
        "outputId": "5fb65f25-011d-4ceb-f3bc-a90cd134328a",
        "colab": {
          "base_uri": "https://localhost:8080/",
          "height": 125
        }
      },
      "source": [
        "apple={\"naem\":\"트와이스\", \"type\":\"걸그룹\", \"컨셉\":\"유로피안팝\"}\n",
        "for value in apple: \n",
        "  print(value, \":\", apple[value])\n",
        "for key in apple: \n",
        "  print(key, \":\", apple[key]) "
      ],
      "execution_count": 0,
      "outputs": [
        {
          "output_type": "stream",
          "text": [
            "naem : 트와이스\n",
            "type : 걸그룹\n",
            "컨셉 : 유로피안팝\n",
            "naem : 트와이스\n",
            "type : 걸그룹\n",
            "컨셉 : 유로피안팝\n"
          ],
          "name": "stdout"
        }
      ]
    },
    {
      "cell_type": "code",
      "metadata": {
        "id": "dq4XWpyH5L_w",
        "colab_type": "code",
        "outputId": "2c574bf9-c6e4-4da5-9342-4a6d55117308",
        "colab": {
          "base_uri": "https://localhost:8080/",
          "height": 35
        }
      },
      "source": [
        "# 리스트 안에  중복 요소 몇개 있는지 \n",
        "apple=[1,2,3,4,56,7,5,4,33,7,10,44,1,45,100]\n",
        "counter={}\n",
        "for number in apple: \n",
        "  if number in counter:\n",
        "    counter[number]=counter[number]+1\n",
        "  else: \n",
        "    counter[number]=1  \n",
        "print(counter)    "
      ],
      "execution_count": 0,
      "outputs": [
        {
          "output_type": "stream",
          "text": [
            "{1: 2, 2: 1, 3: 1, 4: 2, 56: 1, 7: 2, 5: 1, 33: 1, 10: 1, 44: 1, 45: 1, 100: 1}\n"
          ],
          "name": "stdout"
        }
      ]
    },
    {
      "cell_type": "code",
      "metadata": {
        "id": "7oFNxPwY5MCo",
        "colab_type": "code",
        "outputId": "c2fa1623-058a-42fe-8526-e7580224d103",
        "colab": {
          "base_uri": "https://localhost:8080/",
          "height": 71
        }
      },
      "source": [
        "# 범위 range\n",
        "a= range(5)\n",
        "print(a)\n",
        "print(list(range(10)))      # 정수 0부터 10미만으이 범위를 리스트로 출력 \n",
        "print(list(range(0,15,3)))  #0부터 3씩 증가하는 15미만의 숫자 "
      ],
      "execution_count": 0,
      "outputs": [
        {
          "output_type": "stream",
          "text": [
            "range(0, 5)\n",
            "[0, 1, 2, 3, 4, 5, 6, 7, 8, 9]\n",
            "[0, 3, 6, 9, 12]\n"
          ],
          "name": "stdout"
        }
      ]
    },
    {
      "cell_type": "code",
      "metadata": {
        "id": "oopiXzGC5MFf",
        "colab_type": "code",
        "outputId": "ef9cf132-9f72-48f7-efeb-fbcbf4939d99",
        "colab": {
          "base_uri": "https://localhost:8080/",
          "height": 197
        }
      },
      "source": [
        "# for 반복문과 range , in 함꼐 사용\n",
        "for i in range(3): \n",
        "  print(str(i)+\"=반복변수\")\n",
        "for i in range(2,5):\n",
        "  print(str(i)) \n",
        "for i in range(0,10,3):\n",
        "   print(str(i), \":range함수와 for의 결합결과 \")"
      ],
      "execution_count": 0,
      "outputs": [
        {
          "output_type": "stream",
          "text": [
            "0=반복변수\n",
            "1=반복변수\n",
            "2=반복변수\n",
            "2\n",
            "3\n",
            "4\n",
            "0 :range함수와 for의 결합결과 \n",
            "3 :range함수와 for의 결합결과 \n",
            "6 :range함수와 for의 결합결과 \n",
            "9 :range함수와 for의 결합결과 \n"
          ],
          "name": "stdout"
        }
      ]
    },
    {
      "cell_type": "code",
      "metadata": {
        "id": "ZI_WYV415MIU",
        "colab_type": "code",
        "outputId": "11cba0c6-5877-474c-96bb-31b47b182cf6",
        "colab": {
          "base_uri": "https://localhost:8080/",
          "height": 287
        }
      },
      "source": [
        "# for 반복문과 리스트와  range  조합 \n",
        "apple=[232,787,595,454,7676]\n",
        "for element in apple: \n",
        "  print(element)   \n",
        "for i in range(len(apple)):\n",
        "  print(\"{}번쨰 반복:{}\".format(i, apple[i]))   ## 주의 프린트 할 떄 정의 안에 대괄호 사용 \n",
        "for i in reversed(range(5)):\n",
        "  print('현재 반복변수 역으로 큰 숫자부터:{}'.format(i))  "
      ],
      "execution_count": 0,
      "outputs": [
        {
          "output_type": "stream",
          "text": [
            "232\n",
            "787\n",
            "595\n",
            "454\n",
            "7676\n",
            "0번쨰 반복:232\n",
            "1번쨰 반복:787\n",
            "2번쨰 반복:595\n",
            "3번쨰 반복:454\n",
            "4번쨰 반복:7676\n",
            "현재 반복변수 역으로 큰 숫자부터:4\n",
            "현재 반복변수 역으로 큰 숫자부터:3\n",
            "현재 반복변수 역으로 큰 숫자부터:2\n",
            "현재 반복변수 역으로 큰 숫자부터:1\n",
            "현재 반복변수 역으로 큰 숫자부터:0\n"
          ],
          "name": "stdout"
        }
      ]
    },
    {
      "cell_type": "code",
      "metadata": {
        "id": "-_6oIRbF5MK-",
        "colab_type": "code",
        "outputId": "628cb591-193a-4ef8-d5a1-b1a5ac8bc65f",
        "colab": {
          "base_uri": "https://localhost:8080/",
          "height": 89
        }
      },
      "source": [
        "# while 반복문 : 무한정 반복 ( for는 특정 횟수만큼 반복)\n",
        "# 형식 : while True or Flase\n",
        "i=0        # 안 써줘도 무관, 안써져 있으면 0부터 시작함.\n",
        "while i < 5: \n",
        "  print(\"{}번쨰 반복문입니다.\".format(i))\n",
        "  i +=2    #결과문 0,2,4\n",
        "## while 해당 값 제거 \n",
        "apple = [1,5,5,7,8,9]\n",
        "dag=5\n",
        "\n",
        "while dag in apple: \n",
        "   apple.remove(dag)\n",
        "print(apple)   # 요소5만 제거 됨 "
      ],
      "execution_count": 0,
      "outputs": [
        {
          "output_type": "stream",
          "text": [
            "0번쨰 반복문입니다.\n",
            "2번쨰 반복문입니다.\n",
            "4번쨰 반복문입니다.\n",
            "[1, 7, 8, 9]\n"
          ],
          "name": "stdout"
        }
      ]
    },
    {
      "cell_type": "code",
      "metadata": {
        "id": "klgU6qlq5MOP",
        "colab_type": "code",
        "outputId": "39f1069c-5553-484c-ca5e-d46e6bc0a5ef",
        "colab": {
          "base_uri": "https://localhost:8080/",
          "height": 107
        }
      },
      "source": [
        "## break 키워드 \n",
        "i=0\n",
        "while True: \n",
        "  print(\"{}번쨰 반복입니다.\".format(i))\n",
        "  i = i +1\n",
        "  apple = input(\"종료하시겠습니까?:\")\n",
        "  if apple in [\"y\", \"Y\"]:\n",
        "    print(\"반복을 종료합니다.\")\n",
        "    break"
      ],
      "execution_count": 0,
      "outputs": [
        {
          "output_type": "stream",
          "text": [
            "0번쨰 반복입니다.\n",
            "종료하시겠습니까?:n\n",
            "1번쨰 반복입니다.\n",
            "종료하시겠습니까?:y\n",
            "반복을 종료합니다.\n"
          ],
          "name": "stdout"
        }
      ]
    },
    {
      "cell_type": "code",
      "metadata": {
        "id": "9-gQQxLyTVJ2",
        "colab_type": "code",
        "outputId": "12ff9cc3-0e46-4472-f5c1-e15720ed012a",
        "colab": {
          "base_uri": "https://localhost:8080/",
          "height": 71
        }
      },
      "source": [
        "## continue 키워드  \n",
        "apple = [12,50,454,2,7,1]\n",
        "for number in apple: \n",
        "  if number < 8:\n",
        "    continue\n",
        "  print(number)     # 즉, 8보다 큰 숫자만 출력함\n"
      ],
      "execution_count": 0,
      "outputs": [
        {
          "output_type": "stream",
          "text": [
            "12\n",
            "50\n",
            "454\n"
          ],
          "name": "stdout"
        }
      ]
    },
    {
      "cell_type": "code",
      "metadata": {
        "id": "gRk42pdpTVMf",
        "colab_type": "code",
        "outputId": "842fdc57-00e8-4449-dc90-0a6c78954643",
        "colab": {
          "base_uri": "https://localhost:8080/",
          "height": 35
        }
      },
      "source": [
        "######## 딕셔너리와 리스트, for, range 조랍 예제 (리스트를 딕셔너리 만들기 )\n",
        "apple = [\"name\", \"hp\", \"level\"]\n",
        "lemon = [\"기사\", 200,30,5]\n",
        "alpabet = {}\n",
        "for i in range(0, len(apple)): \n",
        "  alpabet[apple[i]]=lemon[i]\n",
        "print(alpabet) "
      ],
      "execution_count": 0,
      "outputs": [
        {
          "output_type": "stream",
          "text": [
            "{'name': '기사', 'hp': 200, 'level': 30}\n"
          ],
          "name": "stdout"
        }
      ]
    },
    {
      "cell_type": "code",
      "metadata": {
        "id": "9p8_YjYtTVOv",
        "colab_type": "code",
        "outputId": "bf9fe639-71f3-4828-ef12-83aaf02d51c5",
        "colab": {
          "base_uri": "https://localhost:8080/",
          "height": 35
        }
      },
      "source": [
        "### 연습문제 3번 \n",
        "limit = 200\n",
        "i=1\n",
        "sum_value=0\n",
        "while sum_value < limit:\n",
        "  sum_value +=i\n",
        "  i +=1\n",
        "print(\"{}를 더할 때 {}를 넘으면 그때의 값은 {}입니다.\".format(i-1, limit, sum_value))"
      ],
      "execution_count": 0,
      "outputs": [
        {
          "output_type": "stream",
          "text": [
            "20를 더할 때 200를 넘으면 그때의 값은 210입니다.\n"
          ],
          "name": "stdout"
        }
      ]
    },
    {
      "cell_type": "code",
      "metadata": {
        "id": "hpo5wTc7TVRr",
        "colab_type": "code",
        "outputId": "ca21065d-38c0-46f9-8934-5518560f357d",
        "colab": {
          "base_uri": "https://localhost:8080/",
          "height": 35
        }
      },
      "source": [
        "############################## 예제 1-100 숫자중 양 끝 자리를 곱했을 떄 최대 값이 되는 경우 \n",
        "max_value = 0 \n",
        "a=0\n",
        "b=0\n",
        "for i in range(1,100//2+1):\n",
        "  j=100-i\n",
        "  current = i*j\n",
        "if max_value < current:\n",
        "  a=i\n",
        "  b=j\n",
        "  max_value = current\n",
        "print(\"최대가 되는 경우 : {}*{}={}\".format(a, b, max_value))"
      ],
      "execution_count": 0,
      "outputs": [
        {
          "output_type": "stream",
          "text": [
            "최대가 되는 경우 : 50*50=2500\n"
          ],
          "name": "stdout"
        }
      ]
    },
    {
      "cell_type": "code",
      "metadata": {
        "id": "xuDJ48VhTVUz",
        "colab_type": "code",
        "outputId": "5313543d-a963-426b-be15-930c7abdfb00",
        "colab": {
          "base_uri": "https://localhost:8080/",
          "height": 215
        }
      },
      "source": [
        "## 현재 인덱스가 몇 번쨰인지 확인하기 : enumerate()\n",
        "for i, e in enumerate([5,3,7]):\n",
        "  print(i, \":\", e)\n",
        "  print()\n",
        "## 예제 )) 리스트에 적용할 수 있는 기본 함수 \n",
        "print (\"리스트에 적용할 수 있는 기본 함수::\")\n",
        "apple = [103,333,3,5,78]\n",
        "print(min(apple))\n",
        "print(max(apple))\n",
        "print(sum(apple))\n",
        "print(min(103,3,4,5))      #리스트를 사용하지 않고 직접 구하기     "
      ],
      "execution_count": 0,
      "outputs": [
        {
          "output_type": "stream",
          "text": [
            "0 : 5\n",
            "\n",
            "1 : 3\n",
            "\n",
            "2 : 7\n",
            "\n",
            "리스트에 적용할 수 있는 기본 함수::\n",
            "3\n",
            "333\n",
            "522\n",
            "3\n"
          ],
          "name": "stdout"
        }
      ]
    },
    {
      "cell_type": "code",
      "metadata": {
        "id": "7aSkOznZTVXr",
        "colab_type": "code",
        "outputId": "5d635232-e12e-41db-b662-ee66485553e0",
        "colab": {
          "base_uri": "https://localhost:8080/",
          "height": 107
        }
      },
      "source": [
        "## reversed() 함수 이용하여 리스트 뒤집기 \n",
        "apple=[2,65,78,45,54]\n",
        "apple_reversed=reversed(apple)\n",
        "for i in reversed(apple):\n",
        "  print(i)       ### 인덱스 순서대로 인덱스 순서 뒤집어서 그대로 출력 "
      ],
      "execution_count": 0,
      "outputs": [
        {
          "output_type": "stream",
          "text": [
            "54\n",
            "45\n",
            "78\n",
            "65\n",
            "2\n"
          ],
          "name": "stdout"
        }
      ]
    },
    {
      "cell_type": "code",
      "metadata": {
        "id": "HXdERMDTTVaB",
        "colab_type": "code",
        "outputId": "40638d62-7fd7-4894-9d25-cb13ef12c379",
        "colab": {
          "base_uri": "https://localhost:8080/",
          "height": 53
        }
      },
      "source": [
        "###### 리스트를 그대로 뒤집는 확장슬라이싱 \n",
        "apple=[1,2,3,4,5]\n",
        "print(apple[::-1])\n",
        "print(\"안녕하세요\"[::-1])"
      ],
      "execution_count": 0,
      "outputs": [
        {
          "output_type": "stream",
          "text": [
            "[5, 4, 3, 2, 1]\n",
            "요세하녕안\n"
          ],
          "name": "stdout"
        }
      ]
    },
    {
      "cell_type": "code",
      "metadata": {
        "id": "xeL9ia_hTVcQ",
        "colab_type": "code",
        "outputId": "1558015a-4de0-4fbe-dac1-bf7992711a97",
        "colab": {
          "base_uri": "https://localhost:8080/",
          "height": 179
        }
      },
      "source": [
        "#### 예제 \n",
        "apple = [\"사과\",\"레몬\", \"망고\"]\n",
        "i=0\n",
        "for item in apple: \n",
        "  print(\"{}번째 요소는 {}입니다.\".format(i,item))\n",
        "  i +=1\n",
        "\n",
        "### 위의 예제와 다른 방법, 같은 결과 \n",
        "for i in range(len(apple)):\n",
        "  print(\"{}번째 요소는 {}입니당당.\".format(i,apple[i]))\n",
        "\n",
        "#### enumerate() 함수를 사용한 위 예제 다른 방법, 같은 결과 \n",
        "for i, value in enumerate(apple): \n",
        "  print(\"{}번째 요소는 {}입니다당당당\".format(i, value))\n",
        "\n"
      ],
      "execution_count": 0,
      "outputs": [
        {
          "output_type": "stream",
          "text": [
            "0번째 요소는 사과입니다.\n",
            "1번째 요소는 레몬입니다.\n",
            "2번째 요소는 망고입니다.\n",
            "0번째 요소는 사과입니당당.\n",
            "1번째 요소는 레몬입니당당.\n",
            "2번째 요소는 망고입니당당.\n",
            "0번째 요소는 사과입니다당당당\n",
            "1번째 요소는 레몬입니다당당당\n",
            "2번째 요소는 망고입니다당당당\n"
          ],
          "name": "stdout"
        }
      ]
    },
    {
      "cell_type": "code",
      "metadata": {
        "id": "1nFSYFx6TVeP",
        "colab_type": "code",
        "outputId": "f5ab2111-8be9-445c-83f9-4d23505c4cf4",
        "colab": {
          "base_uri": "https://localhost:8080/",
          "height": 107
        }
      },
      "source": [
        "### 딕셔너리의 item()함수와 반복문 for \n",
        "apple = {\"NAEM\":\"8D 망고\", \"type\":\"젤리\", \"원산지\":\"필리핀\"}\n",
        "print(\"*****맛있는 망고 젤리 소개 할께요*****\")\n",
        "print(\"아이템():\", apple.items())\n",
        "\n",
        "#### 딕셔너리의 item()함수와 for 반복문 조합\n",
        "for key, value in apple.items():\n",
        "  print(\"키값{}=벨류값{}\".format(key, value))"
      ],
      "execution_count": 0,
      "outputs": [
        {
          "output_type": "stream",
          "text": [
            "*****맛있는 망고 젤리 소개 할께요*****\n",
            "아이템(): dict_items([('NAEM', '8D 망고'), ('type', '젤리'), ('원산지', '필리핀')])\n",
            "키값NAEM=벨류값8D 망고\n",
            "키값type=벨류값젤리\n",
            "키값원산지=벨류값필리핀\n"
          ],
          "name": "stdout"
        }
      ]
    },
    {
      "cell_type": "code",
      "metadata": {
        "id": "tjBMkW-PTVij",
        "colab_type": "code",
        "outputId": "c29dcb7d-cc80-44c7-a731-e9c9df56482a",
        "colab": {
          "base_uri": "https://localhost:8080/",
          "height": 35
        }
      },
      "source": [
        "###### 반복문을 사용한 리스트 생성 \n",
        "apple=[]\n",
        "for i in range(0,10,2):\n",
        "  apple.append(i*i)\n",
        "print(apple) "
      ],
      "execution_count": 0,
      "outputs": [
        {
          "output_type": "stream",
          "text": [
            "[0, 4, 16, 36, 64]\n"
          ],
          "name": "stdout"
        }
      ]
    },
    {
      "cell_type": "code",
      "metadata": {
        "id": "uP_RPT5TTVk9",
        "colab_type": "code",
        "outputId": "ff8900ca-f058-4ec5-c11e-b5f9afdb422f",
        "colab": {
          "base_uri": "https://localhost:8080/",
          "height": 35
        }
      },
      "source": [
        "apple=[\"사과\",\"복숭아\",\"자두\", \"수박\", \"체리\"]\n",
        "lemon=[fruit for fruit in apple if fruit != \"자두\"]\n",
        "print(lemon) # 리스트 형태로 자두 뺴고 출력 "
      ],
      "execution_count": 0,
      "outputs": [
        {
          "output_type": "stream",
          "text": [
            "['사과', '복숭아', '수박', '체리']\n"
          ],
          "name": "stdout"
        }
      ]
    },
    {
      "cell_type": "code",
      "metadata": {
        "id": "C0fZcu1NTVnS",
        "colab_type": "code",
        "colab": {
          "base_uri": "https://localhost:8080/",
          "height": 89
        },
        "outputId": "f4f437fd-55f4-47f8-ba2d-c4f9cea21c39"
      },
      "source": [
        "### join() 함수\n",
        "print(\":\".join([\"연필\", \"지우개\", \"자\", \"필통\", \"샤프심\"]))  \n",
        "###### reversed()함수와 이터레이터 ( 요소 하나씩 꺼내서 거꾸로 일렬로 출력)  \n",
        "apple = [1,2,3]\n",
        "lemon=reversed(apple)\n",
        "print(next(lemon))\n",
        "print(next(lemon))\n",
        "print(next(lemon))"
      ],
      "execution_count": 4,
      "outputs": [
        {
          "output_type": "stream",
          "text": [
            "연필:지우개:자:필통:샤프심\n",
            "3\n",
            "2\n",
            "1\n"
          ],
          "name": "stdout"
        }
      ]
    },
    {
      "cell_type": "code",
      "metadata": {
        "id": "I7c0Yu8iTVpn",
        "colab_type": "code",
        "colab": {
          "base_uri": "https://localhost:8080/",
          "height": 53
        },
        "outputId": "986d8f54-f8eb-4925-b8c5-a4479f538c1d"
      },
      "source": [
        "### 10진수와 2진수의 변환 \n",
        "print(\"{:b}\".format(10))\n",
        "print(int(\"1010\",2))"
      ],
      "execution_count": 6,
      "outputs": [
        {
          "output_type": "stream",
          "text": [
            "1010\n",
            "10\n"
          ],
          "name": "stdout"
        }
      ]
    },
    {
      "cell_type": "code",
      "metadata": {
        "id": "VMN5sN7BTVsF",
        "colab_type": "code",
        "colab": {
          "base_uri": "https://localhost:8080/",
          "height": 323
        },
        "outputId": "53c92d40-0dba-4b25-d471-e3dc08670262"
      },
      "source": [
        "## 1-100 사이에 있는 숫자 중 2진수로 변환했을 때 0 하나만 포함된 숫자를 찾고, 그 숫자들의 합 \n",
        "apple=[i for i in range(1,101) if \"{:b}\".format(i).count(\"0\")==1]\n",
        "for i in apple: \n",
        "  print(\"{}:{}\".format(i,\"{:b}\".format(i)))\n",
        "print(\"합계:\",sum(apple))  \n"
      ],
      "execution_count": 9,
      "outputs": [
        {
          "output_type": "stream",
          "text": [
            "2:10\n",
            "5:101\n",
            "6:110\n",
            "11:1011\n",
            "13:1101\n",
            "14:1110\n",
            "23:10111\n",
            "27:11011\n",
            "29:11101\n",
            "30:11110\n",
            "47:101111\n",
            "55:110111\n",
            "59:111011\n",
            "61:111101\n",
            "62:111110\n",
            "95:1011111\n",
            "합계: 539\n"
          ],
          "name": "stdout"
        }
      ]
    },
    {
      "cell_type": "code",
      "metadata": {
        "id": "kHXem25aOu6h",
        "colab_type": "code",
        "colab": {
          "base_uri": "https://localhost:8080/",
          "height": 89
        },
        "outputId": "27dbdb2d-dcc7-45ab-b0c6-31a31bfd13dc"
      },
      "source": [
        "## 함수 형식은 def 변수: \n",
        "##                print(\"안녕\")\n",
        "##             (def 와 같은 선상 : 변수()) \n",
        "def apple():\n",
        "  print(\"나는 망고가 좋아\")\n",
        "apple()  \n",
        "\n",
        "## 변수 2개 지정 \n",
        "def apple(value, n):\n",
        "  for i in range(n):\n",
        "    print(value)\n",
        "apple(\"6월은 망고스틴의 계절\", 3)\n"
      ],
      "execution_count": 17,
      "outputs": [
        {
          "output_type": "stream",
          "text": [
            "나는 망고가 좋아\n",
            "6월은 망고스틴의 계절\n",
            "6월은 망고스틴의 계절\n",
            "6월은 망고스틴의 계절\n"
          ],
          "name": "stdout"
        }
      ]
    },
    {
      "cell_type": "code",
      "metadata": {
        "id": "q09mAHrvOu9Q",
        "colab_type": "code",
        "colab": {
          "base_uri": "https://localhost:8080/",
          "height": 161
        },
        "outputId": "692c8998-b57b-4e7b-9ebc-164f1562fa98"
      },
      "source": [
        "## 가변 매개변수 함수 \n",
        "def apple(n, *value):\n",
        "  for i in range(n):       # n 횟수 \n",
        "    for lemon in value:    # value \n",
        "        print(lemon)\n",
        "    print()\n",
        "apple(2, \"키위는\",\"새콤하고\", \"초록색이예요\")    "
      ],
      "execution_count": 26,
      "outputs": [
        {
          "output_type": "stream",
          "text": [
            "키위는\n",
            "새콤하고\n",
            "초록색이예요\n",
            "\n",
            "키위는\n",
            "새콤하고\n",
            "초록색이예요\n",
            "\n"
          ],
          "name": "stdout"
        }
      ]
    },
    {
      "cell_type": "code",
      "metadata": {
        "id": "GDElRePWOu_L",
        "colab_type": "code",
        "colab": {
          "base_uri": "https://localhost:8080/",
          "height": 89
        },
        "outputId": "81ee6ec9-e3c1-4f0c-f4a9-14bf2c139105"
      },
      "source": [
        "## 다른 형태의 함수 \n",
        "def apple(a, b=10, c=100):\n",
        "  print(a+b+c)\n",
        "apple(10,20,30)  \n",
        "apple(a=10,b=100,c=200)\n",
        "apple(c=10, a=100, b=200)\n",
        "apple(10,c=200)"
      ],
      "execution_count": 27,
      "outputs": [
        {
          "output_type": "stream",
          "text": [
            "60\n",
            "310\n",
            "310\n",
            "220\n"
          ],
          "name": "stdout"
        }
      ]
    },
    {
      "cell_type": "code",
      "metadata": {
        "id": "UPDoS1AoOvCA",
        "colab_type": "code",
        "colab": {
          "base_uri": "https://localhost:8080/",
          "height": 71
        },
        "outputId": "a6b370e5-e5e5-40d1-c9a4-6236d4c5d881"
      },
      "source": [
        "## 리턴 return \n",
        "def apple():\n",
        "  print(\"A위치입니다.\")\n",
        "  return\n",
        "  print(\"B위치입니다.\")\n",
        "apple()  \n",
        "\n",
        "## 함수 예제 3\n",
        "def f(x):\n",
        "  return 2*x+1\n",
        "print(f(10))\n",
        "\n",
        "## 함수 예제4 , 매개변수로 전달된 값들을 모두 곱해서 리턴하는 가변 매개변수 함수\n",
        "def mul(*values):\n",
        "  output=1\n",
        "  for value in values:\n",
        "    output*=value\n",
        "  return output\n",
        "print(mul(5,7,9,10))   \n"
      ],
      "execution_count": 32,
      "outputs": [
        {
          "output_type": "stream",
          "text": [
            "A위치입니다.\n",
            "21\n",
            "3150\n"
          ],
          "name": "stdout"
        }
      ]
    },
    {
      "cell_type": "code",
      "metadata": {
        "id": "LOItchtoOvEZ",
        "colab_type": "code",
        "colab": {
          "base_uri": "https://localhost:8080/",
          "height": 53
        },
        "outputId": "5ea783ac-d41c-439d-acd9-d3e566fd76e4"
      },
      "source": [
        "## 반복문 팩토리얼 구하기 \n",
        "def factorial(n):\n",
        "  output=1\n",
        "  for i in range(1, n+1):\n",
        "    output *= i \n",
        "  return output\n",
        "print(\"2!:\", factorial(2)) \n",
        "print(\"3!:\", factorial(3)) "
      ],
      "execution_count": 33,
      "outputs": [
        {
          "output_type": "stream",
          "text": [
            "2!: 2\n",
            "3!: 6\n"
          ],
          "name": "stdout"
        }
      ]
    },
    {
      "cell_type": "code",
      "metadata": {
        "id": "hRHhaLlIOvHH",
        "colab_type": "code",
        "colab": {
          "base_uri": "https://localhost:8080/",
          "height": 53
        },
        "outputId": "32b474d1-98fc-4257-8d53-e65f79a68f99"
      },
      "source": [
        "### 리스트 평탄화 \n",
        "example = [ [1, 2, 3],[4,[5, 6]],7,[8, 9] ]\n",
        "def flatten(data):\n",
        "  output=[]\n",
        "  for item in data: \n",
        "    if type(item)==list:\n",
        "      output += flatten(item)\n",
        "    else: \n",
        "      output.append(item) \n",
        "  return output\n",
        "\n",
        "print(\"원본:\", example)\n",
        "print(\"변환::\", flatten(example))       "
      ],
      "execution_count": 38,
      "outputs": [
        {
          "output_type": "stream",
          "text": [
            "원본: [[1, 2, 3], [4, [5, 6]], 7, [8, 9]]\n",
            "변환:: [1, 2, 3, 4, 5, 6, 7, 8, 9]\n"
          ],
          "name": "stdout"
        }
      ]
    },
    {
      "cell_type": "code",
      "metadata": {
        "id": "bjZI7jmiOvJq",
        "colab_type": "code",
        "colab": {
          "base_uri": "https://localhost:8080/",
          "height": 35
        },
        "outputId": "ad91703f-4e2d-47d0-ace4-0a937ade41ca"
      },
      "source": [
        "## 예제 \n",
        "앉힐수있는최소사람수=2\n",
        "앉힐수있는최대사람수=10\n",
        "전체사람의수=100\n",
        "memo={}\n",
        "def 문제(남은사람수, 앉힌사람수):\n",
        "    key =str([남은사람수, 앉힌사람수])\n",
        "  #종료조건\n",
        "    if key in memo:\n",
        "      return memo[key]\n",
        "    if 남은사람수 <0:\n",
        "      return 0     # 무효이므로 0을 리턴\n",
        "    if 남은사람수 ==0:\n",
        "      return 1       ## 유효하므로 수를 세기 위해 1을 리턴 \n",
        "   ## 재귀처리\n",
        "    count = 0 \n",
        "    for i in range(앉힌사람수, 앉힐수있는최대사람수+1):\n",
        "      count +=문제(남은사람수-i, i)\n",
        "    memo[key]=count\n",
        "    return count\n",
        "print(문제(전체사람의수, 앉힐수있는최소사람수))        "
      ],
      "execution_count": 47,
      "outputs": [
        {
          "output_type": "stream",
          "text": [
            "437420\n"
          ],
          "name": "stdout"
        }
      ]
    },
    {
      "cell_type": "code",
      "metadata": {
        "id": "kzS4aSnNOvMQ",
        "colab_type": "code",
        "colab": {
          "base_uri": "https://localhost:8080/",
          "height": 233
        },
        "outputId": "df88fd4f-87f5-4639-d7cf-48b01119f0a5"
      },
      "source": [
        "## 튜플 : 리스트는 바꿀수 있음, 튜플은 바꿀 수 없음 \n",
        "# 람다 : 매개 변수로 함수를 전달하기 위해 함수 구문을 학선하는 것이 번거롭고, 코드 공간 낭비라는 생각이 들때 , 함수를 간단하고 쉽게 선언하는 방법\n",
        "\n",
        "## 튜플 (요소 변경 불가)\n",
        "apple=(10,20,30)   \n",
        "print(apple[0])\n",
        "print(apple[2])\n",
        "print(apple)\n",
        "## 괄호가 없는 튜플 \n",
        "lemon = 50,60,70,80\n",
        "print(\"##괄호가 없는 튜플 값과 자료형 출력:\")\n",
        "print(\"튜플::\", lemon)\n",
        "print(\"튜플타입:\", type(lemon))\n",
        "\n",
        "## 괄호가 없는 튜플 예제 \n",
        "a,b,c = 10,20,30\n",
        "print(\"괄호가 없는 튜플을 활용한 할당\")\n",
        "print(\"a::\", a)\n",
        "\n",
        "## 변수 값을 교환하는 튜플 \n",
        "a, b = 10,20\n",
        "print(\"교환 전 값\")\n",
        "print(\"a:\",a)\n",
        "# 값을 교환합니다.\n",
        "a,b=b,a\n",
        "print(\"## 교환한 후 값 ##\")\n",
        "print(\"a:\",a)"
      ],
      "execution_count": 51,
      "outputs": [
        {
          "output_type": "stream",
          "text": [
            "10\n",
            "30\n",
            "(10, 20, 30)\n",
            "##괄호가 없는 튜플 값과 자료형 출력:\n",
            "튜플:: (50, 60, 70, 80)\n",
            "튜플타입: <class 'tuple'>\n",
            "괄호가 없는 튜플을 활용한 할당\n",
            "a:: 10\n",
            "교환 전 값\n",
            "a: 10\n",
            "## 교환한 후 값 ##\n",
            "a: 20\n"
          ],
          "name": "stdout"
        }
      ]
    },
    {
      "cell_type": "code",
      "metadata": {
        "id": "w8AAtRTZOvOo",
        "colab_type": "code",
        "colab": {
          "base_uri": "https://localhost:8080/",
          "height": 215
        },
        "outputId": "1cd2bff8-9337-4c33-ef99-5acc03873a7d"
      },
      "source": [
        "## 람다함수 \n",
        "def apple(func):\n",
        "  for i in range(3):   # 횟수 명령어\n",
        "    func()\n",
        "def lemon():\n",
        "   print(\"안녕하세요용\")     # 프린트 명령어 \n",
        "apple(lemon)     \n",
        "\n",
        "## 위의 예제에 옆을 돌리는 횟수 추가 \n",
        "def apple(func):\n",
        "  for i in range(2):                     # 횟수명령어\n",
        "      func(i)\n",
        "def lemon(number):                      # 프린트 명렁어\n",
        "    print(number,\"바다에는 갈매기가 있어요\")    ## 넘버 위치 상관 없음 \n",
        "apple(lemon)\n",
        "\n",
        "\n",
        "## filter()함수와  map()함수 \n",
        "# 함수를 선언합니다. \n",
        "def power(item):\n",
        "  return item*item\n",
        "def under_3(item):\n",
        "  return item < 3 \n",
        "#  변수를 선언 함\n",
        "\n",
        "apple=[1,2,3,4]\n",
        "\n",
        "# map 함수를 선언합니다. \n",
        "lemon=map(power, apple)\n",
        "print(\"map 함수 실행 결과\")\n",
        "print(\"map(power, apple)::\", lemon)\n",
        "print(\"map(power, apple)::\", list(lemon))\n",
        "\n",
        "#filter 함수를 사용합니다.. \n",
        "mango=filter(under_3, apple)\n",
        "print(\"filter 함수 결과 \")\n",
        "print(\"filter(under_3, apple)::\", mango)\n",
        "print(\"filter(under_3, apple)::\", list(mango))     "
      ],
      "execution_count": 61,
      "outputs": [
        {
          "output_type": "stream",
          "text": [
            "안녕하세요용\n",
            "안녕하세요용\n",
            "안녕하세요용\n",
            "0 바다에는 갈매기가 있어요\n",
            "1 바다에는 갈매기가 있어요\n",
            "map 함수 실행 결과\n",
            "map(power, apple):: <map object at 0x7f9abae7a470>\n",
            "map(power, apple):: [1, 4, 9, 16]\n",
            "filter 함수 결과 \n",
            "filter(under_3, apple):: <filter object at 0x7f9abae7af60>\n",
            "filter(under_3, apple):: [1, 2]\n"
          ],
          "name": "stdout"
        }
      ]
    },
    {
      "cell_type": "code",
      "metadata": {
        "id": "69H6RXoCOvRv",
        "colab_type": "code",
        "colab": {
          "base_uri": "https://localhost:8080/",
          "height": 143
        },
        "outputId": "27f96505-f997-428b-8395-bd7b89f8f21d"
      },
      "source": [
        "### 람다 함수 \n",
        "# 함수를 선언합니다. \n",
        "power =lambda x: x*x\n",
        "under_3 =lambda x: x < 3\n",
        "\n",
        "# 변수를 선언합니다. \n",
        "apple = [1,2,3,4,5]\n",
        "# map() 함수를 선언합니다. \n",
        "lemon = map(power, apple)\n",
        "print(\"## map 함수의 결과 \")\n",
        "print(\"map(power, apple)::\", lemon)\n",
        "print(\"map(power, apple)::\", list(lemon))\n",
        "# filter() 함수를 사용합니다. \n",
        "mango = filter(under_3, apple)\n",
        "print(\"filter 함수의 실행결과\")\n",
        "print(\"filter(under_3, apple)::\", mango)\n",
        "print(\"filter(under_3, apple)::\", list(mango))\n",
        "\n",
        "\n",
        "## 위와 같지만 인라인람다를 사용하여 더 간단함 \n",
        "print(\"___\"*20)\n",
        "\n",
        "apple = [1,2,3,4,5]\n",
        "# map 함수 사용 \n",
        "lemon"
      ],
      "execution_count": 71,
      "outputs": [
        {
          "output_type": "stream",
          "text": [
            "## map 함수의 결과 \n",
            "map(power, apple):: <map object at 0x7f9abae7af28>\n",
            "map(power, apple):: [1, 4, 9, 16, 25]\n",
            "filter 함수의 실행결과\n",
            "filter(under_3, apple):: <filter object at 0x7f9abae7ac88>\n",
            "filter(under_3, apple):: [1, 2]\n",
            "____________________________________________________________\n"
          ],
          "name": "stdout"
        }
      ]
    },
    {
      "cell_type": "code",
      "metadata": {
        "id": "hU_SqQVcOvWn",
        "colab_type": "code",
        "colab": {}
      },
      "source": [
        ""
      ],
      "execution_count": 0,
      "outputs": []
    },
    {
      "cell_type": "code",
      "metadata": {
        "id": "hVUbGBQlOvZN",
        "colab_type": "code",
        "colab": {}
      },
      "source": [
        ""
      ],
      "execution_count": 0,
      "outputs": []
    },
    {
      "cell_type": "code",
      "metadata": {
        "id": "CvNvP_zxOvcY",
        "colab_type": "code",
        "colab": {}
      },
      "source": [
        ""
      ],
      "execution_count": 0,
      "outputs": []
    },
    {
      "cell_type": "code",
      "metadata": {
        "id": "lcTuyI77Ove3",
        "colab_type": "code",
        "colab": {}
      },
      "source": [
        ""
      ],
      "execution_count": 0,
      "outputs": []
    },
    {
      "cell_type": "code",
      "metadata": {
        "id": "2JOxTyZMTVuC",
        "colab_type": "code",
        "colab": {}
      },
      "source": [
        ""
      ],
      "execution_count": 0,
      "outputs": []
    },
    {
      "cell_type": "code",
      "metadata": {
        "id": "7CvL8cKtTVwc",
        "colab_type": "code",
        "colab": {}
      },
      "source": [
        ""
      ],
      "execution_count": 0,
      "outputs": []
    },
    {
      "cell_type": "code",
      "metadata": {
        "id": "ypZvHwY0TVy4",
        "colab_type": "code",
        "colab": {}
      },
      "source": [
        ""
      ],
      "execution_count": 0,
      "outputs": []
    },
    {
      "cell_type": "code",
      "metadata": {
        "id": "X3p-a30FTV2k",
        "colab_type": "code",
        "colab": {}
      },
      "source": [
        ""
      ],
      "execution_count": 0,
      "outputs": []
    }
  ]
}