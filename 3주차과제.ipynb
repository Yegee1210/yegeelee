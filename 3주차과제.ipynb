{
  "nbformat": 4,
  "nbformat_minor": 0,
  "metadata": {
    "colab": {
      "name": "3주차과제.ipynb",
      "provenance": [],
      "authorship_tag": "ABX9TyMIAiy4PpkGbCbE/2aCr6Ed",
      "include_colab_link": true
    },
    "kernelspec": {
      "name": "python3",
      "display_name": "Python 3"
    }
  },
  "cells": [
    {
      "cell_type": "markdown",
      "metadata": {
        "id": "view-in-github",
        "colab_type": "text"
      },
      "source": [
        "<a href=\"https://colab.research.google.com/github/Yegee1210/yegeelee/blob/master/3%EC%A3%BC%EC%B0%A8%EA%B3%BC%EC%A0%9C.ipynb\" target=\"_parent\"><img src=\"https://colab.research.google.com/assets/colab-badge.svg\" alt=\"Open In Colab\"/></a>"
      ]
    },
    {
      "cell_type": "code",
      "metadata": {
        "id": "kk0PD63a97qT",
        "colab_type": "code",
        "colab": {}
      },
      "source": [
        ""
      ],
      "execution_count": 0,
      "outputs": []
    },
    {
      "cell_type": "markdown",
      "metadata": {
        "id": "kuQXkNOm-BNM",
        "colab_type": "text"
      },
      "source": [
        "## 1. 학습률 최적화 "
      ]
    },
    {
      "cell_type": "markdown",
      "metadata": {
        "id": "Td9dPVhL-EzQ",
        "colab_type": "text"
      },
      "source": [
        "간단한 예제를 통해 학습률 최적화의 중요성에 대해서 확인 해 보도록 하겠습니다.\n",
        "\n",
        "아래 링크에서 1단계만에 손실 곡선의 최저점에 도달하게 하는 학습률을 찾아 정답을 적어주세요\n",
        "\n",
        "링크: https://developers.google.com/machine-learning/crash-course/fitter/graph?hl=k"
      ]
    },
    {
      "cell_type": "markdown",
      "metadata": {
        "id": "67WTQOFx-0Ih",
        "colab_type": "text"
      },
      "source": [
        " ## 정답 : "
      ]
    },
    {
      "cell_type": "markdown",
      "metadata": {
        "id": "g-2AzxNx-KpY",
        "colab_type": "text"
      },
      "source": [
        "## 2. 군집 분석 9병합 계층 군집) 구현 클론 코딩"
      ]
    },
    {
      "cell_type": "markdown",
      "metadata": {
        "id": "_Z_jdedu-PxQ",
        "colab_type": "text"
      },
      "source": [
        "군집 분석 강의(군집문제[2] 3:10 ~ 5:20 부분)를 보고 코드를 따라 치며 출력 결과(과제 설명 페이지 참고)를 만드세요.\n",
        "\n",
        "강의에서는 데이터 시각화까지 진행하지만 과제에서는 표를 출력하는 것 까지만 하시면 됩니다.\n",
        "\n",
        "3주차 과제 안내 페이지를 보시면 표에 대한 이미지가 있습니다. 참고해주세요\n",
        "\n"
      ]
    },
    {
      "cell_type": "markdown",
      "metadata": {
        "id": "pwGDhGhs-TV_",
        "colab_type": "text"
      },
      "source": [
        "## 3. Cost function 구현\n"
      ]
    }
  ]
}