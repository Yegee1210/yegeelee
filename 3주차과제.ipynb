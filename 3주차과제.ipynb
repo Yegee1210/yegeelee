{
  "nbformat": 4,
  "nbformat_minor": 0,
  "metadata": {
    "colab": {
      "name": "3주차과제.ipynb",
      "provenance": [],
      "authorship_tag": "ABX9TyM44KH/hhhjqnlZ12Rw48Iy",
      "include_colab_link": true
    },
    "kernelspec": {
      "name": "python3",
      "display_name": "Python 3"
    }
  },
  "cells": [
    {
      "cell_type": "markdown",
      "metadata": {
        "id": "view-in-github",
        "colab_type": "text"
      },
      "source": [
        "<a href=\"https://colab.research.google.com/github/Yegee1210/yegeelee/blob/master/3%EC%A3%BC%EC%B0%A8%EA%B3%BC%EC%A0%9C.ipynb\" target=\"_parent\"><img src=\"https://colab.research.google.com/assets/colab-badge.svg\" alt=\"Open In Colab\"/></a>"
      ]
    },
    {
      "cell_type": "code",
      "metadata": {
        "id": "kk0PD63a97qT",
        "colab_type": "code",
        "colab": {}
      },
      "source": [
        ""
      ],
      "execution_count": 0,
      "outputs": []
    },
    {
      "cell_type": "markdown",
      "metadata": {
        "id": "kuQXkNOm-BNM",
        "colab_type": "text"
      },
      "source": [
        "## 1. 학습률 최적화 "
      ]
    },
    {
      "cell_type": "markdown",
      "metadata": {
        "id": "Td9dPVhL-EzQ",
        "colab_type": "text"
      },
      "source": [
        "간단한 예제를 통해 학습률 최적화의 중요성에 대해서 확인 해 보도록 하겠습니다.\n",
        "\n",
        "아래 링크에서 1단계만에 손실 곡선의 최저점에 도달하게 하는 학습률을 찾아 정답을 적어주세요\n",
        "\n",
        "링크: https://developers.google.com/machine-learning/crash-course/fitter/graph?hl=k"
      ]
    },
    {
      "cell_type": "markdown",
      "metadata": {
        "id": "67WTQOFx-0Ih",
        "colab_type": "text"
      },
      "source": [
        " ## 정답 : 1.60"
      ]
    },
    {
      "cell_type": "markdown",
      "metadata": {
        "id": "g-2AzxNx-KpY",
        "colab_type": "text"
      },
      "source": [
        "## 2. 군집 분석 9병합 계층 군집) 구현 클론 코딩"
      ]
    },
    {
      "cell_type": "markdown",
      "metadata": {
        "id": "_Z_jdedu-PxQ",
        "colab_type": "text"
      },
      "source": [
        "군집 분석 강의(군집문제[2] 3:10 ~ 5:20 부분)를 보고 코드를 따라 치며 출력 결과(과제 설명 페이지 참고)를 만드세요.\n",
        "\n",
        "강의에서는 데이터 시각화까지 진행하지만 과제에서는 표를 출력하는 것 까지만 하시면 됩니다.\n",
        "\n",
        "3주차 과제 안내 페이지를 보시면 표에 대한 이미지가 있습니다. 참고해주세요\n",
        "\n"
      ]
    },
    {
      "cell_type": "code",
      "metadata": {
        "id": "Jm5Lx-EHQNDy",
        "colab_type": "code",
        "outputId": "594801c0-a8de-4843-a7d9-5e797b1264bb",
        "colab": {
          "base_uri": "https://localhost:8080/",
          "height": 173
        }
      },
      "source": [
        "import numpy as np\n",
        "np.random.seed(123)\n",
        "x = np.random.random_sample([5,3])*10\n",
        "\n",
        "\n",
        "import pandas as pd\n",
        "variables = ['X','Y','Z']\n",
        "labels = ['ID_0','ID_1','ID_2','ID_3','ID_3']\n",
        "df = pd.DataFrame(x,columns=variables, index=labels)\n",
        "df\n",
        "from scipy.spatial.distance import pdist, squareform\n",
        "Y = pdist(df)\n",
        "Y\n",
        "\n",
        "row_dist = pd.DataFrame(squareform(pdist(df, metric='euclidean')), columns = labels, index = labels)\n",
        "from scipy.cluster.hierarchy import linkage\n",
        "row_clusters = linkage(pdist(df, metric='euclidean'), method = 'complete')\n",
        "pd.DataFrame(row_clusters, columns = ['row label 1','row label 2', 'distance','no. of items in clust.'],index= ['cluster %d' %(i+1) for i in range(row_clusters.shape[0])])\n"
      ],
      "execution_count": 0,
      "outputs": [
        {
          "output_type": "execute_result",
          "data": {
            "text/html": [
              "<div>\n",
              "<style scoped>\n",
              "    .dataframe tbody tr th:only-of-type {\n",
              "        vertical-align: middle;\n",
              "    }\n",
              "\n",
              "    .dataframe tbody tr th {\n",
              "        vertical-align: top;\n",
              "    }\n",
              "\n",
              "    .dataframe thead th {\n",
              "        text-align: right;\n",
              "    }\n",
              "</style>\n",
              "<table border=\"1\" class=\"dataframe\">\n",
              "  <thead>\n",
              "    <tr style=\"text-align: right;\">\n",
              "      <th></th>\n",
              "      <th>row label 1</th>\n",
              "      <th>row label 2</th>\n",
              "      <th>distance</th>\n",
              "      <th>no. of items in clust.</th>\n",
              "    </tr>\n",
              "  </thead>\n",
              "  <tbody>\n",
              "    <tr>\n",
              "      <th>cluster 1</th>\n",
              "      <td>0.0</td>\n",
              "      <td>4.0</td>\n",
              "      <td>3.835396</td>\n",
              "      <td>2.0</td>\n",
              "    </tr>\n",
              "    <tr>\n",
              "      <th>cluster 2</th>\n",
              "      <td>1.0</td>\n",
              "      <td>2.0</td>\n",
              "      <td>4.347073</td>\n",
              "      <td>2.0</td>\n",
              "    </tr>\n",
              "    <tr>\n",
              "      <th>cluster 3</th>\n",
              "      <td>3.0</td>\n",
              "      <td>5.0</td>\n",
              "      <td>5.899885</td>\n",
              "      <td>3.0</td>\n",
              "    </tr>\n",
              "    <tr>\n",
              "      <th>cluster 4</th>\n",
              "      <td>6.0</td>\n",
              "      <td>7.0</td>\n",
              "      <td>8.316594</td>\n",
              "      <td>5.0</td>\n",
              "    </tr>\n",
              "  </tbody>\n",
              "</table>\n",
              "</div>"
            ],
            "text/plain": [
              "           row label 1  row label 2  distance  no. of items in clust.\n",
              "cluster 1          0.0          4.0  3.835396                     2.0\n",
              "cluster 2          1.0          2.0  4.347073                     2.0\n",
              "cluster 3          3.0          5.0  5.899885                     3.0\n",
              "cluster 4          6.0          7.0  8.316594                     5.0"
            ]
          },
          "metadata": {
            "tags": []
          },
          "execution_count": 17
        }
      ]
    },
    {
      "cell_type": "markdown",
      "metadata": {
        "id": "pwGDhGhs-TV_",
        "colab_type": "text"
      },
      "source": [
        "## 3. Cost function 구현\n"
      ]
    },
    {
      "cell_type": "code",
      "metadata": {
        "id": "D58gOJGTosLt",
        "colab_type": "code",
        "outputId": "786b8161-42c7-4b32-cb54-0c5966732fe0",
        "colab": {
          "base_uri": "https://localhost:8080/",
          "height": 215
        }
      },
      "source": [
        "import numpy as np\n",
        "import tensorflow as tf\n",
        "\n",
        "X = np.array([1,2,3])\n",
        "Y = np.array([4,5,6])\n",
        "\n",
        "def cost_func(W, X, Y):\n",
        "    hypothesis = X*W\n",
        "    return tf.reduce_mean(tf.square(hypothesis-Y))\n",
        "for feed_W in range(-5,6,1):\n",
        "   curr_cost = cost_func(feed_W, X, Y)  \n",
        "   print(\"{:6.3f} | {:10.5f}\".format(feed_W, curr_cost))    \n",
        "\n",
        "\n",
        "\n",
        "\n",
        "\n",
        "\n",
        "\n",
        "\n",
        "\n"
      ],
      "execution_count": 25,
      "outputs": [
        {
          "output_type": "stream",
          "text": [
            "-5.000 |  249.00000\n",
            "-4.000 |  185.00000\n",
            "-3.000 |  131.00000\n",
            "-2.000 |   87.00000\n",
            "-1.000 |   51.00000\n",
            " 0.000 |   25.00000\n",
            " 1.000 |    9.00000\n",
            " 2.000 |    1.00000\n",
            " 3.000 |    3.00000\n",
            " 4.000 |   15.00000\n",
            " 5.000 |   35.00000\n"
          ],
          "name": "stdout"
        }
      ]
    }
  ]
}