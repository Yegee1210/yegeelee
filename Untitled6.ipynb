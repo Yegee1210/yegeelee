{
  "nbformat": 4,
  "nbformat_minor": 0,
  "metadata": {
    "colab": {
      "name": "Untitled6.ipynb",
      "provenance": [],
      "authorship_tag": "ABX9TyN3P0bccyAjoOhJcnRz2wCL",
      "include_colab_link": true
    },
    "kernelspec": {
      "name": "python3",
      "display_name": "Python 3"
    }
  },
  "cells": [
    {
      "cell_type": "markdown",
      "metadata": {
        "id": "view-in-github",
        "colab_type": "text"
      },
      "source": [
        "<a href=\"https://colab.research.google.com/github/Yegee1210/yegeelee/blob/master/Untitled6.ipynb\" target=\"_parent\"><img src=\"https://colab.research.google.com/assets/colab-badge.svg\" alt=\"Open In Colab\"/></a>"
      ]
    },
    {
      "cell_type": "code",
      "metadata": {
        "id": "T2nD4W9oSYCw",
        "colab_type": "code",
        "colab": {
          "base_uri": "https://localhost:8080/",
          "height": 71
        },
        "outputId": "833d5279-9414-4897-c08a-222bd3176693"
      },
      "source": [
        "a='str'\n",
        "b=123\n",
        "c=True\n",
        "print(a)\n",
        "print(b)\n",
        "print(c)"
      ],
      "execution_count": 2,
      "outputs": [
        {
          "output_type": "stream",
          "text": [
            "str\n",
            "123\n",
            "True\n"
          ],
          "name": "stdout"
        }
      ]
    },
    {
      "cell_type": "markdown",
      "metadata": {
        "id": "tB_lWMEcuEKD",
        "colab_type": "text"
      },
      "source": [
        ""
      ]
    },
    {
      "cell_type": "markdown",
      "metadata": {
        "id": "YOVsA52Fa-8g",
        "colab_type": "text"
      },
      "source": [
        ""
      ]
    },
    {
      "cell_type": "markdown",
      "metadata": {
        "id": "iSdBSwu1a-CZ",
        "colab_type": "text"
      },
      "source": [
        ""
      ]
    },
    {
      "cell_type": "code",
      "metadata": {
        "id": "YRxHibeVbAun",
        "colab_type": "code",
        "colab": {}
      },
      "source": [
        ""
      ],
      "execution_count": 0,
      "outputs": []
    },
    {
      "cell_type": "markdown",
      "metadata": {
        "id": "Nz9Vsmi7SZcK",
        "colab_type": "text"
      },
      "source": [
        ""
      ]
    },
    {
      "cell_type": "code",
      "metadata": {
        "id": "FfmuDAIETtrZ",
        "colab_type": "code",
        "colab": {
          "base_uri": "https://localhost:8080/",
          "height": 179
        },
        "outputId": "a1e70e92-4c08-4647-b7ae-bcf3a4f8282f"
      },
      "source": [
        "num_list = [1,2,3,4,5,6,7,8,9]\n",
        " \n",
        "sum = 0\n",
        "for i in range(len(num_list)):\n",
        "   sum= sum+(i+1)\n",
        "   print(sum)"
      ],
      "execution_count": 9,
      "outputs": [
        {
          "output_type": "stream",
          "text": [
            "1\n",
            "3\n",
            "6\n",
            "10\n",
            "15\n",
            "21\n",
            "28\n",
            "36\n",
            "45\n"
          ],
          "name": "stdout"
        }
      ]
    },
    {
      "cell_type": "code",
      "metadata": {
        "id": "LTCwM513grgI",
        "colab_type": "code",
        "colab": {
          "base_uri": "https://localhost:8080/",
          "height": 71
        },
        "outputId": "875998aa-d7f0-4f74-a88d-fde09f6ea538"
      },
      "source": [
        "data='20200511'\n",
        "print(\"year:\", data[0:4])\n",
        "print(\"month:\", data[4:6])\n",
        "print(\"day:\",data[6:8])"
      ],
      "execution_count": 14,
      "outputs": [
        {
          "output_type": "stream",
          "text": [
            "year: 2020\n",
            "month: 05\n",
            "day: 11\n"
          ],
          "name": "stdout"
        }
      ]
    },
    {
      "cell_type": "code",
      "metadata": {
        "id": "LkpRd3eTSZyo",
        "colab_type": "code",
        "colab": {
          "base_uri": "https://localhost:8080/",
          "height": 125
        },
        "outputId": "9a961a55-edbc-481f-d28f-1eff7e0c5ac4"
      },
      "source": [
        "num=\"70 50 90 70\"\n",
        "str = num\n",
        "print(type(str))\n",
        "list_str=str.split()\n",
        "print(type(list_str))\n",
        "print(list_str)\n",
        "\n",
        "list_str = [int (i) for i in list_str]\n",
        "print(list_str)\n",
        "\n",
        "result=sum(list_str)\n",
        "print(result)\n",
        "\n",
        "averge=sum(list_str)/4\n",
        "print(averge)"
      ],
      "execution_count": 1,
      "outputs": [
        {
          "output_type": "stream",
          "text": [
            "<class 'str'>\n",
            "<class 'list'>\n",
            "['70', '50', '90', '70']\n",
            "[70, 50, 90, 70]\n",
            "280\n",
            "70.0\n"
          ],
          "name": "stdout"
        }
      ]
    },
    {
      "cell_type": "code",
      "metadata": {
        "id": "TYgxqmA6TS6C",
        "colab_type": "code",
        "colab": {
          "base_uri": "https://localhost:8080/",
          "height": 35
        },
        "outputId": "83eca474-b466-4b97-8959-4ce6cf8407f3"
      },
      "source": [
        "hangul='가나다라마바사'\n",
        "hangul=''.join(reversed(hangul))\n",
        "print(hangul)"
      ],
      "execution_count": 11,
      "outputs": [
        {
          "output_type": "stream",
          "text": [
            "사바마라다나가\n"
          ],
          "name": "stdout"
        }
      ]
    },
    {
      "cell_type": "code",
      "metadata": {
        "id": "wxG2f--qaprF",
        "colab_type": "code",
        "colab": {
          "base_uri": "https://localhost:8080/",
          "height": 53
        },
        "outputId": "83a0d717-8fe3-4c16-fb5f-7f1f22762d01"
      },
      "source": [
        "n=int(input('숫자를 입력해주세요'))\n",
        "if n%2==0:\n",
        "  print(\"짝수\")\n",
        "else:\n",
        "   print(\"짝수가 아닙니다.\") "
      ],
      "execution_count": 13,
      "outputs": [
        {
          "output_type": "stream",
          "text": [
            "숫자를 입력해주세요26\n",
            "짝수\n"
          ],
          "name": "stdout"
        }
      ]
    },
    {
      "cell_type": "code",
      "metadata": {
        "id": "5xHGuBJddRXc",
        "colab_type": "code",
        "colab": {
          "base_uri": "https://localhost:8080/",
          "height": 35
        },
        "outputId": "bb27c09b-bfd4-4273-a21c-c27ca0ca15af"
      },
      "source": [
        "import math \n",
        "list_08=[3,4]\n",
        "x=list_08[0]\n",
        "y=list_08[1]\n",
        "print(math.sqrt(x**2+y**2))\n",
        "\n"
      ],
      "execution_count": 16,
      "outputs": [
        {
          "output_type": "stream",
          "text": [
            "5.0\n"
          ],
          "name": "stdout"
        }
      ]
    },
    {
      "cell_type": "code",
      "metadata": {
        "id": "8Jj178YBihNh",
        "colab_type": "code",
        "colab": {}
      },
      "source": [
        "num_10=int(input('숫자를 입력해주세요'))\n",
        "def prime_number(n):\n",
        "  pass\n",
        "prime_number(num_10)  \n"
      ],
      "execution_count": 0,
      "outputs": []
    },
    {
      "cell_type": "code",
      "metadata": {
        "id": "ZfAgH-YgsqXc",
        "colab_type": "code",
        "colab": {}
      },
      "source": [
        ""
      ],
      "execution_count": 0,
      "outputs": []
    },
    {
      "cell_type": "markdown",
      "metadata": {
        "id": "UGbkNaVussmN",
        "colab_type": "text"
      },
      "source": [
        "#인공지능 수학문제 "
      ]
    },
    {
      "cell_type": "markdown",
      "metadata": {
        "id": "SxuCqmK5swCT",
        "colab_type": "text"
      },
      "source": [
        "1.다음 공식은 hypothesis를 구하는 공식입니다. 다음과 같이 값이 주어졌을때 H(x)의 값을 구하시오.\n",
        "w=3 \n",
        "x=10\n",
        "b=1 \n",
        "h(x)=Wx+b\n",
        "답 : 31"
      ]
    },
    {
      "cell_type": "markdown",
      "metadata": {
        "id": "BnPPRGnMt2vu",
        "colab_type": "text"
      },
      "source": [
        ""
      ]
    },
    {
      "cell_type": "markdown",
      "metadata": {
        "id": "V5Ddqwl8sq-E",
        "colab_type": "text"
      },
      "source": [
        ""
      ]
    },
    {
      "cell_type": "markdown",
      "metadata": {
        "id": "NC2d-QzStF6c",
        "colab_type": "text"
      },
      "source": [
        "2.다음 공식은 Cost를 구하는 공식입니다. 다음과 같이 값이 주어졌을때 cost의 값을 구하세요.\n",
        "\n",
        "W = 2\n",
        "x = [2, 4, 8]\n",
        "y = [5, 12, 21]\n",
        "(tip: x1=2, y1=5 / x2=4, y2=12 / x3=8, y3=21)\n",
        "cost(W)=1n∑i=1n(Wx(i)−y(i))2\n",
        "정답 : 14"
      ]
    },
    {
      "cell_type": "markdown",
      "metadata": {
        "id": "srEpbomvt43z",
        "colab_type": "text"
      },
      "source": [
        "3. (Logistic regression sigmoid function)\n",
        "다음 공식은 로지스틱 시그모이드 함수입니다. x가 양의 무한대로 갈때 f(x)가 수렴하는 값을 구하세요.\n",
        "정답:1"
      ]
    },
    {
      "cell_type": "markdown",
      "metadata": {
        "id": "fpsAtkEAuCZU",
        "colab_type": "text"
      },
      "source": [
        ""
      ]
    }
  ]
}