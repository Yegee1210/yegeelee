{
  "nbformat": 4,
  "nbformat_minor": 0,
  "metadata": {
    "colab": {
      "name": "2주차 과제 20200528의 사본",
      "provenance": [],
      "authorship_tag": "ABX9TyNaLi00KDj82lOCm8YJkZEr",
      "include_colab_link": true
    },
    "kernelspec": {
      "name": "python3",
      "display_name": "Python 3"
    }
  },
  "cells": [
    {
      "cell_type": "markdown",
      "metadata": {
        "id": "view-in-github",
        "colab_type": "text"
      },
      "source": [
        "<a href=\"https://colab.research.google.com/github/Yegee1210/yegeelee/blob/master/2%EC%A3%BC%EC%B0%A8_%EA%B3%BC%EC%A0%9C_20200528%EC%9D%98_%EC%82%AC%EB%B3%B8.ipynb\" target=\"_parent\"><img src=\"https://colab.research.google.com/assets/colab-badge.svg\" alt=\"Open In Colab\"/></a>"
      ]
    },
    {
      "cell_type": "markdown",
      "metadata": {
        "id": "p1B3TJBvNjH6",
        "colab_type": "text"
      },
      "source": [
        ""
      ]
    },
    {
      "cell_type": "markdown",
      "metadata": {
        "id": "3xe-Dso2Nt9u",
        "colab_type": "text"
      },
      "source": [
        "# 1. 다음 변수a, 변수b, 변수c 의 자료형을 출력하세요. "
      ]
    },
    {
      "cell_type": "code",
      "metadata": {
        "id": "T2nD4W9oSYCw",
        "colab_type": "code",
        "outputId": "833d5279-9414-4897-c08a-222bd3176693",
        "colab": {
          "base_uri": "https://localhost:8080/",
          "height": 71
        }
      },
      "source": [
        "a='str'\n",
        "b=123\n",
        "c=True\n",
        "print(a)\n",
        "print(b)\n",
        "print(c)"
      ],
      "execution_count": 0,
      "outputs": [
        {
          "output_type": "stream",
          "text": [
            "str\n",
            "123\n",
            "True\n"
          ],
          "name": "stdout"
        }
      ]
    },
    {
      "cell_type": "markdown",
      "metadata": {
        "id": "34rERRaoONP-",
        "colab_type": "text"
      },
      "source": [
        "2. 다음 변수  num_list 에 있는 요소를 모두 더한 값을 for 문을 활용하여 변수 answer에 저장하고 그 값을 출력하세요. "
      ]
    },
    {
      "cell_type": "code",
      "metadata": {
        "id": "FfmuDAIETtrZ",
        "colab_type": "code",
        "outputId": "a1e70e92-4c08-4647-b7ae-bcf3a4f8282f",
        "colab": {
          "base_uri": "https://localhost:8080/",
          "height": 179
        }
      },
      "source": [
        "num_list = [1,2,3,4,5,6,7,8,9]\n",
        " \n",
        "sum = 0\n",
        "for i in range(len(num_list)):\n",
        "   sum= sum+(i+1)\n",
        "   print(sum)"
      ],
      "execution_count": 0,
      "outputs": [
        {
          "output_type": "stream",
          "text": [
            "1\n",
            "3\n",
            "6\n",
            "10\n",
            "15\n",
            "21\n",
            "28\n",
            "36\n",
            "45\n"
          ],
          "name": "stdout"
        }
      ]
    },
    {
      "cell_type": "markdown",
      "metadata": {
        "id": "b-3ubjy8OjvF",
        "colab_type": "text"
      },
      "source": [
        "3. 다음 변수 data를 슬라이스 해서  year(년), month(월), day(일)을 각각 출력하세요. (출력: 2020 05 11)"
      ]
    },
    {
      "cell_type": "code",
      "metadata": {
        "id": "LTCwM513grgI",
        "colab_type": "code",
        "outputId": "875998aa-d7f0-4f74-a88d-fde09f6ea538",
        "colab": {
          "base_uri": "https://localhost:8080/",
          "height": 71
        }
      },
      "source": [
        "data='20200511'\n",
        "print(\"year:\", data[0:4])\n",
        "print(\"month:\", data[4:6])\n",
        "print(\"day:\",data[6:8])"
      ],
      "execution_count": 0,
      "outputs": [
        {
          "output_type": "stream",
          "text": [
            "year: 2020\n",
            "month: 05\n",
            "day: 11\n"
          ],
          "name": "stdout"
        }
      ]
    },
    {
      "cell_type": "markdown",
      "metadata": {
        "id": "tbT57e6SWjgG",
        "colab_type": "text"
      },
      "source": [
        "4. 다음 변수 summmary에 1부터 100까지 모두 더한 값을 저장하여 출력하세요."
      ]
    },
    {
      "cell_type": "code",
      "metadata": {
        "id": "1K-z_gO_YH23",
        "colab_type": "code",
        "outputId": "3dcd157e-1f24-4e22-cf18-aeb9f0bd6731",
        "colab": {
          "base_uri": "https://localhost:8080/",
          "height": 35
        }
      },
      "source": [
        "summary=0\n",
        "for i in range(1,101,1):\n",
        "    summary = summary +i\n",
        "print(summary)    "
      ],
      "execution_count": 0,
      "outputs": [
        {
          "output_type": "stream",
          "text": [
            "5050\n"
          ],
          "name": "stdout"
        }
      ]
    },
    {
      "cell_type": "markdown",
      "metadata": {
        "id": "2tJNR63xRPLQ",
        "colab_type": "text"
      },
      "source": [
        "5. 다음 변수 hangul의 문자열을 거꿀로 출력하세요. (출력 ; 사바마라다나가)"
      ]
    },
    {
      "cell_type": "code",
      "metadata": {
        "id": "TYgxqmA6TS6C",
        "colab_type": "code",
        "outputId": "e3feaef2-d61c-46d6-a4f7-b4feca4aba20",
        "colab": {
          "base_uri": "https://localhost:8080/",
          "height": 35
        }
      },
      "source": [
        "hangul='가나다라마바사'\n",
        "hangul=''.join(reversed(hangul))\n",
        "print(hangul)"
      ],
      "execution_count": 0,
      "outputs": [
        {
          "output_type": "stream",
          "text": [
            "사바마라다나가\n"
          ],
          "name": "stdout"
        }
      ]
    },
    {
      "cell_type": "markdown",
      "metadata": {
        "id": "WYJfp7Q_PVW3",
        "colab_type": "text"
      },
      "source": [
        "6. 다음 변수 num에는 공백으로 구분된 4개의 점수가 들어 있습니다. 평균을 구해서 출력하세요. "
      ]
    },
    {
      "cell_type": "code",
      "metadata": {
        "id": "LkpRd3eTSZyo",
        "colab_type": "code",
        "outputId": "006d02e9-0dab-468e-cffc-71867e090728",
        "colab": {
          "base_uri": "https://localhost:8080/",
          "height": 125
        }
      },
      "source": [
        "num=\"70 50 90 70\"\n",
        "str = num\n",
        "print(type(str))\n",
        "list_str=str.split()\n",
        "print(type(list_str))\n",
        "print(list_str)\n",
        "\n",
        "list_str = [int (i) for i in list_str]\n",
        "print(list_str)\n",
        "\n",
        "result=sum(list_str)\n",
        "print(result)\n",
        "\n",
        "averge=sum(list_str)/4\n",
        "print(\"평균\", averge)"
      ],
      "execution_count": 0,
      "outputs": [
        {
          "output_type": "stream",
          "text": [
            "<class 'str'>\n",
            "<class 'list'>\n",
            "['70', '50', '90', '70']\n",
            "[70, 50, 90, 70]\n",
            "280\n",
            "평균 70.0\n"
          ],
          "name": "stdout"
        }
      ]
    },
    {
      "cell_type": "markdown",
      "metadata": {
        "id": "YadBYbvoQ0xf",
        "colab_type": "text"
      },
      "source": [
        "7. 다음 변수 n에 입력한 값이 짝수 일 경우, \"짝수\"를, \"짝수\"가 아닐 경우 \"짝수가 아닙니다.\"를 판별하여 출력하세요. "
      ]
    },
    {
      "cell_type": "code",
      "metadata": {
        "id": "wxG2f--qaprF",
        "colab_type": "code",
        "outputId": "af966156-7ae2-4821-fe4f-b17d035bbfa4",
        "colab": {
          "base_uri": "https://localhost:8080/",
          "height": 53
        }
      },
      "source": [
        "n=int(input('숫자를 입력해주세요'))\n",
        "if n%2==0:\n",
        "  print(\"짝수\")\n",
        "else:\n",
        "   print(\"짝수가 아닙니다.\") "
      ],
      "execution_count": 0,
      "outputs": [
        {
          "output_type": "stream",
          "text": [
            "숫자를 입력해주세요26\n",
            "짝수\n"
          ],
          "name": "stdout"
        }
      ]
    },
    {
      "cell_type": "markdown",
      "metadata": {
        "id": "L2IRQEyPQMip",
        "colab_type": "text"
      },
      "source": [
        "8. 직사각형의 대각선의 길이를 구하는 공식은 밑변의 제곱 + 높이의 제곱 = 대각선의 제곱이다. 다음 변수 list_08에는 하나의 직사각형의 밑변과 높이가 저장되어 있습니다. 각각 밑변이 밑변이 3이고 높이가 4일 떄, 직사각형의 대각선의 제곱의 길이를 출력하세요. "
      ]
    },
    {
      "cell_type": "code",
      "metadata": {
        "id": "5xHGuBJddRXc",
        "colab_type": "code",
        "outputId": "4f0e4d92-d7ab-4e80-9ded-6a8c590d7d7c",
        "colab": {
          "base_uri": "https://localhost:8080/",
          "height": 35
        }
      },
      "source": [
        "import math \n",
        "list_08=[3,4]\n",
        "x=list_08[0]\n",
        "y=list_08[1]\n",
        "print(\"출력:\",math.sqrt(x**2+y**2))\n",
        "\n"
      ],
      "execution_count": 0,
      "outputs": [
        {
          "output_type": "stream",
          "text": [
            "출력: 5.0\n"
          ],
          "name": "stdout"
        }
      ]
    },
    {
      "cell_type": "markdown",
      "metadata": {
        "id": "cAYVbjgQWYVx",
        "colab_type": "text"
      },
      "source": [
        "9.입력받은 숫자가 소수이닞 아닌지 출력하는 프로그램을 작성해주세요. (출력 : 소수 or 소수가 아닙니다.)"
      ]
    },
    {
      "cell_type": "code",
      "metadata": {
        "id": "i8er0tOdRhUO",
        "colab_type": "code",
        "outputId": "dea9ca85-c055-44e8-cd77-9f14ae559c0c",
        "colab": {
          "base_uri": "https://localhost:8080/",
          "height": 53
        }
      },
      "source": [
        "def isprime(n):\n",
        "  if n <= 1 : \n",
        "    return Flase\n",
        "  for i in range(2, n):\n",
        "    if n % i == 0:\n",
        "        return \n",
        "  return True\n",
        "\n",
        "def prime_number():\n",
        "  num_10=int(input(\"숫자를 입력해주세요.\"))\n",
        "  if isprime(num_10):\n",
        "    print(num_10, \"소수 입니다.\")\n",
        "  else: \n",
        "    print(num_10, \"소수가 아닙니다.\")\n",
        "\n",
        "if __name__==\"__main__\":\n",
        "    prime_number()"
      ],
      "execution_count": 0,
      "outputs": [
        {
          "output_type": "stream",
          "text": [
            "숫자를 입력해주세요.10\n",
            "10 소수가 아닙니다.\n"
          ],
          "name": "stdout"
        }
      ]
    },
    {
      "cell_type": "markdown",
      "metadata": {
        "id": "UGbkNaVussmN",
        "colab_type": "text"
      },
      "source": [
        "#인공지능 수학문제 "
      ]
    },
    {
      "cell_type": "markdown",
      "metadata": {
        "id": "SxuCqmK5swCT",
        "colab_type": "text"
      },
      "source": [
        "1.다음 공식은 hypothesis를 구하는 공식입니다. 다음과 같이 값이 주어졌을때 H(x)의 값을 구하시오.\n",
        "w=3 \n",
        "x=10\n",
        "b=1 \n",
        "h(x)=Wx+b\n",
        "** 답 : 31 **"
      ]
    },
    {
      "cell_type": "markdown",
      "metadata": {
        "id": "BnPPRGnMt2vu",
        "colab_type": "text"
      },
      "source": [
        ""
      ]
    },
    {
      "cell_type": "markdown",
      "metadata": {
        "id": "V5Ddqwl8sq-E",
        "colab_type": "text"
      },
      "source": [
        ""
      ]
    },
    {
      "cell_type": "markdown",
      "metadata": {
        "id": "NC2d-QzStF6c",
        "colab_type": "text"
      },
      "source": [
        "2.다음 공식은 Cost를 구하는 공식입니다. 다음과 같이 값이 주어졌을때 cost의 값을 구하세요.\n",
        "\n",
        "W = 2\n",
        "x = [2, 4, 8]\n",
        "y = [5, 12, 21]\n",
        "(tip: x1=2, y1=5 / x2=4, y2=12 / x3=8, y3=21)\n",
        "cost(W)=1n∑i=1n(Wx(i)−y(i))2\n",
        "**정답 : 14 **"
      ]
    },
    {
      "cell_type": "markdown",
      "metadata": {
        "id": "srEpbomvt43z",
        "colab_type": "text"
      },
      "source": [
        "3번 (Logistic regression sigmoid function)\n",
        "다음 공식은 로지스틱 시그모이드 함수입니다. x가 양의 무한대로 갈때 f(x)가 수렴하는 값을 구하세요.\n",
        "** 정답:1 **"
      ]
    },
    {
      "cell_type": "markdown",
      "metadata": {
        "id": "fpsAtkEAuCZU",
        "colab_type": "text"
      },
      "source": [
        ""
      ]
    }
  ]
}