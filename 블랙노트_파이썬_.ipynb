{
  "nbformat": 4,
  "nbformat_minor": 0,
  "metadata": {
    "colab": {
      "name": "블랙노트 파이썬 .ipynb",
      "provenance": [],
      "collapsed_sections": [],
      "authorship_tag": "ABX9TyO4y8V1Ytt1/izt+o035gwn",
      "include_colab_link": true
    },
    "kernelspec": {
      "name": "python3",
      "display_name": "Python 3"
    }
  },
  "cells": [
    {
      "cell_type": "markdown",
      "metadata": {
        "id": "view-in-github",
        "colab_type": "text"
      },
      "source": [
        "<a href=\"https://colab.research.google.com/github/Yegee1210/yegeelee/blob/master/%EB%B8%94%EB%9E%99%EB%85%B8%ED%8A%B8_%ED%8C%8C%EC%9D%B4%EC%8D%AC_.ipynb\" target=\"_parent\"><img src=\"https://colab.research.google.com/assets/colab-badge.svg\" alt=\"Open In Colab\"/></a>"
      ]
    },
    {
      "cell_type": "code",
      "metadata": {
        "id": "ie2Mz3V7O3N2",
        "colab_type": "code",
        "colab": {
          "base_uri": "https://localhost:8080/",
          "height": 126
        },
        "outputId": "5d480d42-5ccb-4b0c-a1ba-4d5520fa20c5"
      },
      "source": [
        "print(\"풍선\")\n",
        "animal= \"강아지\"\n",
        "name=\"연탄이\"\n",
        "print(\"우리집\"+animal+\"의 이름은\"+name+\"이예요!!\")\n",
        "print(abs(-5))\n",
        "print(pow(4,2))\n",
        "print(round(3.14))\n",
        "print(round(4.99))"
      ],
      "execution_count": null,
      "outputs": [
        {
          "output_type": "stream",
          "text": [
            "풍선\n",
            "우리집강아지의 이름은연탄이이예요!!\n",
            "5\n",
            "16\n",
            "3\n",
            "5\n"
          ],
          "name": "stdout"
        }
      ]
    },
    {
      "cell_type": "code",
      "metadata": {
        "id": "KPsmCTgoO6u4",
        "colab_type": "code",
        "colab": {
          "base_uri": "https://localhost:8080/",
          "height": 72
        },
        "outputId": "e5ba20a2-eccf-453a-952a-7c7de0497995"
      },
      "source": [
        "# 랜덤함수 \n",
        "from random import *\n",
        "print(random())   #0.0이상- 1.0미만의 임의값 생성 \n",
        "print(random()*10)\n",
        "print(randrange(1,45))"
      ],
      "execution_count": null,
      "outputs": [
        {
          "output_type": "stream",
          "text": [
            "0.8736898351091844\n",
            "5.627758105468615\n",
            "8\n"
          ],
          "name": "stdout"
        }
      ]
    },
    {
      "cell_type": "code",
      "metadata": {
        "id": "j1ysckNRO6x4",
        "colab_type": "code",
        "colab": {
          "base_uri": "https://localhost:8080/",
          "height": 72
        },
        "outputId": "c6f14422-c40b-4c2d-9eb3-2d67e80382fa"
      },
      "source": [
        "#2과 퀴즈 \n",
        "station=\"사당\"\n",
        "print(station+\"행 열차가 들어오고 있습니다.\")\n",
        "station2=\"신도림\"\n",
        "print(station2+\"행 열차가 들어오고 있습니다.\")\n",
        "station3=\"인천공항\"\n",
        "print(station3+\"행 열차가 들어오고 있습니다.\")\n",
        "\n",
        "\n",
        "\n"
      ],
      "execution_count": null,
      "outputs": [
        {
          "output_type": "stream",
          "text": [
            "사당행 열차가 들어오고 있습니다.\n",
            "신도림행 열차가 들어오고 있습니다.\n",
            "인천공항행 열차가 들어오고 있습니다.\n"
          ],
          "name": "stdout"
        }
      ]
    },
    {
      "cell_type": "code",
      "metadata": {
        "id": "2I_aDTPsO60n",
        "colab_type": "code",
        "colab": {
          "base_uri": "https://localhost:8080/",
          "height": 35
        },
        "outputId": "f0303ff2-d3e7-475f-b76e-747dfcd096ed"
      },
      "source": [
        "#3과 퀴즈 \n",
        "from random import*\n",
        "data=randint(4,28)   # 4 랑 28 모두 다 포함 \n",
        "print(\"오프라인 스터디 모임 날짜는 매월 \"+str(data)+\"일로 선정되었습니다.\")\n"
      ],
      "execution_count": null,
      "outputs": [
        {
          "output_type": "stream",
          "text": [
            "오프라인 스터디 모임 날짜는 매월 7일로 선정되었습니다.\n"
          ],
          "name": "stdout"
        }
      ]
    },
    {
      "cell_type": "code",
      "metadata": {
        "id": "1ShBOEKcO63J",
        "colab_type": "code",
        "colab": {
          "base_uri": "https://localhost:8080/",
          "height": 72
        },
        "outputId": "798c9b86-8464-43d8-d4dc-ad3508318fbe"
      },
      "source": [
        "#4과 퀴즈 \n",
        "url= \"http://naver.com\"\n",
        "apple=url.replace(\"http://\", \"\")\n",
        "print(apple)\n",
        "apple=apple[:apple.index(\".\")]\n",
        "apple[0:5]\n",
        "print(apple)\n",
        "password=apple[0:3]+str(len(apple))+str(apple.count(\"e\"))+\"!\"\n",
        "print(\"{}의 비밀번호는 {}입니다.\".format(url, password))"
      ],
      "execution_count": null,
      "outputs": [
        {
          "output_type": "stream",
          "text": [
            "naver.com\n",
            "naver\n",
            "http://naver.com의 비밀번호는 nav51!입니다.\n"
          ],
          "name": "stdout"
        }
      ]
    },
    {
      "cell_type": "code",
      "metadata": {
        "id": "JfKccL8dO65g",
        "colab_type": "code",
        "colab": {
          "base_uri": "https://localhost:8080/",
          "height": 35
        },
        "outputId": "4c786ede-6a26-4c1b-b515-670cb3d20366"
      },
      "source": [
        "#리스트 \n",
        "# 지하철 칸 별로 10명, 20명, 30명 \n",
        "subway=[10,20,30]\n",
        "print(subway)"
      ],
      "execution_count": null,
      "outputs": [
        {
          "output_type": "stream",
          "text": [
            "[10, 20, 30]\n"
          ],
          "name": "stdout"
        }
      ]
    },
    {
      "cell_type": "code",
      "metadata": {
        "id": "aFXDLRsIO67l",
        "colab_type": "code",
        "colab": {
          "base_uri": "https://localhost:8080/",
          "height": 54
        },
        "outputId": "4ca38d6c-248d-4645-c9a9-a984d24226f1"
      },
      "source": [
        "subway=[\"유재석\", \"조세호\", \"박명수\"]\n",
        "print(subway)\n",
        "print(subway.index(\"조세호\"))"
      ],
      "execution_count": null,
      "outputs": [
        {
          "output_type": "stream",
          "text": [
            "['유재석', '조세호', '박명수']\n",
            "1\n"
          ],
          "name": "stdout"
        }
      ]
    },
    {
      "cell_type": "code",
      "metadata": {
        "id": "3DuzEDn2O69i",
        "colab_type": "code",
        "colab": {
          "base_uri": "https://localhost:8080/",
          "height": 35
        },
        "outputId": "e3c9e669-9c20-48d2-8fdc-e63f93cf2dca"
      },
      "source": [
        "subway.append(\"하하\")\n",
        "print(subway)"
      ],
      "execution_count": null,
      "outputs": [
        {
          "output_type": "stream",
          "text": [
            "['유재석', '조세호', '박명수', '하하', '하하', '하하']\n"
          ],
          "name": "stdout"
        }
      ]
    },
    {
      "cell_type": "code",
      "metadata": {
        "id": "j_MTwZXLO6_g",
        "colab_type": "code",
        "colab": {
          "base_uri": "https://localhost:8080/",
          "height": 35
        },
        "outputId": "a3f262b3-dc24-4fcd-9ecb-7813ed906195"
      },
      "source": [
        "subway.insert(1,\"정형돈\")\n",
        "print(subway)"
      ],
      "execution_count": null,
      "outputs": [
        {
          "output_type": "stream",
          "text": [
            "['유재석', '정형돈', '조세호', '박명수', '하하', '하하', '하하']\n"
          ],
          "name": "stdout"
        }
      ]
    },
    {
      "cell_type": "code",
      "metadata": {
        "id": "66HptuB6O7Bx",
        "colab_type": "code",
        "colab": {
          "base_uri": "https://localhost:8080/",
          "height": 35
        },
        "outputId": "226f1bab-1bff-4c11-c43c-ae34e55123e4"
      },
      "source": [
        "print(subway.count(\"하하\"))"
      ],
      "execution_count": null,
      "outputs": [
        {
          "output_type": "stream",
          "text": [
            "3\n"
          ],
          "name": "stdout"
        }
      ]
    },
    {
      "cell_type": "code",
      "metadata": {
        "id": "qWRfFvvkO7EN",
        "colab_type": "code",
        "colab": {
          "base_uri": "https://localhost:8080/",
          "height": 54
        },
        "outputId": "b6577493-a43d-4912-d541-9a473a835be6"
      },
      "source": [
        "print(subway.pop())\n",
        "print(subway)"
      ],
      "execution_count": null,
      "outputs": [
        {
          "output_type": "stream",
          "text": [
            "하하\n",
            "['유재석', '정형돈', '조세호', '박명수', '하하', '하하']\n"
          ],
          "name": "stdout"
        }
      ]
    },
    {
      "cell_type": "code",
      "metadata": {
        "id": "Gj9RW1YeO7IH",
        "colab_type": "code",
        "colab": {
          "base_uri": "https://localhost:8080/",
          "height": 35
        },
        "outputId": "4199d7e8-7e8c-4c69-9d2e-c9fbf28142ec"
      },
      "source": [
        "num_list=[5,2,4,3,1]\n",
        "num_list.sort()\n",
        "print(num_list)\n"
      ],
      "execution_count": null,
      "outputs": [
        {
          "output_type": "stream",
          "text": [
            "[1, 2, 3, 4, 5]\n"
          ],
          "name": "stdout"
        }
      ]
    },
    {
      "cell_type": "code",
      "metadata": {
        "id": "7v9yzxmlO7K7",
        "colab_type": "code",
        "colab": {
          "base_uri": "https://localhost:8080/",
          "height": 35
        },
        "outputId": "503eeb2b-c76c-445b-a5cf-2860477695e7"
      },
      "source": [
        "num_list.reverse()\n",
        "print(num_list)"
      ],
      "execution_count": null,
      "outputs": [
        {
          "output_type": "stream",
          "text": [
            "[5, 4, 3, 2, 1]\n"
          ],
          "name": "stdout"
        }
      ]
    },
    {
      "cell_type": "code",
      "metadata": {
        "id": "pzovX06yI1Gl",
        "colab_type": "code",
        "colab": {
          "base_uri": "https://localhost:8080/",
          "height": 35
        },
        "outputId": "db615ef1-7a17-45df-b429-87bb677d6974"
      },
      "source": [
        "num_list.clear()\n",
        "print(num_list)"
      ],
      "execution_count": null,
      "outputs": [
        {
          "output_type": "stream",
          "text": [
            "[]\n"
          ],
          "name": "stdout"
        }
      ]
    },
    {
      "cell_type": "code",
      "metadata": {
        "id": "GyOVD8RoI70h",
        "colab_type": "code",
        "colab": {
          "base_uri": "https://localhost:8080/",
          "height": 35
        },
        "outputId": "b970d277-6c98-46b0-bbfc-32b850971c34"
      },
      "source": [
        "# 다양한 자료형 함께 사용 \n",
        "num_list=[5,2,4,1,3]\n",
        "mix_list=[\"조세호\", 20, True]\n",
        "print(mix_list)"
      ],
      "execution_count": null,
      "outputs": [
        {
          "output_type": "stream",
          "text": [
            "['조세호', 20, True]\n"
          ],
          "name": "stdout"
        }
      ]
    },
    {
      "cell_type": "code",
      "metadata": {
        "id": "MLKtlu81JQ2_",
        "colab_type": "code",
        "colab": {
          "base_uri": "https://localhost:8080/",
          "height": 35
        },
        "outputId": "aa2be9b0-2caf-41c7-d1cc-53f05aa88376"
      },
      "source": [
        "num_list.extend(mix_list)\n",
        "print(num_list)"
      ],
      "execution_count": null,
      "outputs": [
        {
          "output_type": "stream",
          "text": [
            "[5, 2, 4, 1, 3, '조세호', 20, True]\n"
          ],
          "name": "stdout"
        }
      ]
    },
    {
      "cell_type": "code",
      "metadata": {
        "id": "kCLmUd4-JkM-",
        "colab_type": "code",
        "colab": {
          "base_uri": "https://localhost:8080/",
          "height": 145
        },
        "outputId": "3bc9ed0c-f978-4afd-d52c-133d877a6325"
      },
      "source": [
        "# 사전 딕셔너리 \n",
        "cabinet={3:\"유재석\", 100:\"김태호\"}\n",
        "print(cabinet[3])\n",
        "print(cabinet.get(3))\n",
        "print(cabinet.get(5, \"사용가능\"))\n",
        "print(cabinet)\n",
        "print(cabinet.keys())\n",
        "print(cabinet.values())\n",
        "print(cabinet.items())"
      ],
      "execution_count": null,
      "outputs": [
        {
          "output_type": "stream",
          "text": [
            "유재석\n",
            "유재석\n",
            "사용가능\n",
            "{3: '유재석', 100: '김태호'}\n",
            "dict_keys([3, 100])\n",
            "dict_values(['유재석', '김태호'])\n",
            "dict_items([(3, '유재석'), (100, '김태호')])\n"
          ],
          "name": "stdout"
        }
      ]
    },
    {
      "cell_type": "code",
      "metadata": {
        "id": "8xklZceNzSub",
        "colab_type": "code",
        "colab": {
          "base_uri": "https://localhost:8080/",
          "height": 54
        },
        "outputId": "5cbf6c34-a7eb-4802-fc95-e7cdf6537b60"
      },
      "source": [
        "# 튜플 \n",
        "menu=(\"돈까스\", \"치즈돈까스\")\n",
        "print(menu[0])\n",
        "name=\"김종국\"\n",
        "age=20\n",
        "hobby=\"코딩\"\n",
        "print(name, age, hobby)"
      ],
      "execution_count": null,
      "outputs": [
        {
          "output_type": "stream",
          "text": [
            "돈까스\n",
            "김종국 20 코딩\n"
          ],
          "name": "stdout"
        }
      ]
    },
    {
      "cell_type": "code",
      "metadata": {
        "id": "AMTQkBGEzSyw",
        "colab_type": "code",
        "colab": {
          "base_uri": "https://localhost:8080/",
          "height": 35
        },
        "outputId": "016dcd3a-4918-4312-d664-5944ea166012"
      },
      "source": [
        "#집합(set) = 중복 안됨, 순서 없음 \n",
        "my_set={1,2,3,3,3,3,3}\n",
        "print(my_set)"
      ],
      "execution_count": null,
      "outputs": [
        {
          "output_type": "stream",
          "text": [
            "{1, 2, 3}\n"
          ],
          "name": "stdout"
        }
      ]
    },
    {
      "cell_type": "code",
      "metadata": {
        "id": "Xa8cDIyzzS1r",
        "colab_type": "code",
        "colab": {
          "base_uri": "https://localhost:8080/",
          "height": 90
        },
        "outputId": "e9c2e589-0d4b-4ef1-f11c-185a50e5ff5f"
      },
      "source": [
        "java={\"유재석\", \"김태호\", \"양세형\"}\n",
        "python=set([\"유재석\", \"박명수\"])\n",
        "print(java&python)\n",
        "print(java|python)\n",
        "print(java.difference(python))\n",
        "python.add(\"김태호\")\n",
        "print(python)"
      ],
      "execution_count": null,
      "outputs": [
        {
          "output_type": "stream",
          "text": [
            "{'유재석'}\n",
            "{'김태호', '박명수', '유재석', '양세형'}\n",
            "{'김태호', '양세형'}\n",
            "{'김태호', '유재석', '박명수'}\n"
          ],
          "name": "stdout"
        }
      ]
    },
    {
      "cell_type": "code",
      "metadata": {
        "id": "wQKre_fDzS4A",
        "colab_type": "code",
        "colab": {
          "base_uri": "https://localhost:8080/",
          "height": 108
        },
        "outputId": "c2801463-c459-4a8f-8658-93d9cd1bdcc6"
      },
      "source": [
        "# 자료구조변경 \n",
        "menu={\"커피\", \"우유\", \"쥬스\"}\n",
        "print(menu)\n",
        "print(menu, type(menu))\n",
        "menu=list(menu)\n",
        "print(menu, type(menu))\n",
        "menu=tuple(menu)\n",
        "print(menu)\n",
        "menu=set(menu)\n",
        "print(menu, type(menu))"
      ],
      "execution_count": null,
      "outputs": [
        {
          "output_type": "stream",
          "text": [
            "{'쥬스', '커피', '우유'}\n",
            "{'쥬스', '커피', '우유'} <class 'set'>\n",
            "['쥬스', '커피', '우유'] <class 'list'>\n",
            "('쥬스', '커피', '우유')\n",
            "{'쥬스', '커피', '우유'} <class 'set'>\n"
          ],
          "name": "stdout"
        }
      ]
    },
    {
      "cell_type": "code",
      "metadata": {
        "id": "eS-VjpPAzS6L",
        "colab_type": "code",
        "colab": {
          "base_uri": "https://localhost:8080/",
          "height": 181
        },
        "outputId": "da17ca39-c5b7-4aa3-d23a-f03a735d7e6e"
      },
      "source": [
        "# 5과 퀴즈 \n",
        "from random import*\n",
        "users=range(1,21)\n",
        "print(type(users))\n",
        "print(users)\n",
        "users=list(users)\n",
        "print(type(users))\n",
        "print(users)\n",
        "shuffle(users)\n",
        "print(users)\n",
        "winners=sample(users, 4)\n",
        "print(\"--당첨자 발표--\")\n",
        "print(\"치킨 담청자:{0}\".format(winners[0]))\n",
        "print(\"커피 담청자:{0}\".format(winners[1:]))\n",
        "print(\"축하합니다.\")"
      ],
      "execution_count": null,
      "outputs": [
        {
          "output_type": "stream",
          "text": [
            "<class 'range'>\n",
            "range(1, 21)\n",
            "<class 'list'>\n",
            "[1, 2, 3, 4, 5, 6, 7, 8, 9, 10, 11, 12, 13, 14, 15, 16, 17, 18, 19, 20]\n",
            "[11, 15, 6, 1, 19, 3, 2, 13, 17, 10, 16, 9, 14, 7, 12, 8, 5, 4, 18, 20]\n",
            "--당첨자 발표--\n",
            "치킨 담청자:15\n",
            "커피 담청자:[2, 9, 1]\n",
            "축하합니다.\n"
          ],
          "name": "stdout"
        }
      ]
    },
    {
      "cell_type": "code",
      "metadata": {
        "id": "0uTu3KLazS8U",
        "colab_type": "code",
        "colab": {
          "base_uri": "https://localhost:8080/",
          "height": 72
        },
        "outputId": "7f3fbf3a-de9f-4235-b09b-8fcb37501bfb"
      },
      "source": [
        "from random import *\n",
        "apple=[1,2,3,4,5]\n",
        "print(apple)\n",
        "shuffle(apple)\n",
        "print(apple)\n",
        "print(sample(apple, 2))"
      ],
      "execution_count": null,
      "outputs": [
        {
          "output_type": "stream",
          "text": [
            "[1, 2, 3, 4, 5]\n",
            "[4, 5, 3, 1, 2]\n",
            "[2, 5]\n"
          ],
          "name": "stdout"
        }
      ]
    },
    {
      "cell_type": "code",
      "metadata": {
        "id": "JDtynhlczS-o",
        "colab_type": "code",
        "colab": {
          "base_uri": "https://localhost:8080/",
          "height": 54
        },
        "outputId": "18cf6183-7e52-432d-8519-48190ff39363"
      },
      "source": [
        "# if 문\n",
        "weather=input(\"오늘날씨어때요?\")\n",
        "if weather==\"비\"or\"눈\":\n",
        "  print(\"우산을 챙기세요.\")\n",
        "elif weather==\"미세먼지\":\n",
        "  print(\"마스크를 챙기세요\")\n",
        "else:\n",
        "  print(\"그냥 가셔도 되요\")"
      ],
      "execution_count": null,
      "outputs": [
        {
          "output_type": "stream",
          "text": [
            "오늘날씨어때요?눈\n",
            "우산을 챙기세요.\n"
          ],
          "name": "stdout"
        }
      ]
    },
    {
      "cell_type": "code",
      "metadata": {
        "id": "r4Luz5kQzTBC",
        "colab_type": "code",
        "colab": {
          "base_uri": "https://localhost:8080/",
          "height": 54
        },
        "outputId": "56971f0d-de0e-4ae5-8655-23cfc0c5d11b"
      },
      "source": [
        "temp=int(input(\"오늘 온도는 몇도 입니까?\"))\n",
        "if 30<=temp:\n",
        "  print(\"오늘 날씨 너무 더워요\")\n",
        "elif 10<=temp and temp<30:\n",
        "  print(\"괜찮은 날씨예요\") \n",
        "elif 0<temp<10:\n",
        "  print(\"외투를 챙기세요\")  \n",
        "else:\n",
        "  print(\"너무 추운 날씨예요.밖에 나가지 마세요\") "
      ],
      "execution_count": null,
      "outputs": [
        {
          "output_type": "stream",
          "text": [
            "오늘 온도는 몇도 입니까?10\n",
            "괜찮은 날씨예요\n"
          ],
          "name": "stdout"
        }
      ]
    },
    {
      "cell_type": "code",
      "metadata": {
        "id": "_PuNKIwoNDFc",
        "colab_type": "code",
        "colab": {
          "base_uri": "https://localhost:8080/",
          "height": 145
        },
        "outputId": "ba78abfc-9650-4481-de68-9f0a6962938c"
      },
      "source": [
        "# For 반복문 \n",
        "# print(\"대기번호:1\")\n",
        "# print(\"대기번호:2\")\n",
        "# print(\"대기번호:3\")\n",
        "\n",
        "# for waiting_no in [0,1,2,3,4]:\n",
        "#   print(\"대기번호;{}\".format(waiting_no))\n",
        "\n",
        "for waiting_no in range(1,8):\n",
        "  print(\"대기번호;{0}\".format(waiting_no))\n"
      ],
      "execution_count": null,
      "outputs": [
        {
          "output_type": "stream",
          "text": [
            "대기번호;1\n",
            "대기번호;2\n",
            "대기번호;3\n",
            "대기번호;4\n",
            "대기번호;5\n",
            "대기번호;6\n",
            "대기번호;7\n"
          ],
          "name": "stdout"
        }
      ]
    },
    {
      "cell_type": "code",
      "metadata": {
        "id": "rPt16IbbNDHz",
        "colab_type": "code",
        "colab": {
          "base_uri": "https://localhost:8080/",
          "height": 72
        },
        "outputId": "3dcd6cf7-4866-4eed-e461-4f404926e2fc"
      },
      "source": [
        "starbucks=[\"아이언맨\",\"토르\",\"아이엠그루트\"]\n",
        "for customers in starbucks:\n",
        "  print(\"{}님, 커피가 준비되었습니다.\".format(customers))"
      ],
      "execution_count": null,
      "outputs": [
        {
          "output_type": "stream",
          "text": [
            "아이언맨님, 커피가 준비되었습니다.\n",
            "토르님, 커피가 준비되었습니다.\n",
            "아이엠그루트님, 커피가 준비되었습니다.\n"
          ],
          "name": "stdout"
        }
      ]
    },
    {
      "cell_type": "code",
      "metadata": {
        "id": "j1RLczAINDKA",
        "colab_type": "code",
        "colab": {
          "base_uri": "https://localhost:8080/",
          "height": 126
        },
        "outputId": "6b0d881d-777d-4d4a-d67a-71ca80d1b5d8"
      },
      "source": [
        "# while (조건에 만족할때까지 반복해라)\n",
        "customer = \"토르\"\n",
        "index=5\n",
        "while index >=1:\n",
        "  print(\"{0}, 커피가 준비되었습니다.{1}번 남았어요.\".format(customer, index))\n",
        "  index-=1\n",
        "if index==0:\n",
        "  print(\"커피는 폐기처분되었습니다.\")"
      ],
      "execution_count": null,
      "outputs": [
        {
          "output_type": "stream",
          "text": [
            "토르, 커피가 준비되었습니다.5번 남았어요.\n",
            "토르, 커피가 준비되었습니다.4번 남았어요.\n",
            "토르, 커피가 준비되었습니다.3번 남았어요.\n",
            "토르, 커피가 준비되었습니다.2번 남았어요.\n",
            "토르, 커피가 준비되었습니다.1번 남았어요.\n",
            "커피는 폐기처분되었습니다.\n"
          ],
          "name": "stdout"
        }
      ]
    },
    {
      "cell_type": "code",
      "metadata": {
        "id": "2rHGWvf0NDNs",
        "colab_type": "code",
        "colab": {}
      },
      "source": [
        "# costomer=\"아이언맨\"\n",
        "# index=1\n",
        "# while True: \n",
        "#   print(\"{0},커피가 준비되었습니다.호출{1} 회 ,\".format(customer, index))\n",
        "#   index+=1"
      ],
      "execution_count": null,
      "outputs": []
    },
    {
      "cell_type": "code",
      "metadata": {
        "id": "WWUj7WDiNDQT",
        "colab_type": "code",
        "colab": {
          "base_uri": "https://localhost:8080/",
          "height": 163
        },
        "outputId": "dffcd8e6-d99d-4bbc-c285-7d52f84f6331"
      },
      "source": [
        "customer=\"토르\"\n",
        "person=\"unknown\"\n",
        "while person!=customer:\n",
        "  print(\"{}, 커피가 준비되었습니다.\".format(customer))\n",
        "  person=input(\"이름이 어떻게 되세요?\")\n"
      ],
      "execution_count": null,
      "outputs": [
        {
          "output_type": "stream",
          "text": [
            "토르, 커피가 준비되었습니다.\n",
            "이름이 어떻게 되세요?울라숑\n",
            "토르, 커피가 준비되었습니다.\n",
            "이름이 어떻게 되세요?논노\n",
            "토르, 커피가 준비되었습니다.\n",
            "이름이 어떻게 되세요?아이언맨\n",
            "토르, 커피가 준비되었습니다.\n",
            "이름이 어떻게 되세요?토르\n"
          ],
          "name": "stdout"
        }
      ]
    },
    {
      "cell_type": "code",
      "metadata": {
        "id": "lBz3qakGNDUk",
        "colab_type": "code",
        "colab": {
          "base_uri": "https://localhost:8080/",
          "height": 163
        },
        "outputId": "114b1336-5f8c-4cbc-9c14-06b11de04a9b"
      },
      "source": [
        "# continue, break (반복문 for에서 쓸수 없는)\n",
        "absent=[2,5]\n",
        "for student in range(1,11):\n",
        "  if student in absent: \n",
        "    continue\n",
        "  print(\"{} 책을 읽어봐\".format(student))  "
      ],
      "execution_count": null,
      "outputs": [
        {
          "output_type": "stream",
          "text": [
            "1 책을 읽어봐\n",
            "3 책을 읽어봐\n",
            "4 책을 읽어봐\n",
            "6 책을 읽어봐\n",
            "7 책을 읽어봐\n",
            "8 책을 읽어봐\n",
            "9 책을 읽어봐\n",
            "10 책을 읽어봐\n"
          ],
          "name": "stdout"
        }
      ]
    },
    {
      "cell_type": "code",
      "metadata": {
        "id": "z6oSPw2GNDYx",
        "colab_type": "code",
        "colab": {
          "base_uri": "https://localhost:8080/",
          "height": 108
        },
        "outputId": "0c197a70-1f56-4849-fb66-6d5f147ef34b"
      },
      "source": [
        "absent=[2,5]\n",
        "no_book=[7]\n",
        "for student in range(1,11):\n",
        "  if student in absent: \n",
        "    continue\n",
        "  elif student in no_book:\n",
        "    print(\" 오늘 수업은 여기까지, {} 교무실로 따라와\".format(student))\n",
        "    break  \n",
        "  print(\"{} 책을 읽어봐\".format(student))  "
      ],
      "execution_count": null,
      "outputs": [
        {
          "output_type": "stream",
          "text": [
            "1 책을 읽어봐\n",
            "3 책을 읽어봐\n",
            "4 책을 읽어봐\n",
            "6 책을 읽어봐\n",
            " 오늘 수업은 여기까지, 7 교무실로 따라와\n"
          ],
          "name": "stdout"
        }
      ]
    },
    {
      "cell_type": "code",
      "metadata": {
        "id": "E__kHT7QNDdJ",
        "colab_type": "code",
        "colab": {
          "base_uri": "https://localhost:8080/",
          "height": 54
        },
        "outputId": "caaca895-be87-41be-9a17-0565a76fbbe5"
      },
      "source": [
        "# 한 줄 for \n",
        "students=[1,2,3,4,5]\n",
        "print(students)\n",
        "students=[i+100 for i in students]\n",
        "print(students)"
      ],
      "execution_count": null,
      "outputs": [
        {
          "output_type": "stream",
          "text": [
            "[1, 2, 3, 4, 5]\n",
            "[101, 102, 103, 104, 105]\n"
          ],
          "name": "stdout"
        }
      ]
    },
    {
      "cell_type": "code",
      "metadata": {
        "id": "CyrCFaHQNDf6",
        "colab_type": "code",
        "colab": {
          "base_uri": "https://localhost:8080/",
          "height": 35
        },
        "outputId": "291616c1-3fc4-4286-e2e4-3afe87e47210"
      },
      "source": [
        "# 리스트 학생 이름 대문자로 변화 \n",
        "students=[\"iron man\", \"thor\", \"i am groot\"]\n",
        "students=[i.upper() for i in students]\n",
        "print(students)"
      ],
      "execution_count": null,
      "outputs": [
        {
          "output_type": "stream",
          "text": [
            "['IRON MAN', 'THOR', 'I AM GROOT']\n"
          ],
          "name": "stdout"
        }
      ]
    },
    {
      "cell_type": "code",
      "metadata": {
        "id": "eDwe1OlsNDit",
        "colab_type": "code",
        "colab": {
          "base_uri": "https://localhost:8080/",
          "height": 945
        },
        "outputId": "80290431-1192-4519-ae24-535d086d2c8f"
      },
      "source": [
        "# 6과 퀴즈 \n",
        "from random import*\n",
        "count=0\n",
        "for i in range(1,51):       # 승객은 50명 총 탑승승객수\n",
        "   time=randrange(5,51)  # 승객별 운행 소요시간 5-50분 운행\n",
        "   if 5<=time<=15:        # 소요시간 5-15분 승객만 매칭 \n",
        "     print(\"[0]{0}번째 손님 (소요시간:{1}분)\".format(i, time))\n",
        "     count+=1\n",
        "   else: \n",
        "     print(\"[]{0}번째 손님 (소요시간 : {1}분)\".format(i, time))\n",
        "print(\"총 탑승승객:{}분\".format(count))"
      ],
      "execution_count": null,
      "outputs": [
        {
          "output_type": "stream",
          "text": [
            "[]1번째 손님 (소요시간 : 30분)\n",
            "[]2번째 손님 (소요시간 : 44분)\n",
            "[]3번째 손님 (소요시간 : 24분)\n",
            "[]4번째 손님 (소요시간 : 20분)\n",
            "[]5번째 손님 (소요시간 : 24분)\n",
            "[0]6번째 손님 (소요시간:7분)\n",
            "[]7번째 손님 (소요시간 : 42분)\n",
            "[]8번째 손님 (소요시간 : 29분)\n",
            "[]9번째 손님 (소요시간 : 33분)\n",
            "[]10번째 손님 (소요시간 : 25분)\n",
            "[]11번째 손님 (소요시간 : 31분)\n",
            "[]12번째 손님 (소요시간 : 36분)\n",
            "[]13번째 손님 (소요시간 : 25분)\n",
            "[]14번째 손님 (소요시간 : 23분)\n",
            "[0]15번째 손님 (소요시간:7분)\n",
            "[]16번째 손님 (소요시간 : 41분)\n",
            "[]17번째 손님 (소요시간 : 29분)\n",
            "[]18번째 손님 (소요시간 : 34분)\n",
            "[]19번째 손님 (소요시간 : 41분)\n",
            "[]20번째 손님 (소요시간 : 31분)\n",
            "[]21번째 손님 (소요시간 : 23분)\n",
            "[]22번째 손님 (소요시간 : 22분)\n",
            "[]23번째 손님 (소요시간 : 48분)\n",
            "[]24번째 손님 (소요시간 : 20분)\n",
            "[]25번째 손님 (소요시간 : 44분)\n",
            "[]26번째 손님 (소요시간 : 35분)\n",
            "[0]27번째 손님 (소요시간:15분)\n",
            "[]28번째 손님 (소요시간 : 24분)\n",
            "[]29번째 손님 (소요시간 : 33분)\n",
            "[0]30번째 손님 (소요시간:15분)\n",
            "[]31번째 손님 (소요시간 : 43분)\n",
            "[]32번째 손님 (소요시간 : 49분)\n",
            "[]33번째 손님 (소요시간 : 35분)\n",
            "[0]34번째 손님 (소요시간:5분)\n",
            "[]35번째 손님 (소요시간 : 37분)\n",
            "[0]36번째 손님 (소요시간:8분)\n",
            "[]37번째 손님 (소요시간 : 50분)\n",
            "[]38번째 손님 (소요시간 : 33분)\n",
            "[]39번째 손님 (소요시간 : 35분)\n",
            "[]40번째 손님 (소요시간 : 25분)\n",
            "[]41번째 손님 (소요시간 : 37분)\n",
            "[]42번째 손님 (소요시간 : 41분)\n",
            "[0]43번째 손님 (소요시간:6분)\n",
            "[]44번째 손님 (소요시간 : 29분)\n",
            "[0]45번째 손님 (소요시간:9분)\n",
            "[0]46번째 손님 (소요시간:13분)\n",
            "[0]47번째 손님 (소요시간:7분)\n",
            "[]48번째 손님 (소요시간 : 38분)\n",
            "[]49번째 손님 (소요시간 : 28분)\n",
            "[]50번째 손님 (소요시간 : 21분)\n",
            "총 탑승승객:10분\n"
          ],
          "name": "stdout"
        }
      ]
    },
    {
      "cell_type": "code",
      "metadata": {
        "id": "NfX1EBlx8iYz",
        "colab_type": "code",
        "colab": {
          "base_uri": "https://localhost:8080/",
          "height": 126
        },
        "outputId": "e1cbe731-f2da-4a85-cf0e-0a2b3845a1d8"
      },
      "source": [
        "# 7-2 전달값과 변환값\n",
        "def open_account():\n",
        "  print(\"새로운 계좌가 생성되었습니다.\")\n",
        "open_account()\n",
        "# 입금 \n",
        "def deposit(balance, money):\n",
        "  print(\"입금이 완료되었습니다. 잔액은 {}입니다.\".format(balance+money))\n",
        "  return balance+money\n",
        "balance=0\n",
        "balance=deposit(balance, 1000)\n",
        "print(balance)\n",
        "#출금 \n",
        "def withdraw(balance, money):\n",
        "  if balance>=money:\n",
        "    print(\"출금이 완료되었습니다. 잔액은 {0}원입니다.\".format(balance-money))\n",
        "    return balance-money\n",
        "  else: \n",
        "    print(\"출금이 완료되었습니다. 잔액은 {}원입니다.\".format(balance))\n",
        "    return balance\n",
        "balance=0\n",
        "balance=deposit(balance, 1000)\n",
        "balance=withdraw(balance, 2000)\n",
        "balance=withdraw(balance, 500)\n",
        "def withdraw_night(balance, money):\n",
        "  commission=100\n",
        "  return commission, balance-money-commission\n",
        "  commossion. balance=withdraw-night(balance,500)\n",
        "  print(\"수수료 {0}원이며, 잔액은 {1}원입니다.\".format(commission, balance))"
      ],
      "execution_count": null,
      "outputs": [
        {
          "output_type": "stream",
          "text": [
            "새로운 계좌가 생성되었습니다.\n",
            "입금이 완료되었습니다. 잔액은 1000입니다.\n",
            "1000\n",
            "입금이 완료되었습니다. 잔액은 1000입니다.\n",
            "출금이 완료되었습니다. 잔액은 1000원입니다.\n",
            "출금이 완료되었습니다. 잔액은 500원입니다.\n"
          ],
          "name": "stdout"
        }
      ]
    },
    {
      "cell_type": "code",
      "metadata": {
        "id": "aOwgiHiR8ib5",
        "colab_type": "code",
        "colab": {
          "base_uri": "https://localhost:8080/",
          "height": 90
        },
        "outputId": "d9f5d93b-b956-4c0e-84e2-b0ffc2ab06b8"
      },
      "source": [
        "# 7-3 기본값\n",
        "def profile(name, age, main_lang):\n",
        "  print(\"이름:{0} 나이:{1} 주사용언어:{2}\".format(name, age, main_lang))\n",
        "profile(\"유재석\",20,\"파이썬\")\n",
        "profile(\"김태호\",25,\"자바\")  \n",
        "def profile(name, age=17, main_lang=\"파이썬\"):\n",
        "  print(\"이름:{0} 나이:{1} 주사용언어:{1}\".format(name, age, main_lang))\n",
        "profile(\"유재석\")\n",
        "profile(\"김태호\")"
      ],
      "execution_count": null,
      "outputs": [
        {
          "output_type": "stream",
          "text": [
            "이름:유재석 나이:20 주사용언어:파이썬\n",
            "이름:김태호 나이:25 주사용언어:자바\n",
            "이름:유재석 나이:17 주사용언어:17\n",
            "이름:김태호 나이:17 주사용언어:17\n"
          ],
          "name": "stdout"
        }
      ]
    },
    {
      "cell_type": "code",
      "metadata": {
        "id": "g6iha-B88ieP",
        "colab_type": "code",
        "colab": {
          "base_uri": "https://localhost:8080/",
          "height": 54
        },
        "outputId": "d89d1d01-c575-4896-ba77-cbdfee212797"
      },
      "source": [
        "# 키워드 값 \n",
        "def profile(name, age, main_lang):\n",
        "  print(name, age, main_lang)\n",
        "profile(name=\"유재석\", main_lang=\"파이썬\",age=20)\n",
        "profile(name=\"김태호\", main_lang=\"자바\",age=25)"
      ],
      "execution_count": null,
      "outputs": [
        {
          "output_type": "stream",
          "text": [
            "유재석 20 파이썬\n",
            "김태호 25 자바\n"
          ],
          "name": "stdout"
        }
      ]
    },
    {
      "cell_type": "code",
      "metadata": {
        "id": "NB5C6O2c8igr",
        "colab_type": "code",
        "colab": {
          "base_uri": "https://localhost:8080/",
          "height": 199
        },
        "outputId": "2c50b8f4-e652-4b99-a161-338784b1909a"
      },
      "source": [
        "# 7-5 가변인자 \n",
        "def profile(name, age, *langguge):\n",
        "  print(\"이름:{} 나이:{}\".format(name, age, end=\"\"))\n",
        "  for lang in langguge:\n",
        "    print(lang, end=\"\")\n",
        "    print()\n",
        "profile(\"유재석\",20,\"python\",\"java\",\"c\",\"c++\",\"c#\",\"javascript\") \n",
        "profile(\"김태호\",25,\"kotlin\",\"swift\")   "
      ],
      "execution_count": null,
      "outputs": [
        {
          "output_type": "stream",
          "text": [
            "이름:유재석 나이:20\n",
            "python\n",
            "java\n",
            "c\n",
            "c++\n",
            "c#\n",
            "javascript\n",
            "이름:김태호 나이:25\n",
            "kotlin\n",
            "swift\n"
          ],
          "name": "stdout"
        }
      ]
    },
    {
      "cell_type": "code",
      "metadata": {
        "id": "PAeriVZe8ijI",
        "colab_type": "code",
        "colab": {
          "base_uri": "https://localhost:8080/",
          "height": 126
        },
        "outputId": "742b08d5-f96f-41d5-df0b-06257382b400"
      },
      "source": [
        "# 지역변수(함수 내에서 쓸 수 있는 것) & 전역변수 ( 모든 공간에서)\n",
        "gun=10\n",
        "def checkpoint(soldiers):\n",
        "    global gun\n",
        "    gun=gun-soldiers\n",
        "    print(\"[함수내] 남은총:{}\".format(gun))\n",
        "def checkpoint_ret(gun, soldiers):\n",
        "    gun=gun-soldiers\n",
        "    print(\"[함수내] 남은총:{}\".format(gun))\n",
        "    return gun\n",
        "print(\"전체총:{}\".format(gun))\n",
        "gun=checkpoint_ret(gun,2)\n",
        "print(\"남은총:{}\".format(gun))\n",
        "print(\"전체총:{}\".format(gun))\n",
        "checkpoint(2)\n",
        "print(\"남은총:{}\".format(gun))"
      ],
      "execution_count": null,
      "outputs": [
        {
          "output_type": "stream",
          "text": [
            "전체총:10\n",
            "[함수내] 남은총:8\n",
            "남은총:8\n",
            "전체총:8\n",
            "[함수내] 남은총:6\n",
            "남은총:6\n"
          ],
          "name": "stdout"
        }
      ]
    },
    {
      "cell_type": "code",
      "metadata": {
        "id": "ej-gFI6i8ilc",
        "colab_type": "code",
        "colab": {
          "base_uri": "https://localhost:8080/",
          "height": 35
        },
        "outputId": "f9a3f440-6df4-4cd9-dd89-70f5f526f42a"
      },
      "source": [
        "# 7과 퀴즈 (표준 체중을 구하는 프로그램)\n",
        "def std_weight(height, gender):\n",
        "  if gender==\"남자\":\n",
        "     return height*height*22\n",
        "  else: \n",
        "     return height*height*21\n",
        "height=175\n",
        "gender=\"남자\" \n",
        "weight=round(std_weight(height/100,gender),2)  \n",
        "print(\"키 {}cm {}의 표준체중은 {}kg입니다.\".format(height, gender, weight))     "
      ],
      "execution_count": null,
      "outputs": [
        {
          "output_type": "stream",
          "text": [
            "키 175cm 남자의 표준체중은 67.38kg입니다.\n"
          ],
          "name": "stdout"
        }
      ]
    },
    {
      "cell_type": "code",
      "metadata": {
        "id": "oDRJSEaS8in-",
        "colab_type": "code",
        "colab": {
          "base_uri": "https://localhost:8080/",
          "height": 90
        },
        "outputId": "cb74c8a5-44b9-4cb5-827d-840baa667606"
      },
      "source": [
        "# 8과 표준 입출력 \n",
        "print(\"파이썬\",\"자바\")\n",
        "print(\"파이썬\"+\"자바\")\n",
        "print(\"파이썬\",\"자바\",sep=\",\")\n",
        "print(\"파이썬\",\"자바\",sep=\",\", end=\"??\")\n",
        "print(\"무엇이 더 쉬울까요?\")"
      ],
      "execution_count": null,
      "outputs": [
        {
          "output_type": "stream",
          "text": [
            "파이썬 자바\n",
            "파이썬자바\n",
            "파이썬,자바\n",
            "파이썬,자바??무엇이 더 쉬울까요?\n"
          ],
          "name": "stdout"
        }
      ]
    },
    {
      "cell_type": "code",
      "metadata": {
        "id": "eJ-iLcpj8iqs",
        "colab_type": "code",
        "colab": {
          "base_uri": "https://localhost:8080/",
          "height": 54
        },
        "outputId": "5a107692-cd72-45ed-801c-98668b10fa7f"
      },
      "source": [
        "import sys\n",
        "print(\"python\",\"java\",file=sys.stdout)\n",
        "print(\"python\",\"java\",file=sys.stderr)"
      ],
      "execution_count": null,
      "outputs": [
        {
          "output_type": "stream",
          "text": [
            "python java\n"
          ],
          "name": "stdout"
        },
        {
          "output_type": "stream",
          "text": [
            "python java\n"
          ],
          "name": "stderr"
        }
      ]
    },
    {
      "cell_type": "code",
      "metadata": {
        "id": "00BcNgQP8itQ",
        "colab_type": "code",
        "colab": {
          "base_uri": "https://localhost:8080/",
          "height": 126
        },
        "outputId": "06600b84-ecb2-411e-c1a0-5497ddd771f4"
      },
      "source": [
        "# 시험성적\n",
        "scores={\"수학\":0,\"영어\":50, \"코딩\":100}\n",
        "for subject, score in scores.items():\n",
        "  print(subject, score)\n",
        "  \n",
        "  print(subject.ljust(8), str(score).rjust(4),sep=\":\")"
      ],
      "execution_count": null,
      "outputs": [
        {
          "output_type": "stream",
          "text": [
            "수학 0\n",
            "수학      :   0\n",
            "영어 50\n",
            "영어      :  50\n",
            "코딩 100\n",
            "코딩      : 100\n"
          ],
          "name": "stdout"
        }
      ]
    },
    {
      "cell_type": "code",
      "metadata": {
        "id": "ZRL21c7C8iv4",
        "colab_type": "code",
        "colab": {
          "base_uri": "https://localhost:8080/",
          "height": 381
        },
        "outputId": "893cd958-ea08-436c-fe6d-b2e0ba53e5a9"
      },
      "source": [
        "# 은행 대기순번표 \n",
        "for num in range (1,21):\n",
        "  print(\"대기번호:\"+str(num).zfill(3))"
      ],
      "execution_count": null,
      "outputs": [
        {
          "output_type": "stream",
          "text": [
            "대기번호:001\n",
            "대기번호:002\n",
            "대기번호:003\n",
            "대기번호:004\n",
            "대기번호:005\n",
            "대기번호:006\n",
            "대기번호:007\n",
            "대기번호:008\n",
            "대기번호:009\n",
            "대기번호:010\n",
            "대기번호:011\n",
            "대기번호:012\n",
            "대기번호:013\n",
            "대기번호:014\n",
            "대기번호:015\n",
            "대기번호:016\n",
            "대기번호:017\n",
            "대기번호:018\n",
            "대기번호:019\n",
            "대기번호:020\n"
          ],
          "name": "stdout"
        }
      ]
    },
    {
      "cell_type": "code",
      "metadata": {
        "id": "JrbHLodC8iyY",
        "colab_type": "code",
        "colab": {
          "base_uri": "https://localhost:8080/",
          "height": 54
        },
        "outputId": "1d541150-7c8b-4b8d-b05b-8c85024012d0"
      },
      "source": [
        "print(\"{:>10}\".format(500))\n",
        "print(\"{:,}\".format(100000000000000))"
      ],
      "execution_count": null,
      "outputs": [
        {
          "output_type": "stream",
          "text": [
            "       500\n",
            "100,000,000,000,000\n"
          ],
          "name": "stdout"
        }
      ]
    },
    {
      "cell_type": "code",
      "metadata": {
        "id": "sNUrVsJe8i0o",
        "colab_type": "code",
        "colab": {
          "base_uri": "https://localhost:8080/",
          "height": 181
        },
        "outputId": "ed74fea9-97c1-45ff-cdfc-64e5b28db829"
      },
      "source": [
        "# 파일 입출력 \n",
        "score_file=open(\"score.txt\",\"w\",encoding=\"utf8\")\n",
        "print(\"수학:0\",file=score_file)\n",
        "print(\"영어:50\",file=score_file)\n",
        "score_file.close()\n",
        "\n",
        "score_file=open(\"score.txt\",\"r\",encoding=\"utf8\")\n",
        "print(score_file.read())\n",
        "score_file.close()\n",
        "\n",
        "\n",
        "score_file=open(\"score.txt\",\"r\",encoding=\"utf8\")\n",
        "while True:\n",
        "  line=score_file.readline()\n",
        "  if not line:\n",
        "    break\n",
        "  print(line)  \n",
        "score_file.close()\n",
        "\n",
        "\n",
        "score_file=open(\"score.txt\",\"r\",encoding=\"utf8\")\n",
        "lines=score_file.readlines()\n",
        "for line in lines:\n",
        "  print(line, end=\"\")\n",
        "score_file.close() "
      ],
      "execution_count": null,
      "outputs": [
        {
          "output_type": "stream",
          "text": [
            "수학:0\n",
            "영어:50\n",
            "\n",
            "수학:0\n",
            "\n",
            "영어:50\n",
            "\n",
            "수학:0\n",
            "영어:50\n"
          ],
          "name": "stdout"
        }
      ]
    },
    {
      "cell_type": "code",
      "metadata": {
        "id": "cNVGNsul8i3B",
        "colab_type": "code",
        "colab": {
          "base_uri": "https://localhost:8080/",
          "height": 35
        },
        "outputId": "49dcf5a8-b052-4a0f-858e-5d22ddf04b3a"
      },
      "source": [
        "# pickle (파일형태로 저장 )\n",
        "import pickle\n",
        "profile_file=open(\"profile.pickle\",\"wb\") # 피클은 따로 인코딩 저장을 하지 않음 \n",
        "profile={\"이름\":\"박명수\", \"나이\":30,\"취미\":[\"축구\",\"골프\",\"코딩\"]}\n",
        "print(profile)\n",
        "pickle.dump(profile, profile_file)\n",
        "profile_file.close()"
      ],
      "execution_count": null,
      "outputs": [
        {
          "output_type": "stream",
          "text": [
            "{'이름': '박명수', '나이': 30, '취미': ['축구', '골프', '코딩']}\n"
          ],
          "name": "stdout"
        }
      ]
    },
    {
      "cell_type": "code",
      "metadata": {
        "id": "IfXkrtFq8i5x",
        "colab_type": "code",
        "colab": {
          "base_uri": "https://localhost:8080/",
          "height": 54
        },
        "outputId": "9b954da9-6b40-4b88-adff-038f5b42001e"
      },
      "source": [
        "import pickle\n",
        "profile_file=open(\"profile.pickle\",\"rb\") # 피클은 따로 인코딩 저장을 하지 않음 \n",
        "profile=pickle.load(profile_file)\n",
        "print(profile)\n",
        "profile_file.close()\n",
        "# 만약에 클로즈 파일을 쓰고 싶지 않으면 \n",
        "import pickle\n",
        "with open(\"profile.pickle\",\"rb\")as profile_file: # 피클은 따로 인코딩 저장을 하지 않음 \n",
        "     print(pickle.load(profile_file))\n"
      ],
      "execution_count": null,
      "outputs": [
        {
          "output_type": "stream",
          "text": [
            "{'이름': '박명수', '나이': 30, '취미': ['축구', '골프', '코딩']}\n",
            "{'이름': '박명수', '나이': 30, '취미': ['축구', '골프', '코딩']}\n"
          ],
          "name": "stdout"
        }
      ]
    },
    {
      "cell_type": "code",
      "metadata": {
        "id": "e-Ea-but8i8T",
        "colab_type": "code",
        "colab": {
          "base_uri": "https://localhost:8080/",
          "height": 35
        },
        "outputId": "aae8a03d-8a93-45c3-aa4e-3fcac4339aca"
      },
      "source": [
        "with open(\"study.txt\", \"w\", encoding=\"utf8\")as study_file:\n",
        "  study_file.write(\"파이썬을 열심히 공부하고 있어요\")\n",
        "with open(\"study.txt\", \"r\", encoding=\"utf8\")as study_file:\n",
        "  print( study_file.read())"
      ],
      "execution_count": null,
      "outputs": [
        {
          "output_type": "stream",
          "text": [
            "파이썬을 열심히 공부하고 있어요\n"
          ],
          "name": "stdout"
        }
      ]
    },
    {
      "cell_type": "code",
      "metadata": {
        "id": "Q-Kn4MzJ8jBB",
        "colab_type": "code",
        "colab": {}
      },
      "source": [
        "# 8과 퀴즈 \n",
        "for i in range(1,51):\n",
        "  with open(str(i)+\"주차.txt\", \"w\",encoding=\"utf8\")as report_file:\n",
        "         report_file.write(\"-{0}주차 주간보고-\".format(i))\n",
        "         report_file.write(\"부서:\")\n",
        "         report_file.write(\"이름:\")\n",
        "         report_file.write(\"업무 요약:\")"
      ],
      "execution_count": null,
      "outputs": []
    },
    {
      "cell_type": "code",
      "metadata": {
        "id": "kj4qQRe5PnCM",
        "colab_type": "code",
        "colab": {
          "base_uri": "https://localhost:8080/",
          "height": 472
        },
        "outputId": "b05615b5-0f2e-4a1a-b929-16434011bae9"
      },
      "source": [
        "# 9과 스타크래프트 \n",
        "# 마린 : 공격유닛, 군인이며 총을 쏠 수 있음 \n",
        "name=\"마린\"\n",
        "hp=40                     #체력\n",
        "damage=5                  # 공격력\n",
        "print(\"{}유닛이 생성되었습니다.\".format(name))\n",
        "print(\"체력{}, 공격력{} \".format(hp, damage))\n",
        "\n",
        "# 탱크 : 공격유닛, 탱크, 포를 쏠 수 있는데, 일반모드가 있고, 시즈모드가 있음\n",
        "tank_name=\"탱크\"\n",
        "tank_hp=150\n",
        "tank_damage=35\n",
        "print(\"{}유닛이 생성되었습니다.\".format(tank_name))\n",
        "print(\"체력{}, 공격력{} \".format(tank_hp, tank_damage))\n",
        "\n",
        "def attack(name, location, damage):\n",
        "  print(\"{0}:{1}방향으로 적군을 공격합니다.[공격력 {2}]\".format(name, location, damage))\n",
        "attack(name, \"1시\",damage)\n",
        "attack(tank_name, \"1시\",tank_damage)\n",
        "\n",
        "print(\"#####################\")\n",
        "\n",
        "# ####### 본격적으로 \n",
        "# ####### class = 붕아빵 틀 ###################################################\n",
        "\n",
        "################# 일반유닛\n",
        "class Unit:\n",
        "  def __init__(self, name, hp, damage):\n",
        "    self.name=name\n",
        "    self.hp=hp\n",
        "    self.damage=damage\n",
        "    print(\"{}유닛이 생성되었습니다.\".format(self.name))\n",
        "    print(\"체력{}, 공격력{}\".format(self.hp, self.damage))\n",
        "marine1 = Unit(\"마린\", 40, 5)    \n",
        "marine2 = Unit(\"마린\", 40, 5)    \n",
        "tank = Unit(\"탱크\", 150, 35)    \n",
        "\n",
        "# 레이스 : 공중유닛, 비행기, 클로킹(상대방에게 보이지 않는 )\n",
        "wraith1=Unit(\"레이스\", 80,5)\n",
        "print(\"유닛이름:{},공격력:{}\".format(wraith1.name, wraith1.damage))\n",
        "# 마인드 컨트롤 : 상대방 유닛을 내것으로 만드는것 빼앗음\n",
        "wraith2=Unit(\"빼앗은 레이스\", 80,5)\n",
        "wraith2.clocking = True     # 변수 추가 \n",
        "\n",
        "if wraith2.clocking == True:\n",
        "    print(\"{}는 현재 클로킹 상태입니다.\".format(wraith2.name))\n",
        "\n",
        "##########   공격유닛\n",
        "class AttackUnit:\n",
        "  def __init__(self, name, hp, damage):\n",
        "    self.name=name\n",
        "    self.hp=hp\n",
        "    self.damage=damage\n",
        "  def attack(self, location):\n",
        "      print(\"{0} :{1} 방향으로 적군을 공격합니다.[공격력 {2}]\".format(self.name, location, self.damage))\n",
        "  def damaged(self, damage):\n",
        "     print(\"{0}:{1} 데미지를 입었습니다.\".format(self.name, damage)) \n",
        "     self.hp-=damage\n",
        "     print(\"{0}:현재 체력은 {1}입니다.\".format(self.name, self.hp)) \n",
        "     if self.hp<=0:\n",
        "                  print(\"{0}:파괴되었습니다.\".format(self.name))\n",
        "# 파이어뱃 : 공격유닛, 화염방사기 \n",
        "firebat1=AttackUnit(\"파이어뱃\", 50, 16)\n",
        "firebat1.attack(\"5시\")\n",
        "# 공격 2번 받는다고 가정 \n",
        "firebat1.damaged(25)\n",
        "firebat1.damaged(25)\n"
      ],
      "execution_count": null,
      "outputs": [
        {
          "output_type": "stream",
          "text": [
            "마린유닛이 생성되었습니다.\n",
            "체력40, 공격력5 \n",
            "탱크유닛이 생성되었습니다.\n",
            "체력150, 공격력35 \n",
            "마린:1시방향으로 적군을 공격합니다.[공격력 5]\n",
            "탱크:1시방향으로 적군을 공격합니다.[공격력 35]\n",
            "#####################\n",
            "마린유닛이 생성되었습니다.\n",
            "체력40, 공격력5\n",
            "마린유닛이 생성되었습니다.\n",
            "체력40, 공격력5\n",
            "탱크유닛이 생성되었습니다.\n",
            "체력150, 공격력35\n",
            "레이스유닛이 생성되었습니다.\n",
            "체력80, 공격력5\n",
            "유닛이름:레이스,공격력:5\n",
            "빼앗은 레이스유닛이 생성되었습니다.\n",
            "체력80, 공격력5\n",
            "빼앗은 레이스는 현재 클로킹 상태입니다.\n",
            "파이어뱃 :5시 방향으로 적군을 공격합니다.[공격력 16]\n",
            "파이어뱃:25 데미지를 입었습니다.\n",
            "파이어뱃:현재 체력은 25입니다.\n",
            "파이어뱃:25 데미지를 입었습니다.\n",
            "파이어뱃:현재 체력은 0입니다.\n",
            "파이어뱃:파괴되었습니다.\n"
          ],
          "name": "stdout"
        }
      ]
    },
    {
      "cell_type": "code",
      "metadata": {
        "id": "h0fWE_pSPnG7",
        "colab_type": "code",
        "colab": {
          "base_uri": "https://localhost:8080/",
          "height": 145
        },
        "outputId": "40a15314-5aa5-4388-a58a-10cf7ee7e8cc"
      },
      "source": [
        "# 9-5 상속 (부모 , 자식 )\n",
        "# 메딕 : 의무병, 공격력 없음 \n",
        "# 일반유닛 \n",
        "class Unit: \n",
        "    def __init__(self, name, hp):\n",
        "       self.name=name\n",
        "       self.hp=hp\n",
        "# 공격유닛 \n",
        "class AttackUnit(Unit):\n",
        "  def __init__(self, name, hp, damage):\n",
        "    Unit.__init__(self, name, hp)\n",
        "    self.damage=damage\n",
        "\n",
        "  def attack(self, location):\n",
        "      print(\"{0} :{1} 방향으로 적군을 공격합니다.[공격력 {2}]\".format(self.name, location, self.damage))\n",
        "  def damaged(self, damage):\n",
        "     print(\"{0}:{1} 데미지를 입었습니다.\".format(self.name, damage)) \n",
        "     self.hp-=damage\n",
        "     print(\"{0}:현재 체력은 {1}입니다.\".format(self.name, self.hp)) \n",
        "     if self.hp<=0:\n",
        "                  print(\"{0}:파괴되었습니다.\".format(self.name))\n",
        "# 파이어뱃 : 공격유닛, 화염방사기 \n",
        "firebat1=AttackUnit(\"파이어뱃\", 50, 16)\n",
        "firebat1.attack(\"5시\")\n",
        "# 공격 2번 받는다고 가정 \n",
        "firebat1.damaged(25)\n",
        "firebat1.damaged(25)\n",
        "\n",
        "# ##################### 다중상속 (부모 2 이상)######################\n",
        "# 드랍쉽: 공중유닛, 수송기, 머린/파이어뱃/탱크 등을 수송, 공격 안함 \n",
        "# 날 수 있는 기능을 가진 클래스 \n",
        "class Flyable: \n",
        "  def __init__(self, flying_speed):\n",
        "    self.flying_speed=flying_speed\n",
        "  def fly(self, name, location): \n",
        "    print(\"{}:{}방향으로 날아갑니다.[속도{}]\".format(name, location, self.flying_speed))\n",
        "# 날 수 있는 공중 공격 유닛 클래스 \n",
        "class FlyableAttackUnit(AttackUnit, Flyable): \n",
        "  def __init__(self, name, hp, damage, flying_speed): \n",
        "    AttackUnit.__init__(self, name, hp, damage)\n",
        "    Flyable.__init__(self, flying_speed) \n",
        "# 발키리: 공중 공격유닛, 한번에 14발 미사일 발사 \n",
        "Valkyrie= FlyableAttackUnit(\"발키리\", 200, 6,5)\n",
        "Valkyrie.fly(Valkyrie.name, \"3시\")\n"
      ],
      "execution_count": null,
      "outputs": [
        {
          "output_type": "stream",
          "text": [
            "파이어뱃 :5시 방향으로 적군을 공격합니다.[공격력 16]\n",
            "파이어뱃:25 데미지를 입었습니다.\n",
            "파이어뱃:현재 체력은 25입니다.\n",
            "파이어뱃:25 데미지를 입었습니다.\n",
            "파이어뱃:현재 체력은 0입니다.\n",
            "파이어뱃:파괴되었습니다.\n",
            "발키리:3시방향으로 날아갑니다.[속도5]\n"
          ],
          "name": "stdout"
        }
      ]
    },
    {
      "cell_type": "code",
      "metadata": {
        "id": "pFJ0XuSsPnLZ",
        "colab_type": "code",
        "colab": {
          "base_uri": "https://localhost:8080/",
          "height": 272
        },
        "outputId": "c39cc4b0-ac16-4bf1-e1fe-be34db1e90ce"
      },
      "source": [
        "# 메소드 오버라이딩(=자식 클래스에서 정의한 메소드를 쓰고 싶을 때 )\n",
        "# 일반유닛\n",
        "class Unit: \n",
        "  def __init__(self, name, hp, speed): \n",
        "    self.name=name\n",
        "    self.hp=hp\n",
        "    self.speed=speed\n",
        "  def move(self, location):\n",
        "    print(\"[지상유닛이동]\") \n",
        "    print(\"{}:{} 방향으로 이동합니다.[속도{}]\".format(self.name, location, self.speed)) \n",
        "\n",
        "# 공격유닛 \n",
        "class AttackUnit(Unit): \n",
        "  def __init__(self, name, hp, speed, damage): \n",
        "    Unit.__init__(self, name, hp, speed)  # 스피드 추가 \n",
        "    self.damage=damage\n",
        "  def attack(self, location):\n",
        "      print(\"{0} :{1} 방향으로 적군을 공격합니다.[공격력 {2}]\".format(self.name, location, self.damage))\n",
        "  def damaged(self, damage):\n",
        "     print(\"{0}:{1} 데미지를 입었습니다.\".format(self.name, damage)) \n",
        "     self.hp-=damage\n",
        "     print(\"{0}:현재 체력은 {1}입니다.\".format(self.name, self.hp)) \n",
        "     if self.hp<=0:\n",
        "                  print(\"{0}:파괴되었습니다.\".format(self.name))\n",
        "# 파이어뱃 : 공격유닛, 화염방사기 \n",
        "firebat1=AttackUnit(\"파이어뱃\", 50,0,16)\n",
        "firebat1.attack(\"5시\")\n",
        "# 공격 2번 받는다고 가정 \n",
        "firebat1.damaged(25)\n",
        "firebat1.damaged(25)\n",
        "# 날 수 있는 기능을 가진 클래스 \n",
        "class Flyable: \n",
        "  def __init__(self, flying_speed):\n",
        "    self.flying_speed=flying_speed\n",
        "  def fly(self, name, location): \n",
        "    print(\"{}:{}방향으로 날아갑니다.[속도{}]\".format(name, location, self.flying_speed))\n",
        "\n",
        "# 날 수 있는 공중 공격 유닛 클래스 \n",
        "class FlyableAttackUnit(AttackUnit, Flyable): \n",
        "  def __init__(self, name, hp, damage, flying_speed): \n",
        "    AttackUnit.__init__(self, name, hp,0, damage) # 지상스피드 0 \n",
        "    Flyable.__init__(self, flying_speed) \n",
        "  def move(self, location):\n",
        "    print(\"[공중유닛이동]\")\n",
        "    self.fly(self.name, location)  \n",
        "# 벌쳐 : 지상유닛, 기동성이 좋음 \n",
        "Vulture=AttackUnit(\"벌쳐\", 80, 10, 20)\n",
        "# 배틀크루져: 공중유닛, 체력도 굉장히 좋음, 공격력도 좋음 \n",
        "battlecruiser=FlyableAttackUnit(\"배틀크루저\", 500,25,3)\n",
        "Vulture.move(\"11시\")\n",
        "battlecruiser. fly(battlecruiser.name, \"9시\")\n",
        "battlecruiser.move(\"9시\")\n",
        "# 발키리: 공중 공격유닛, 한번에 14발 미사일 발사 \n",
        "Valkyrie= FlyableAttackUnit(\"발키리\", 200, 6,5)\n",
        "Valkyrie.fly(Valkyrie.name, \"3시\")\n",
        "###### 9-8 pass ################################\n",
        "# 건물 \n",
        "class BuildingUnit(Unit): \n",
        "  def __init__(self, name, hp, location): \n",
        "    pass           # 아무것도 안하고 넘어간다. \n",
        "# 서플라이 디폿: 건물, 1개 건물 = 8 유닛\n",
        "supply_depot=BuildingUnit(\"서플라이디폿\", 500, \"7시\") \n",
        "def game_start():\n",
        "       print(\"[알림] 새로운 게임을 시작합니다.\")\n",
        "def game_over():\n",
        "    pass\n",
        "game_start()\n",
        "game_start()     \n",
        "\n",
        "# 9-9 super\n",
        "# 건물 \n",
        "class BuildingUnit(Unit): \n",
        "  def __init__(self, name, hp, location): \n",
        "    Unit.__init__(self, name, hp, 0)\n",
        "    super().__init__(name, hp, 0)"
      ],
      "execution_count": null,
      "outputs": [
        {
          "output_type": "stream",
          "text": [
            "파이어뱃 :5시 방향으로 적군을 공격합니다.[공격력 16]\n",
            "파이어뱃:25 데미지를 입었습니다.\n",
            "파이어뱃:현재 체력은 25입니다.\n",
            "파이어뱃:25 데미지를 입었습니다.\n",
            "파이어뱃:현재 체력은 0입니다.\n",
            "파이어뱃:파괴되었습니다.\n",
            "[지상유닛이동]\n",
            "벌쳐:11시 방향으로 이동합니다.[속도10]\n",
            "배틀크루저:9시방향으로 날아갑니다.[속도3]\n",
            "[공중유닛이동]\n",
            "배틀크루저:9시방향으로 날아갑니다.[속도3]\n",
            "발키리:3시방향으로 날아갑니다.[속도5]\n",
            "[알림] 새로운 게임을 시작합니다.\n",
            "[알림] 새로운 게임을 시작합니다.\n"
          ],
          "name": "stdout"
        }
      ]
    },
    {
      "cell_type": "code",
      "metadata": {
        "id": "nfgmzlMoPnOm",
        "colab_type": "code",
        "colab": {
          "base_uri": "https://localhost:8080/",
          "height": 72
        },
        "outputId": "d1612268-e620-4603-924b-83721775d114"
      },
      "source": [
        "class Unit: \n",
        "  def __init__(self):\n",
        "    print(\"Unit 생성자\")\n",
        "class Flyable: \n",
        "  def __init__(self): \n",
        "    print(\"Unit 생성자\") \n",
        "class FlyableUnit(Unit, Flyable): \n",
        "  def __init__(self): \n",
        "    super().__init__()\n",
        "    Unit.__init__(self)\n",
        "    Flyable.__init__(self)     # 유닛생성자. 플래이어블 생성자 \n",
        "    # 드랍쉽(=수송만 하는, 공격 못하는 유닛)\n",
        "dropship=FlyableUnit()           "
      ],
      "execution_count": null,
      "outputs": [
        {
          "output_type": "stream",
          "text": [
            "Unit 생성자\n",
            "Unit 생성자\n",
            "Unit 생성자\n"
          ],
          "name": "stdout"
        }
      ]
    },
    {
      "cell_type": "code",
      "metadata": {
        "id": "dNiPomnnPnTV",
        "colab_type": "code",
        "colab": {
          "base_uri": "https://localhost:8080/",
          "height": 817
        },
        "outputId": "95a3fe42-5200-4a49-d833-8fe2b8de16ea"
      },
      "source": [
        "# 9-10 스타크래프트 (전, 후)\n",
        "from random import *\n",
        "# 일반유닛 \n",
        "class Unit: \n",
        "  def __init__(self, name, hp, speed): \n",
        "      self.name=name\n",
        "      self.hp=hp\n",
        "      self.speed=speed\n",
        "      print(\"{}유닛이 생성되었습니다.\".format(name))\n",
        "  def move(self, location): \n",
        "    print(\"[지상유닛이동]\")\n",
        "    print(\"{0}:{1} 방향으로 이동합니다.[속도{2}]\".format(self.name, location, self.speed))\n",
        "  def damaged(self, damage): \n",
        "    print(\"{}:{} 데미지를 입었습니다.\".format(self.name, damage))\n",
        "    self.hp-=damage\n",
        "    print(\"{0}:현재 체력은 {1}입니다.\".format(self.name, damage))\n",
        "    if self.hp<=0:\n",
        "      print(\"{}:파괴되었습니다.\".format(self.name)) \n",
        "# 공격유닛 \n",
        "class AttackUnit(Unit): \n",
        "  def __init__(self, name, hp, speed, damage): \n",
        "    Unit.__init__(self, name, hp, speed)\n",
        "    self.damage=damage\n",
        "  def attack(self, location): \n",
        "    print(\"{}:{} 방향으로 적군을 공격합니다.[공격력{}]\".format(self.name, location, self.damage))\n",
        "# 마린 \n",
        "class Marine(AttackUnit): \n",
        "  def __init__(self): \n",
        "    AttackUnit.__init__(self, \"마린\", 40,1,5) # 이름. 체력, 스피드, 공격력 \n",
        "# 스팀팩: 일정 시간 동안 이동 공격 속도 증가, 체력 10 감소 \n",
        "  def stimpack(self): \n",
        "    if self.hp>10:           #스팀팩 쓸러임  \n",
        "       self.hp-=10\n",
        "       print(\"{} :스팀팩을 사용합니다.(hp 10 감소)\".format(self.name))\n",
        "    else: \n",
        "       print(\"{}: 체력이 부족하여 스탬팩을 사용지 않습니다.\".format(self.name))\n",
        "# 탱크 \n",
        "class Tank(AttackUnit): \n",
        "# 시즈모드(특수기능): 탱크를 지상에 고정시켜, 더 높은 파워로 공격가능, 이동불가\n",
        "   seize_developed=False       #시즈모드 개발여부 \n",
        "   def __init__(self): \n",
        "    AttackUnit.__init__(self, \"탱크\", 150,1,35)\n",
        "    self.seize_mode=False\n",
        "\n",
        "   def set_seize_mode(self): \n",
        "    if Tank.seize_developed==False: \n",
        "      return\n",
        "# 현재 시즈모드가 아닐떄 --> 시즈모드 \n",
        "    if self.seize_mode==False: \n",
        "     print(\"{}:시즈모드로 전환합니다.\".format(self.name))\n",
        "     self.damage*=2\n",
        "     self.seize_mode=True\n",
        "# 현재 시즈모드 일때 ---> 시즈모드 해제   \n",
        "    else: \n",
        "     print(\"{}:시즈모드를 해제합니다.\".format(self.name)) \n",
        "     self.damage/=2\n",
        "     self.seize_mode=False                  \n",
        "# 날 수 있는 기능을 가진 클래스 \n",
        "class Flyable: \n",
        "  def __init__(self, flying_speed):\n",
        "    self.flying_speed=flying_speed\n",
        "  def fly(self, name, location): \n",
        "    print(\"{}:{}방향으로 날아갑니다.[속도{}]\".format(name, location, self.flying_speed))\n",
        "\n",
        "# 날 수 있는 공중 공격 유닛 클래스 \n",
        "class FlyableAttackUnit(AttackUnit, Flyable): \n",
        "  def __init__(self, name, hp, damage, flying_speed): \n",
        "    AttackUnit.__init__(self, name, hp,0, damage) # 지상스피드 0 \n",
        "    Flyable.__init__(self, flying_speed) \n",
        "  def move(self, location):\n",
        "    print(\"[공중유닛이동]\")\n",
        "    self.fly(self.name, location)  \n",
        "# 레이스 \n",
        "class Wraith(FlyableAttackUnit): \n",
        "  def __init__(self): \n",
        "    FlyableAttackUnit.__init__(self, \"레이스\", 80,20,5)\n",
        "    self.clocked=False\n",
        "  def cloking(self): \n",
        "    if self.clocked==True: \n",
        "      print(\"{}:클로킹 모드 해제합니다.\".format(self.name)) \n",
        "      self.clocked=False\n",
        "    else: \n",
        "      print(\"{}:클로킹 모드 설정합니다\".format(self.name)) \n",
        "      self.clocked=True\n",
        "  def game_start():\n",
        "    print(\"[알림] 새로운 게임을 시작합니다.\")\n",
        "  def game_over(): \n",
        "    print(\"player:gg\")\n",
        "    print(\"[player]님이 게임에서 퇴장하였습니다.\")     \n",
        "# 실제 게임 진행(시작)\n",
        "game_start()\n",
        "# 마린 3기 생성 \n",
        "m1=Marine()\n",
        "m2=Marine()\n",
        "m3=Marine()\n",
        "\n",
        "# 탱크2기 생성 \n",
        "t1=Tank()\n",
        "t2=Tank()\n",
        "# 레이스 1시 생성\n",
        "w1=Wraith()\n",
        "#유닛 일괄관리(생성된 모든 유닛 append)\n",
        "attack_Units=[]\n",
        "attack_Units.append(m1)\n",
        "attack_Units.append(m2)\n",
        "attack_Units.append(m3)\n",
        "attack_Units.append(t1)\n",
        "attack_Units.append(t1)\n",
        "attack_Units.append(w1)\n",
        "# 전군이동 \n",
        "for Unit in attack_Units: \n",
        "  Unit.move(\"1시\")\n",
        "# 탱크 시즈모드 개발 \n",
        "Tank.seize_developed=True\n",
        "print(\"[알림] 탱크 시즈모드 개발이 완료되었습니다. \")\n",
        "# 공격모드준비(마린:스팀팩, 탱크:시즈모드, 레이스:클로킹)\n",
        "for Unit in attack_Units: \n",
        "  if isinstance(Unit, Marine): # 이즈인스텐스: 이 유닛이 마린인지확인, 마린이면 스팀팩을 씀 \n",
        "     Unit.stimpack()\n",
        "  elif isinstance(Unit, Tank):\n",
        "    Unit.set_seize_mode()\n",
        "  elif isinstance(Unit,Wraith): \n",
        "    Unit.cloking()\n",
        "# 전군공격\n",
        "for Unit in attack_Units: \n",
        "  Unit.attack(\"1시\")\n",
        "# 전군피해\n",
        "for Unit in attack_Units: \n",
        "# from random import*\n",
        "   Unit.damaged(randrange(5,21))\n",
        "# 게임종료 \n",
        "game_over()     "
      ],
      "execution_count": null,
      "outputs": [
        {
          "output_type": "stream",
          "text": [
            "[알림] 새로운 게임을 시작합니다.\n",
            "마린유닛이 생성되었습니다.\n",
            "마린유닛이 생성되었습니다.\n",
            "마린유닛이 생성되었습니다.\n",
            "탱크유닛이 생성되었습니다.\n",
            "탱크유닛이 생성되었습니다.\n",
            "레이스유닛이 생성되었습니다.\n",
            "[지상유닛이동]\n",
            "마린:1시 방향으로 이동합니다.[속도1]\n",
            "[지상유닛이동]\n",
            "마린:1시 방향으로 이동합니다.[속도1]\n",
            "[지상유닛이동]\n",
            "마린:1시 방향으로 이동합니다.[속도1]\n",
            "[지상유닛이동]\n",
            "탱크:1시 방향으로 이동합니다.[속도1]\n",
            "[지상유닛이동]\n",
            "탱크:1시 방향으로 이동합니다.[속도1]\n",
            "[공중유닛이동]\n",
            "레이스:1시방향으로 날아갑니다.[속도5]\n",
            "[알림] 탱크 시즈모드 개발이 완료되었습니다. \n",
            "마린 :스팀팩을 사용합니다.(hp 10 감소)\n",
            "마린 :스팀팩을 사용합니다.(hp 10 감소)\n",
            "마린 :스팀팩을 사용합니다.(hp 10 감소)\n",
            "탱크:시즈모드로 전환합니다.\n",
            "탱크:시즈모드를 해제합니다.\n",
            "레이스:클로킹 모드 설정합니다\n",
            "마린:1시 방향으로 적군을 공격합니다.[공격력5]\n",
            "마린:1시 방향으로 적군을 공격합니다.[공격력5]\n",
            "마린:1시 방향으로 적군을 공격합니다.[공격력5]\n",
            "탱크:1시 방향으로 적군을 공격합니다.[공격력35.0]\n",
            "탱크:1시 방향으로 적군을 공격합니다.[공격력35.0]\n",
            "레이스:1시 방향으로 적군을 공격합니다.[공격력20]\n",
            "마린:15 데미지를 입었습니다.\n",
            "마린:현재 체력은 15입니다.\n",
            "마린:16 데미지를 입었습니다.\n",
            "마린:현재 체력은 16입니다.\n",
            "마린:15 데미지를 입었습니다.\n",
            "마린:현재 체력은 15입니다.\n",
            "탱크:19 데미지를 입었습니다.\n",
            "탱크:현재 체력은 19입니다.\n",
            "탱크:10 데미지를 입었습니다.\n",
            "탱크:현재 체력은 10입니다.\n",
            "레이스:9 데미지를 입었습니다.\n",
            "레이스:현재 체력은 9입니다.\n"
          ],
          "name": "stdout"
        }
      ]
    },
    {
      "cell_type": "code",
      "metadata": {
        "id": "vCGD-0_XPnV_",
        "colab_type": "code",
        "colab": {}
      },
      "source": [
        ""
      ],
      "execution_count": null,
      "outputs": []
    },
    {
      "cell_type": "code",
      "metadata": {
        "id": "7gheo3OKPnYe",
        "colab_type": "code",
        "colab": {}
      },
      "source": [
        ""
      ],
      "execution_count": null,
      "outputs": []
    },
    {
      "cell_type": "code",
      "metadata": {
        "id": "fflcB6BAPnbq",
        "colab_type": "code",
        "colab": {}
      },
      "source": [
        ""
      ],
      "execution_count": null,
      "outputs": []
    },
    {
      "cell_type": "code",
      "metadata": {
        "id": "TIO54z6aPnFP",
        "colab_type": "code",
        "colab": {}
      },
      "source": [
        ""
      ],
      "execution_count": null,
      "outputs": []
    }
  ]
}