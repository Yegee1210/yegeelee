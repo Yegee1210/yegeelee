{
  "nbformat": 4,
  "nbformat_minor": 0,
  "metadata": {
    "colab": {
      "name": "9번문제 .ipynb",
      "provenance": [],
      "authorship_tag": "ABX9TyO7QFNNuw1QyjMESLLw9cSn",
      "include_colab_link": true
    },
    "kernelspec": {
      "name": "python3",
      "display_name": "Python 3"
    }
  },
  "cells": [
    {
      "cell_type": "markdown",
      "metadata": {
        "id": "view-in-github",
        "colab_type": "text"
      },
      "source": [
        "<a href=\"https://colab.research.google.com/github/Yegee1210/yegeelee/blob/master/9%EB%B2%88%EB%AC%B8%EC%A0%9C_.ipynb\" target=\"_parent\"><img src=\"https://colab.research.google.com/assets/colab-badge.svg\" alt=\"Open In Colab\"/></a>"
      ]
    },
    {
      "cell_type": "code",
      "metadata": {
        "id": "5d7q8XMJ3OjK",
        "colab_type": "code",
        "colab": {}
      },
      "source": [
        "def isprime(n):\n",
        "  if n <= 1 : \n",
        "    return Flase\n",
        "  for i in range(2, n):\n",
        "    if n % i == 0:\n",
        "        return \n",
        "  return True\n",
        "\n",
        "def prime_number():\n",
        "  num_10=int(input(\"숫자를 입력해주세요.\"))\n",
        "  if isprime(num_10):\n",
        "    print(num_10, \"소수 입니다.\")\n",
        "  else: \n",
        "    print(num_10, \"소수가 아닙니다.\")\n",
        "\n",
        "if __name__==\"__main__\":\n",
        "    prime_number()"
      ],
      "execution_count": null,
      "outputs": []
    },
    {
      "cell_type": "code",
      "metadata": {
        "id": "r-3QafxD3RKh",
        "colab_type": "code",
        "colab": {
          "base_uri": "https://localhost:8080/",
          "height": 54
        },
        "outputId": "e04d1229-27fe-4b83-8265-9c79e06ecbd1"
      },
      "source": [
        "##소수 판별하기 (프라임넘버)\n",
        "def prime_number(number): # 넘버를 입력 받아 소수인지 아닌지 구분하는 함수 \n",
        "   if number !=1: # 만약 숫자가 1이 아니면 \n",
        "      for f in range(2, number):  # 2부터 넘버-1 까지 숫자에 대해서 \n",
        "         if number % f ==0: ## 숫자가 위의 인수중 하나로 나우어져 나머지가 0이면\n",
        "               return False ## 소수가 아님\n",
        "   else:                   ## 숫자가 1이 아니면 소수가 아님 \n",
        "       return False \n",
        "   return True              ## 숫자가 1이 아니면서 2부터 숫자-1일까지 수로 나눠지지않으므로 소수로 판별 \n",
        "num=int(input(\"숫자를 입력하세요\")) \n",
        "if prime_number(int(num)):\n",
        "  print(num,\"은 소수입니다\")\n",
        "else: \n",
        "  print(num,\"은 소수가 아닙니다.\")      "
      ],
      "execution_count": 11,
      "outputs": [
        {
          "output_type": "stream",
          "text": [
            "숫자를 입력하세요9\n",
            "9 은 소수가 아닙니다.\n"
          ],
          "name": "stdout"
        }
      ]
    }
  ]
}